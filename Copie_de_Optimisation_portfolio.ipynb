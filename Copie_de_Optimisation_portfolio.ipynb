{
  "nbformat": 4,
  "nbformat_minor": 0,
  "metadata": {
    "colab": {
      "name": "Copie de Optimisation_portfolio.ipynb",
      "provenance": [],
      "collapsed_sections": [],
      "authorship_tag": "ABX9TyNiDjk61UFzDbHYGt5EiPde",
      "include_colab_link": true
    },
    "kernelspec": {
      "name": "python3",
      "display_name": "Python 3"
    },
    "language_info": {
      "name": "python"
    }
  },
  "cells": [
    {
      "cell_type": "markdown",
      "metadata": {
        "id": "view-in-github",
        "colab_type": "text"
      },
      "source": [
        "<a href=\"https://colab.research.google.com/github/emnabt/ateliergit/blob/master/Copie_de_Optimisation_portfolio.ipynb\" target=\"_parent\"><img src=\"https://colab.research.google.com/assets/colab-badge.svg\" alt=\"Open In Colab\"/></a>"
      ]
    },
    {
      "cell_type": "code",
      "execution_count": null,
      "metadata": {
        "colab": {
          "base_uri": "https://localhost:8080/"
        },
        "id": "tfxTVNB1GJfh",
        "outputId": "09dc2735-ce5b-493b-e4c9-56d3f5871783"
      },
      "outputs": [
        {
          "output_type": "stream",
          "name": "stdout",
          "text": [
            "Writing functions.py\n"
          ]
        }
      ],
      "source": [
        "%%writefile functions.py\n",
        "print(\"hello\")"
      ]
    },
    {
      "cell_type": "code",
      "source": [
        "import pandas as pd\n",
        "ind = pd.read_csv('/content/ind30_m_vw_rets.csv', header=0, index_col=0)/100\n",
        "ind.index = pd.to_datetime(ind.index, format=\"%Y%m\").to_period('M')"
      ],
      "metadata": {
        "id": "J4LNNeGIGeaY"
      },
      "execution_count": null,
      "outputs": []
    },
    {
      "cell_type": "code",
      "source": [
        "ind.head()"
      ],
      "metadata": {
        "colab": {
          "base_uri": "https://localhost:8080/",
          "height": 386
        },
        "id": "n-XIxjNaHxYF",
        "outputId": "7d9dc581-1726-4062-ead6-1329093a591f"
      },
      "execution_count": null,
      "outputs": [
        {
          "output_type": "execute_result",
          "data": {
            "text/plain": [
              "          Food    Beer    Smoke   Games   Books   Hshld   Clths   Hlth   \\\n",
              "1926-07  0.0056 -0.0519  0.0129  0.0293  0.1097 -0.0048  0.0808  0.0177   \n",
              "1926-08  0.0259  0.2703  0.0650  0.0055  0.1001 -0.0358 -0.0251  0.0425   \n",
              "1926-09  0.0116  0.0402  0.0126  0.0658 -0.0099  0.0073 -0.0051  0.0069   \n",
              "1926-10 -0.0306 -0.0331  0.0106 -0.0476  0.0947 -0.0468  0.0012 -0.0057   \n",
              "1926-11  0.0635  0.0729  0.0455  0.0166 -0.0580 -0.0054  0.0187  0.0542   \n",
              "\n",
              "          Chems   Txtls  ...   Telcm   Servs   BusEq   Paper   Trans   Whlsl  \\\n",
              "1926-07  0.0814  0.0039  ...  0.0083  0.0922  0.0206  0.0770  0.0193 -0.2379   \n",
              "1926-08  0.0550  0.0814  ...  0.0217  0.0202  0.0439 -0.0238  0.0488  0.0539   \n",
              "1926-09  0.0533  0.0231  ...  0.0241  0.0225  0.0019 -0.0554  0.0005 -0.0787   \n",
              "1926-10 -0.0476  0.0100  ... -0.0011 -0.0200 -0.0109 -0.0508 -0.0264 -0.1538   \n",
              "1926-11  0.0520  0.0311  ...  0.0163  0.0377  0.0364  0.0384  0.0160  0.0467   \n",
              "\n",
              "          Rtail   Meals   Fin     Other  \n",
              "1926-07  0.0007  0.0187  0.0037  0.0520  \n",
              "1926-08 -0.0075 -0.0013  0.0446  0.0676  \n",
              "1926-09  0.0025 -0.0056 -0.0123 -0.0386  \n",
              "1926-10 -0.0220 -0.0411 -0.0516 -0.0849  \n",
              "1926-11  0.0652  0.0433  0.0224  0.0400  \n",
              "\n",
              "[5 rows x 30 columns]"
            ],
            "text/html": [
              "\n",
              "  <div id=\"df-724c1f08-488e-4f7c-9df3-224f5f032dc0\">\n",
              "    <div class=\"colab-df-container\">\n",
              "      <div>\n",
              "<style scoped>\n",
              "    .dataframe tbody tr th:only-of-type {\n",
              "        vertical-align: middle;\n",
              "    }\n",
              "\n",
              "    .dataframe tbody tr th {\n",
              "        vertical-align: top;\n",
              "    }\n",
              "\n",
              "    .dataframe thead th {\n",
              "        text-align: right;\n",
              "    }\n",
              "</style>\n",
              "<table border=\"1\" class=\"dataframe\">\n",
              "  <thead>\n",
              "    <tr style=\"text-align: right;\">\n",
              "      <th></th>\n",
              "      <th>Food</th>\n",
              "      <th>Beer</th>\n",
              "      <th>Smoke</th>\n",
              "      <th>Games</th>\n",
              "      <th>Books</th>\n",
              "      <th>Hshld</th>\n",
              "      <th>Clths</th>\n",
              "      <th>Hlth</th>\n",
              "      <th>Chems</th>\n",
              "      <th>Txtls</th>\n",
              "      <th>...</th>\n",
              "      <th>Telcm</th>\n",
              "      <th>Servs</th>\n",
              "      <th>BusEq</th>\n",
              "      <th>Paper</th>\n",
              "      <th>Trans</th>\n",
              "      <th>Whlsl</th>\n",
              "      <th>Rtail</th>\n",
              "      <th>Meals</th>\n",
              "      <th>Fin</th>\n",
              "      <th>Other</th>\n",
              "    </tr>\n",
              "  </thead>\n",
              "  <tbody>\n",
              "    <tr>\n",
              "      <th>1926-07</th>\n",
              "      <td>0.0056</td>\n",
              "      <td>-0.0519</td>\n",
              "      <td>0.0129</td>\n",
              "      <td>0.0293</td>\n",
              "      <td>0.1097</td>\n",
              "      <td>-0.0048</td>\n",
              "      <td>0.0808</td>\n",
              "      <td>0.0177</td>\n",
              "      <td>0.0814</td>\n",
              "      <td>0.0039</td>\n",
              "      <td>...</td>\n",
              "      <td>0.0083</td>\n",
              "      <td>0.0922</td>\n",
              "      <td>0.0206</td>\n",
              "      <td>0.0770</td>\n",
              "      <td>0.0193</td>\n",
              "      <td>-0.2379</td>\n",
              "      <td>0.0007</td>\n",
              "      <td>0.0187</td>\n",
              "      <td>0.0037</td>\n",
              "      <td>0.0520</td>\n",
              "    </tr>\n",
              "    <tr>\n",
              "      <th>1926-08</th>\n",
              "      <td>0.0259</td>\n",
              "      <td>0.2703</td>\n",
              "      <td>0.0650</td>\n",
              "      <td>0.0055</td>\n",
              "      <td>0.1001</td>\n",
              "      <td>-0.0358</td>\n",
              "      <td>-0.0251</td>\n",
              "      <td>0.0425</td>\n",
              "      <td>0.0550</td>\n",
              "      <td>0.0814</td>\n",
              "      <td>...</td>\n",
              "      <td>0.0217</td>\n",
              "      <td>0.0202</td>\n",
              "      <td>0.0439</td>\n",
              "      <td>-0.0238</td>\n",
              "      <td>0.0488</td>\n",
              "      <td>0.0539</td>\n",
              "      <td>-0.0075</td>\n",
              "      <td>-0.0013</td>\n",
              "      <td>0.0446</td>\n",
              "      <td>0.0676</td>\n",
              "    </tr>\n",
              "    <tr>\n",
              "      <th>1926-09</th>\n",
              "      <td>0.0116</td>\n",
              "      <td>0.0402</td>\n",
              "      <td>0.0126</td>\n",
              "      <td>0.0658</td>\n",
              "      <td>-0.0099</td>\n",
              "      <td>0.0073</td>\n",
              "      <td>-0.0051</td>\n",
              "      <td>0.0069</td>\n",
              "      <td>0.0533</td>\n",
              "      <td>0.0231</td>\n",
              "      <td>...</td>\n",
              "      <td>0.0241</td>\n",
              "      <td>0.0225</td>\n",
              "      <td>0.0019</td>\n",
              "      <td>-0.0554</td>\n",
              "      <td>0.0005</td>\n",
              "      <td>-0.0787</td>\n",
              "      <td>0.0025</td>\n",
              "      <td>-0.0056</td>\n",
              "      <td>-0.0123</td>\n",
              "      <td>-0.0386</td>\n",
              "    </tr>\n",
              "    <tr>\n",
              "      <th>1926-10</th>\n",
              "      <td>-0.0306</td>\n",
              "      <td>-0.0331</td>\n",
              "      <td>0.0106</td>\n",
              "      <td>-0.0476</td>\n",
              "      <td>0.0947</td>\n",
              "      <td>-0.0468</td>\n",
              "      <td>0.0012</td>\n",
              "      <td>-0.0057</td>\n",
              "      <td>-0.0476</td>\n",
              "      <td>0.0100</td>\n",
              "      <td>...</td>\n",
              "      <td>-0.0011</td>\n",
              "      <td>-0.0200</td>\n",
              "      <td>-0.0109</td>\n",
              "      <td>-0.0508</td>\n",
              "      <td>-0.0264</td>\n",
              "      <td>-0.1538</td>\n",
              "      <td>-0.0220</td>\n",
              "      <td>-0.0411</td>\n",
              "      <td>-0.0516</td>\n",
              "      <td>-0.0849</td>\n",
              "    </tr>\n",
              "    <tr>\n",
              "      <th>1926-11</th>\n",
              "      <td>0.0635</td>\n",
              "      <td>0.0729</td>\n",
              "      <td>0.0455</td>\n",
              "      <td>0.0166</td>\n",
              "      <td>-0.0580</td>\n",
              "      <td>-0.0054</td>\n",
              "      <td>0.0187</td>\n",
              "      <td>0.0542</td>\n",
              "      <td>0.0520</td>\n",
              "      <td>0.0311</td>\n",
              "      <td>...</td>\n",
              "      <td>0.0163</td>\n",
              "      <td>0.0377</td>\n",
              "      <td>0.0364</td>\n",
              "      <td>0.0384</td>\n",
              "      <td>0.0160</td>\n",
              "      <td>0.0467</td>\n",
              "      <td>0.0652</td>\n",
              "      <td>0.0433</td>\n",
              "      <td>0.0224</td>\n",
              "      <td>0.0400</td>\n",
              "    </tr>\n",
              "  </tbody>\n",
              "</table>\n",
              "<p>5 rows × 30 columns</p>\n",
              "</div>\n",
              "      <button class=\"colab-df-convert\" onclick=\"convertToInteractive('df-724c1f08-488e-4f7c-9df3-224f5f032dc0')\"\n",
              "              title=\"Convert this dataframe to an interactive table.\"\n",
              "              style=\"display:none;\">\n",
              "        \n",
              "  <svg xmlns=\"http://www.w3.org/2000/svg\" height=\"24px\"viewBox=\"0 0 24 24\"\n",
              "       width=\"24px\">\n",
              "    <path d=\"M0 0h24v24H0V0z\" fill=\"none\"/>\n",
              "    <path d=\"M18.56 5.44l.94 2.06.94-2.06 2.06-.94-2.06-.94-.94-2.06-.94 2.06-2.06.94zm-11 1L8.5 8.5l.94-2.06 2.06-.94-2.06-.94L8.5 2.5l-.94 2.06-2.06.94zm10 10l.94 2.06.94-2.06 2.06-.94-2.06-.94-.94-2.06-.94 2.06-2.06.94z\"/><path d=\"M17.41 7.96l-1.37-1.37c-.4-.4-.92-.59-1.43-.59-.52 0-1.04.2-1.43.59L10.3 9.45l-7.72 7.72c-.78.78-.78 2.05 0 2.83L4 21.41c.39.39.9.59 1.41.59.51 0 1.02-.2 1.41-.59l7.78-7.78 2.81-2.81c.8-.78.8-2.07 0-2.86zM5.41 20L4 18.59l7.72-7.72 1.47 1.35L5.41 20z\"/>\n",
              "  </svg>\n",
              "      </button>\n",
              "      \n",
              "  <style>\n",
              "    .colab-df-container {\n",
              "      display:flex;\n",
              "      flex-wrap:wrap;\n",
              "      gap: 12px;\n",
              "    }\n",
              "\n",
              "    .colab-df-convert {\n",
              "      background-color: #E8F0FE;\n",
              "      border: none;\n",
              "      border-radius: 50%;\n",
              "      cursor: pointer;\n",
              "      display: none;\n",
              "      fill: #1967D2;\n",
              "      height: 32px;\n",
              "      padding: 0 0 0 0;\n",
              "      width: 32px;\n",
              "    }\n",
              "\n",
              "    .colab-df-convert:hover {\n",
              "      background-color: #E2EBFA;\n",
              "      box-shadow: 0px 1px 2px rgba(60, 64, 67, 0.3), 0px 1px 3px 1px rgba(60, 64, 67, 0.15);\n",
              "      fill: #174EA6;\n",
              "    }\n",
              "\n",
              "    [theme=dark] .colab-df-convert {\n",
              "      background-color: #3B4455;\n",
              "      fill: #D2E3FC;\n",
              "    }\n",
              "\n",
              "    [theme=dark] .colab-df-convert:hover {\n",
              "      background-color: #434B5C;\n",
              "      box-shadow: 0px 1px 3px 1px rgba(0, 0, 0, 0.15);\n",
              "      filter: drop-shadow(0px 1px 2px rgba(0, 0, 0, 0.3));\n",
              "      fill: #FFFFFF;\n",
              "    }\n",
              "  </style>\n",
              "\n",
              "      <script>\n",
              "        const buttonEl =\n",
              "          document.querySelector('#df-724c1f08-488e-4f7c-9df3-224f5f032dc0 button.colab-df-convert');\n",
              "        buttonEl.style.display =\n",
              "          google.colab.kernel.accessAllowed ? 'block' : 'none';\n",
              "\n",
              "        async function convertToInteractive(key) {\n",
              "          const element = document.querySelector('#df-724c1f08-488e-4f7c-9df3-224f5f032dc0');\n",
              "          const dataTable =\n",
              "            await google.colab.kernel.invokeFunction('convertToInteractive',\n",
              "                                                     [key], {});\n",
              "          if (!dataTable) return;\n",
              "\n",
              "          const docLinkHtml = 'Like what you see? Visit the ' +\n",
              "            '<a target=\"_blank\" href=https://colab.research.google.com/notebooks/data_table.ipynb>data table notebook</a>'\n",
              "            + ' to learn more about interactive tables.';\n",
              "          element.innerHTML = '';\n",
              "          dataTable['output_type'] = 'display_data';\n",
              "          await google.colab.output.renderOutput(dataTable, element);\n",
              "          const docLink = document.createElement('div');\n",
              "          docLink.innerHTML = docLinkHtml;\n",
              "          element.appendChild(docLink);\n",
              "        }\n",
              "      </script>\n",
              "    </div>\n",
              "  </div>\n",
              "  "
            ]
          },
          "metadata": {},
          "execution_count": 4
        }
      ]
    },
    {
      "cell_type": "markdown",
      "source": [
        "```python\n",
        "def get_ind_returns():\n",
        "    \"\"\"\n",
        "    Load and format the Ken French 30 Industry Portfolios Value Weighted Monthly Returns\n",
        "    \"\"\"\n",
        "    ind = pd.read_csv(\"/content/ind30_m_vw_rets.csv\", header=0, index_col=0)/100\n",
        "    ind.index = pd.to_datetime(ind.index, format=\"%Y%m\").to_period('M')  #ligne\n",
        "    ind.columns = ind.columns.str.strip() # extraire les colonnes en string et enlever les espaces \n",
        "    return ind\n",
        "```"
      ],
      "metadata": {
        "id": "Gp5sb3CEbrVu"
      }
    },
    {
      "cell_type": "code",
      "source": [
        "%load_ext autoreload\n",
        "%autoreload 2\n",
        "%matplotlib inline\n",
        "\n",
        "import functions as fct\n",
        "ind = fct.get_ind_returns()\n",
        "ind.shape"
      ],
      "metadata": {
        "colab": {
          "base_uri": "https://localhost:8080/"
        },
        "id": "DxG0V2i-H-zQ",
        "outputId": "97f36843-26f5-480b-e48f-e93d376b60ef"
      },
      "execution_count": null,
      "outputs": [
        {
          "output_type": "execute_result",
          "data": {
            "text/plain": [
              "(1110, 30)"
            ]
          },
          "metadata": {},
          "execution_count": 5
        }
      ]
    },
    {
      "cell_type": "markdown",
      "source": [
        "```python\n",
        "def drawdown(return_series: pd.Series):\n",
        "    \"\"\"Takes a time series of asset returns.\n",
        "       returns a DataFrame with columns for\n",
        "       the wealth index, \n",
        "       the previous peaks, and \n",
        "       the percentage drawdown\n",
        "    \"\"\"\n",
        "    wealth_index = 1000*(1+return_series).cumprod()\n",
        "    previous_peaks = wealth_index.cummax()\n",
        "    drawdowns = (wealth_index - previous_peaks)/previous_peaks\n",
        "    return pd.DataFrame({\"Wealth\": wealth_index, \n",
        "                         \"Previous Peak\": previous_peaks, \n",
        "                         \"Drawdown\": drawdowns})\n",
        "\n",
        "```                         \n"
      ],
      "metadata": {
        "id": "xc8cMgkycKfO"
      }
    },
    {
      "cell_type": "code",
      "source": [
        "fct.drawdown(ind[\"Food\"])[\"Drawdown\"].plot.line()"
      ],
      "metadata": {
        "colab": {
          "base_uri": "https://localhost:8080/",
          "height": 282
        },
        "id": "XJNmd67jIl2f",
        "outputId": "91f0ee13-3e4d-4256-8089-c574190da140"
      },
      "execution_count": null,
      "outputs": [
        {
          "output_type": "execute_result",
          "data": {
            "text/plain": [
              "<matplotlib.axes._subplots.AxesSubplot at 0x7f16b1405f90>"
            ]
          },
          "metadata": {},
          "execution_count": 10
        },
        {
          "output_type": "display_data",
          "data": {
            "text/plain": [
              "<Figure size 432x288 with 1 Axes>"
            ],
            "image/png": "[encoded data removed]"
          },
          "metadata": {
            "needs_background": "light"
          }
        }
      ]
    },
    {
      "cell_type": "markdown",
      "source": [
        "```python\n",
        "\n",
        "from scipy.stats import norm\n",
        "def var_gaussian(r, level=5, modified=False):\n",
        "    \"\"\"\n",
        "    Returns the Parametric Gauusian VaR of a Series or DataFrame\n",
        "    If \"modified\" is True, then the modified VaR is returned,\n",
        "    using the Cornish-Fisher modification\n",
        "    \"\"\"\n",
        "    # compute the Z score assuming it was Gaussian\n",
        "    z = norm.ppf(level/100)\n",
        "    if modified:\n",
        "        # modify the Z score based on observed skewness and kurtosis\n",
        "        s = skewness(r)\n",
        "        k = kurtosis(r)\n",
        "        z = (z +\n",
        "                (z**2 - 1)*s/6 +\n",
        "                (z**3 -3*z)*(k-3)/24 -\n",
        "                (2*z**3 - 5*z)*(s**2)/36\n",
        "            )\n",
        "    return -(r.mean() + z*r.std(ddof=0))\n",
        "\n",
        "```    "
      ],
      "metadata": {
        "id": "3WXaiZ_CclOJ"
      }
    },
    {
      "cell_type": "code",
      "source": [
        "fct.var_gaussian(ind[[\"Food\", \"Beer\", \"Smoke\"]], modified=True)"
      ],
      "metadata": {
        "colab": {
          "base_uri": "https://localhost:8080/"
        },
        "id": "7N_uQSKYIose",
        "outputId": "0aaed026-a7ab-4486-ecf3-9cffdcef0c2d"
      },
      "execution_count": null,
      "outputs": [
        {
          "output_type": "execute_result",
          "data": {
            "text/plain": [
              "Food     0.061207\n",
              "Beer     0.033881\n",
              "Smoke    0.080292\n",
              "dtype: float64"
            ]
          },
          "metadata": {},
          "execution_count": 7
        }
      ]
    },
    {
      "cell_type": "code",
      "source": [
        "fct.var_gaussian(ind).sort_values().plot.bar()"
      ],
      "metadata": {
        "id": "F8K6ngIyIusH",
        "colab": {
          "base_uri": "https://localhost:8080/",
          "height": 307
        },
        "outputId": "7d9e4794-7fad-43a9-b74b-c7c3302b4ce9"
      },
      "execution_count": null,
      "outputs": [
        {
          "output_type": "execute_result",
          "data": {
            "text/plain": [
              "<matplotlib.axes._subplots.AxesSubplot at 0x7fbb43bd10d0>"
            ]
          },
          "metadata": {},
          "execution_count": 8
        },
        {
          "output_type": "display_data",
          "data": {
            "text/plain": [
              "<Figure size 432x288 with 1 Axes>"
            ],
            "image/png": "[encoded data removed]"
          },
          "metadata": {
            "needs_background": "light"
          }
        }
      ]
    },
    {
      "cell_type": "markdown",
      "source": [
        "```python\n",
        "\n",
        "def sharpe_ratio(r, riskfree_rate, periods_per_year):\n",
        "    \"\"\"\n",
        "    Computes the annualized sharpe ratio of a set of returns\n",
        "    \"\"\"\n",
        "    # convert the annual riskfree rate to per period\n",
        "    rf_per_period = (1+riskfree_rate)**(1/periods_per_year)-1\n",
        "    excess_ret = r - rf_per_period\n",
        "    ann_ex_ret = annualize_rets(excess_ret, periods_per_year)\n",
        "    ann_vol = annualize_vol(r, periods_per_year)\n",
        "    return ann_ex_ret/ann_vol\n",
        "\n",
        "```    "
      ],
      "metadata": {
        "id": "7-6ZdvJeczsC"
      }
    },
    {
      "cell_type": "code",
      "source": [
        "fct.sharpe_ratio(ind, 0.03, 12).sort_values()"
      ],
      "metadata": {
        "colab": {
          "base_uri": "https://localhost:8080/"
        },
        "id": "-jTcE5EfIzsK",
        "outputId": "00796b6a-4e01-48fe-fd1d-96f7c66f0e20"
      },
      "execution_count": null,
      "outputs": [
        {
          "output_type": "execute_result",
          "data": {
            "text/plain": [
              "Coal     0.084275\n",
              "Steel    0.126052\n",
              "Whlsl    0.143494\n",
              "Other    0.160862\n",
              "Mines    0.177109\n",
              "Books    0.192686\n",
              "Games    0.194420\n",
              "Txtls    0.194906\n",
              "Trans    0.214624\n",
              "Autos    0.227548\n",
              "Cnstr    0.229351\n",
              "FabPr    0.265297\n",
              "Servs    0.267263\n",
              "Fin      0.282243\n",
              "Carry    0.285916\n",
              "ElcEq    0.293063\n",
              "Clths    0.293105\n",
              "Util     0.306945\n",
              "Hshld    0.307349\n",
              "Oil      0.330358\n",
              "Meals    0.332717\n",
              "BusEq    0.342974\n",
              "Chems    0.344903\n",
              "Beer     0.351780\n",
              "Rtail    0.364325\n",
              "Paper    0.364722\n",
              "Telcm    0.383294\n",
              "Hlth     0.437783\n",
              "Smoke    0.446361\n",
              "Food     0.454770\n",
              "dtype: float64"
            ]
          },
          "metadata": {},
          "execution_count": 9
        }
      ]
    },
    {
      "cell_type": "code",
      "source": [
        "fct.sharpe_ratio(ind, 0.03, 12).sort_values().plot.bar(title=\"Sharpe Ratios 1926-2018\")"
      ],
      "metadata": {
        "colab": {
          "base_uri": "https://localhost:8080/",
          "height": 323
        },
        "id": "4JUJKlLiI4IM",
        "outputId": "b921c47c-25fb-49fb-b22e-d6399ba3b937"
      },
      "execution_count": null,
      "outputs": [
        {
          "output_type": "execute_result",
          "data": {
            "text/plain": [
              "<matplotlib.axes._subplots.AxesSubplot at 0x7fbb36de1f10>"
            ]
          },
          "metadata": {},
          "execution_count": 10
        },
        {
          "output_type": "display_data",
          "data": {
            "text/plain": [
              "<Figure size 432x288 with 1 Axes>"
            ],
            "image/png": "[encoded data removed]"
          },
          "metadata": {
            "needs_background": "light"
          }
        }
      ]
    },
    {
      "cell_type": "code",
      "source": [
        "fct.sharpe_ratio(ind[\"2000\":], 0.03, 12).sort_values().plot.bar(title='Industry Sharpe Ratios since 2000')"
      ],
      "metadata": {
        "colab": {
          "base_uri": "https://localhost:8080/",
          "height": 323
        },
        "id": "h2YbXEgvJEl0",
        "outputId": "2f1aefa5-13c5-44f8-bc1d-6e55a0dbddf2"
      },
      "execution_count": null,
      "outputs": [
        {
          "output_type": "execute_result",
          "data": {
            "text/plain": [
              "<matplotlib.axes._subplots.AxesSubplot at 0x7fbb36de8b90>"
            ]
          },
          "metadata": {},
          "execution_count": 11
        },
        {
          "output_type": "display_data",
          "data": {
            "text/plain": [
              "<Figure size 432x288 with 1 Axes>"
            ],
            "image/png": "[encoded data removed]"
          },
          "metadata": {
            "needs_background": "light"
          }
        }
      ]
    },
    {
      "cell_type": "markdown",
      "source": [
        "```python\n",
        "def annualize_rets(r, periods_per_year):\n",
        "    \"\"\"\n",
        "    Annualizes a set of returns\n",
        "    We should infer the periods per year\n",
        "    but that is currently left as an exercise\n",
        "    to the reader :-)\n",
        "    \"\"\"\n",
        "    compounded_growth = (1+r).prod()\n",
        "    n_periods = r.shape[0]\n",
        "    return compounded_growth**(periods_per_year/n_periods)-1\n",
        "\n",
        "```"
      ],
      "metadata": {
        "id": "Ay75end0dFuJ"
      }
    },
    {
      "cell_type": "code",
      "source": [
        "er = fct.annualize_rets(ind[\"1995\":\"2000\"], 12)"
      ],
      "metadata": {
        "id": "kEEprkDuJHiU"
      },
      "execution_count": null,
      "outputs": []
    },
    {
      "cell_type": "code",
      "source": [
        "er.sort_values().plot.bar()"
      ],
      "metadata": {
        "colab": {
          "base_uri": "https://localhost:8080/",
          "height": 307
        },
        "id": "fXhNZecYJODa",
        "outputId": "adc6a2dd-0e65-4360-e5ea-bf59fcd7e463"
      },
      "execution_count": null,
      "outputs": [
        {
          "output_type": "execute_result",
          "data": {
            "text/plain": [
              "<matplotlib.axes._subplots.AxesSubplot at 0x7fbb367be950>"
            ]
          },
          "metadata": {},
          "execution_count": 13
        },
        {
          "output_type": "display_data",
          "data": {
            "text/plain": [
              "<Figure size 432x288 with 1 Axes>"
            ],
            "image/png": "[encoded data removed]"
          },
          "metadata": {
            "needs_background": "light"
          }
        }
      ]
    },
    {
      "cell_type": "markdown",
      "source": [
        "covariance matrix"
      ],
      "metadata": {
        "id": "yXBeicwxJT2e"
      }
    },
    {
      "cell_type": "code",
      "source": [
        "cov = ind[\"1995\":\"2000\"].cov()\n",
        "cov.shape"
      ],
      "metadata": {
        "colab": {
          "base_uri": "https://localhost:8080/"
        },
        "id": "WhXc3piWJR3S",
        "outputId": "83bcfcac-fe3f-47ee-c64d-86878e32bee5"
      },
      "execution_count": null,
      "outputs": [
        {
          "output_type": "execute_result",
          "data": {
            "text/plain": [
              "(30, 30)"
            ]
          },
          "metadata": {},
          "execution_count": 7
        }
      ]
    },
    {
      "cell_type": "code",
      "source": [
        "cov"
      ],
      "metadata": {
        "colab": {
          "base_uri": "https://localhost:8080/",
          "height": 1000
        },
        "id": "MdcW0s5LJY07",
        "outputId": "52d82664-0de3-4805-ce34-c32a7e31d1e6"
      },
      "execution_count": null,
      "outputs": [
        {
          "output_type": "execute_result",
          "data": {
            "text/plain": [
              "           Food      Beer     Smoke     Games     Books     Hshld     Clths  \\\n",
              "Food   0.002287  0.002077  0.001757  0.000701  0.000886  0.001208  0.001474   \n",
              "Beer   0.002077  0.004599  0.001143  0.001147  0.000765  0.002447  0.001415   \n",
              "Smoke  0.001757  0.001143  0.007130  0.000296 -0.000099  0.000981  0.000761   \n",
              "Games  0.000701  0.001147  0.000296  0.003271  0.001485  0.001018  0.001814   \n",
              "Books  0.000886  0.000765 -0.000099  0.001485  0.002302  0.000876  0.002037   \n",
              "Hshld  0.001208  0.002447  0.000981  0.001018  0.000876  0.002849  0.001046   \n",
              "Clths  0.001474  0.001415  0.000761  0.001814  0.002037  0.001046  0.004896   \n",
              "Hlth   0.001105  0.001689  0.000877  0.001219  0.000657  0.001253  0.000759   \n",
              "Chems  0.001253  0.001292  0.000687  0.001547  0.001559  0.001226  0.002547   \n",
              "Txtls  0.001021  0.001721  0.000555  0.001291  0.001362  0.001172  0.002105   \n",
              "Cnstr  0.001282  0.001945  0.001181  0.001723  0.001531  0.001770  0.002486   \n",
              "Steel  0.000027  0.000131  0.000167  0.002670  0.001797  0.001050  0.001702   \n",
              "FabPr  0.000613  0.000666  0.000668  0.002498  0.001704  0.001125  0.002430   \n",
              "ElcEq  0.001146  0.001107 -0.000013  0.001980  0.002084  0.001426  0.002239   \n",
              "Autos  0.000547  0.001296  0.000223  0.001994  0.001550  0.001466  0.002521   \n",
              "Carry  0.001419  0.001804  0.001485  0.001644  0.001301  0.001704  0.002873   \n",
              "Mines  0.000829  0.000272  0.001311  0.001600  0.001281  0.000598  0.002467   \n",
              "Coal   0.000034  0.001261 -0.000544  0.001557  0.002051  0.001787  0.002433   \n",
              "Oil    0.000933  0.000672  0.000849  0.000968  0.000868  0.000541  0.001646   \n",
              "Util   0.000858  0.000631  0.001118  0.000023  0.000455  0.000350  0.000646   \n",
              "Telcm  0.000610  0.000978  0.000057  0.001615  0.001627  0.000889  0.001263   \n",
              "Servs  0.000211  0.000400 -0.000266  0.002399  0.001996  0.001111  0.001401   \n",
              "BusEq -0.000280  0.000028 -0.000300  0.002935  0.001624  0.000906  0.000746   \n",
              "Paper  0.001205  0.001455  0.001061  0.001615  0.001481  0.001594  0.002683   \n",
              "Trans  0.001312  0.001974  0.000241  0.001438  0.001576  0.001366  0.002466   \n",
              "Whlsl  0.000633  0.000609  0.001363  0.001681  0.001205  0.000578  0.001654   \n",
              "Rtail  0.001165  0.001442  0.000069  0.001649  0.001995  0.001157  0.002607   \n",
              "Meals  0.001085  0.001634  0.000590  0.001383  0.001026  0.001076  0.002229   \n",
              "Fin    0.001839  0.002236  0.001117  0.002080  0.001979  0.001652  0.002699   \n",
              "Other  0.000898  0.001196  0.001418  0.002088  0.001283  0.001322  0.001974   \n",
              "\n",
              "           Hlth     Chems     Txtls  ...     Telcm     Servs     BusEq  \\\n",
              "Food   0.001105  0.001253  0.001021  ...  0.000610  0.000211 -0.000280   \n",
              "Beer   0.001689  0.001292  0.001721  ...  0.000978  0.000400  0.000028   \n",
              "Smoke  0.000877  0.000687  0.000555  ...  0.000057 -0.000266 -0.000300   \n",
              "Games  0.001219  0.001547  0.001291  ...  0.001615  0.002399  0.002935   \n",
              "Books  0.000657  0.001559  0.001362  ...  0.001627  0.001996  0.001624   \n",
              "Hshld  0.001253  0.001226  0.001172  ...  0.000889  0.001111  0.000906   \n",
              "Clths  0.000759  0.002547  0.002105  ...  0.001263  0.001401  0.000746   \n",
              "Hlth   0.002252  0.000444  0.000538  ...  0.001093  0.001390  0.001264   \n",
              "Chems  0.000444  0.002944  0.001705  ...  0.000860  0.001072  0.000935   \n",
              "Txtls  0.000538  0.001705  0.002882  ...  0.000790  0.000582  0.000685   \n",
              "Cnstr  0.001217  0.001829  0.001648  ...  0.001488  0.002169  0.001968   \n",
              "Steel  0.000836  0.002327  0.001321  ...  0.001987  0.003934  0.005049   \n",
              "FabPr  0.000768  0.002273  0.001576  ...  0.001428  0.002647  0.003732   \n",
              "ElcEq  0.001108  0.001560  0.001102  ...  0.002058  0.003312  0.002968   \n",
              "Autos  0.000851  0.001882  0.001811  ...  0.001544  0.001800  0.002273   \n",
              "Carry  0.000755  0.002374  0.001842  ...  0.000845  0.001082  0.001261   \n",
              "Mines  0.001103  0.002345  0.001274  ...  0.001456  0.002260  0.002199   \n",
              "Coal   0.001549  0.001910  0.000652  ...  0.000912  0.002373  0.002643   \n",
              "Oil    0.000523  0.001843  0.001104  ...  0.000394  0.001002  0.000920   \n",
              "Util   0.000543  0.000545  0.000777  ...  0.000136 -0.000596 -0.001000   \n",
              "Telcm  0.001093  0.000860  0.000790  ...  0.003065  0.002971  0.002708   \n",
              "Servs  0.001390  0.001072  0.000582  ...  0.002971  0.006484  0.006079   \n",
              "BusEq  0.001264  0.000935  0.000685  ...  0.002708  0.006079  0.008346   \n",
              "Paper  0.000552  0.002581  0.001869  ...  0.001097  0.001173  0.001267   \n",
              "Trans  0.000880  0.001966  0.001760  ...  0.001366  0.001299  0.001225   \n",
              "Whlsl  0.000907  0.001257  0.001426  ...  0.001001  0.001794  0.002178   \n",
              "Rtail  0.000770  0.001661  0.001696  ...  0.001718  0.002447  0.001756   \n",
              "Meals  0.000900  0.001425  0.001126  ...  0.001013  0.000964  0.000630   \n",
              "Fin    0.001412  0.002143  0.001789  ...  0.001560  0.001630  0.001395   \n",
              "Other  0.001099  0.001832  0.001668  ...  0.001129  0.002029  0.002305   \n",
              "\n",
              "          Paper     Trans     Whlsl     Rtail     Meals       Fin     Other  \n",
              "Food   0.001205  0.001312  0.000633  0.001165  0.001085  0.001839  0.000898  \n",
              "Beer   0.001455  0.001974  0.000609  0.001442  0.001634  0.002236  0.001196  \n",
              "Smoke  0.001061  0.000241  0.001363  0.000069  0.000590  0.001117  0.001418  \n",
              "Games  0.001615  0.001438  0.001681  0.001649  0.001383  0.002080  0.002088  \n",
              "Books  0.001481  0.001576  0.001205  0.001995  0.001026  0.001979  0.001283  \n",
              "Hshld  0.001594  0.001366  0.000578  0.001157  0.001076  0.001652  0.001322  \n",
              "Clths  0.002683  0.002466  0.001654  0.002607  0.002229  0.002699  0.001974  \n",
              "Hlth   0.000552  0.000880  0.000907  0.000770  0.000900  0.001412  0.001099  \n",
              "Chems  0.002581  0.001966  0.001257  0.001661  0.001425  0.002143  0.001832  \n",
              "Txtls  0.001869  0.001760  0.001426  0.001696  0.001126  0.001789  0.001668  \n",
              "Cnstr  0.001922  0.002030  0.001453  0.001852  0.001810  0.002331  0.001573  \n",
              "Steel  0.002306  0.001528  0.002210  0.001423  0.000553  0.001851  0.003370  \n",
              "FabPr  0.002367  0.001949  0.002082  0.001669  0.001507  0.001985  0.002458  \n",
              "ElcEq  0.001540  0.001623  0.001080  0.002326  0.001300  0.002323  0.001556  \n",
              "Autos  0.001957  0.001963  0.001543  0.001792  0.001624  0.002226  0.002055  \n",
              "Carry  0.002619  0.002232  0.001461  0.001702  0.001868  0.002368  0.002159  \n",
              "Mines  0.002562  0.001623  0.001991  0.001537  0.001218  0.001757  0.002606  \n",
              "Coal   0.002099  0.001213  0.001793  0.000597  0.000382  0.002425  0.001443  \n",
              "Oil    0.001570  0.001280  0.001423  0.000806  0.001091  0.001608  0.001688  \n",
              "Util   0.000387  0.000468  0.000719 -0.000099  0.000315  0.000978  0.000840  \n",
              "Telcm  0.001097  0.001366  0.001001  0.001718  0.001013  0.001560  0.001129  \n",
              "Servs  0.001173  0.001299  0.001794  0.002447  0.000964  0.001630  0.002029  \n",
              "BusEq  0.001267  0.001225  0.002178  0.001756  0.000630  0.001395  0.002305  \n",
              "Paper  0.003004  0.002107  0.001396  0.001644  0.001420  0.002150  0.001686  \n",
              "Trans  0.002107  0.002633  0.001084  0.001831  0.001741  0.002270  0.001557  \n",
              "Whlsl  0.001396  0.001084  0.002341  0.001061  0.000848  0.001594  0.001896  \n",
              "Rtail  0.001644  0.001831  0.001061  0.003197  0.001890  0.002010  0.001314  \n",
              "Meals  0.001420  0.001741  0.000848  0.001890  0.002630  0.001765  0.001129  \n",
              "Fin    0.002150  0.002270  0.001594  0.002010  0.001765  0.003459  0.001945  \n",
              "Other  0.001686  0.001557  0.001896  0.001314  0.001129  0.001945  0.003655  \n",
              "\n",
              "[30 rows x 30 columns]"
            ],
            "text/html": [
              "\n",
              "  <div id=\"df-7cb582c4-4e8e-4d1c-83e3-9eca6485d37a\">\n",
              "    <div class=\"colab-df-container\">\n",
              "      <div>\n",
              "<style scoped>\n",
              "    .dataframe tbody tr th:only-of-type {\n",
              "        vertical-align: middle;\n",
              "    }\n",
              "\n",
              "    .dataframe tbody tr th {\n",
              "        vertical-align: top;\n",
              "    }\n",
              "\n",
              "    .dataframe thead th {\n",
              "        text-align: right;\n",
              "    }\n",
              "</style>\n",
              "<table border=\"1\" class=\"dataframe\">\n",
              "  <thead>\n",
              "    <tr style=\"text-align: right;\">\n",
              "      <th></th>\n",
              "      <th>Food</th>\n",
              "      <th>Beer</th>\n",
              "      <th>Smoke</th>\n",
              "      <th>Games</th>\n",
              "      <th>Books</th>\n",
              "      <th>Hshld</th>\n",
              "      <th>Clths</th>\n",
              "      <th>Hlth</th>\n",
              "      <th>Chems</th>\n",
              "      <th>Txtls</th>\n",
              "      <th>...</th>\n",
              "      <th>Telcm</th>\n",
              "      <th>Servs</th>\n",
              "      <th>BusEq</th>\n",
              "      <th>Paper</th>\n",
              "      <th>Trans</th>\n",
              "      <th>Whlsl</th>\n",
              "      <th>Rtail</th>\n",
              "      <th>Meals</th>\n",
              "      <th>Fin</th>\n",
              "      <th>Other</th>\n",
              "    </tr>\n",
              "  </thead>\n",
              "  <tbody>\n",
              "    <tr>\n",
              "      <th>Food</th>\n",
              "      <td>0.002287</td>\n",
              "      <td>0.002077</td>\n",
              "      <td>0.001757</td>\n",
              "      <td>0.000701</td>\n",
              "      <td>0.000886</td>\n",
              "      <td>0.001208</td>\n",
              "      <td>0.001474</td>\n",
              "      <td>0.001105</td>\n",
              "      <td>0.001253</td>\n",
              "      <td>0.001021</td>\n",
              "      <td>...</td>\n",
              "      <td>0.000610</td>\n",
              "      <td>0.000211</td>\n",
              "      <td>-0.000280</td>\n",
              "      <td>0.001205</td>\n",
              "      <td>0.001312</td>\n",
              "      <td>0.000633</td>\n",
              "      <td>0.001165</td>\n",
              "      <td>0.001085</td>\n",
              "      <td>0.001839</td>\n",
              "      <td>0.000898</td>\n",
              "    </tr>\n",
              "    <tr>\n",
              "      <th>Beer</th>\n",
              "      <td>0.002077</td>\n",
              "      <td>0.004599</td>\n",
              "      <td>0.001143</td>\n",
              "      <td>0.001147</td>\n",
              "      <td>0.000765</td>\n",
              "      <td>0.002447</td>\n",
              "      <td>0.001415</td>\n",
              "      <td>0.001689</td>\n",
              "      <td>0.001292</td>\n",
              "      <td>0.001721</td>\n",
              "      <td>...</td>\n",
              "      <td>0.000978</td>\n",
              "      <td>0.000400</td>\n",
              "      <td>0.000028</td>\n",
              "      <td>0.001455</td>\n",
              "      <td>0.001974</td>\n",
              "      <td>0.000609</td>\n",
              "      <td>0.001442</td>\n",
              "      <td>0.001634</td>\n",
              "      <td>0.002236</td>\n",
              "      <td>0.001196</td>\n",
              "    </tr>\n",
              "    <tr>\n",
              "      <th>Smoke</th>\n",
              "      <td>0.001757</td>\n",
              "      <td>0.001143</td>\n",
              "      <td>0.007130</td>\n",
              "      <td>0.000296</td>\n",
              "      <td>-0.000099</td>\n",
              "      <td>0.000981</td>\n",
              "      <td>0.000761</td>\n",
              "      <td>0.000877</td>\n",
              "      <td>0.000687</td>\n",
              "      <td>0.000555</td>\n",
              "      <td>...</td>\n",
              "      <td>0.000057</td>\n",
              "      <td>-0.000266</td>\n",
              "      <td>-0.000300</td>\n",
              "      <td>0.001061</td>\n",
              "      <td>0.000241</td>\n",
              "      <td>0.001363</td>\n",
              "      <td>0.000069</td>\n",
              "      <td>0.000590</td>\n",
              "      <td>0.001117</td>\n",
              "      <td>0.001418</td>\n",
              "    </tr>\n",
              "    <tr>\n",
              "      <th>Games</th>\n",
              "      <td>0.000701</td>\n",
              "      <td>0.001147</td>\n",
              "      <td>0.000296</td>\n",
              "      <td>0.003271</td>\n",
              "      <td>0.001485</td>\n",
              "      <td>0.001018</td>\n",
              "      <td>0.001814</td>\n",
              "      <td>0.001219</td>\n",
              "      <td>0.001547</td>\n",
              "      <td>0.001291</td>\n",
              "      <td>...</td>\n",
              "      <td>0.001615</td>\n",
              "      <td>0.002399</td>\n",
              "      <td>0.002935</td>\n",
              "      <td>0.001615</td>\n",
              "      <td>0.001438</td>\n",
              "      <td>0.001681</td>\n",
              "      <td>0.001649</td>\n",
              "      <td>0.001383</td>\n",
              "      <td>0.002080</td>\n",
              "      <td>0.002088</td>\n",
              "    </tr>\n",
              "    <tr>\n",
              "      <th>Books</th>\n",
              "      <td>0.000886</td>\n",
              "      <td>0.000765</td>\n",
              "      <td>-0.000099</td>\n",
              "      <td>0.001485</td>\n",
              "      <td>0.002302</td>\n",
              "      <td>0.000876</td>\n",
              "      <td>0.002037</td>\n",
              "      <td>0.000657</td>\n",
              "      <td>0.001559</td>\n",
              "      <td>0.001362</td>\n",
              "      <td>...</td>\n",
              "      <td>0.001627</td>\n",
              "      <td>0.001996</td>\n",
              "      <td>0.001624</td>\n",
              "      <td>0.001481</td>\n",
              "      <td>0.001576</td>\n",
              "      <td>0.001205</td>\n",
              "      <td>0.001995</td>\n",
              "      <td>0.001026</td>\n",
              "      <td>0.001979</td>\n",
              "      <td>0.001283</td>\n",
              "    </tr>\n",
              "    <tr>\n",
              "      <th>Hshld</th>\n",
              "      <td>0.001208</td>\n",
              "      <td>0.002447</td>\n",
              "      <td>0.000981</td>\n",
              "      <td>0.001018</td>\n",
              "      <td>0.000876</td>\n",
              "      <td>0.002849</td>\n",
              "      <td>0.001046</td>\n",
              "      <td>0.001253</td>\n",
              "      <td>0.001226</td>\n",
              "      <td>0.001172</td>\n",
              "      <td>...</td>\n",
              "      <td>0.000889</td>\n",
              "      <td>0.001111</td>\n",
              "      <td>0.000906</td>\n",
              "      <td>0.001594</td>\n",
              "      <td>0.001366</td>\n",
              "      <td>0.000578</td>\n",
              "      <td>0.001157</td>\n",
              "      <td>0.001076</td>\n",
              "      <td>0.001652</td>\n",
              "      <td>0.001322</td>\n",
              "    </tr>\n",
              "    <tr>\n",
              "      <th>Clths</th>\n",
              "      <td>0.001474</td>\n",
              "      <td>0.001415</td>\n",
              "      <td>0.000761</td>\n",
              "      <td>0.001814</td>\n",
              "      <td>0.002037</td>\n",
              "      <td>0.001046</td>\n",
              "      <td>0.004896</td>\n",
              "      <td>0.000759</td>\n",
              "      <td>0.002547</td>\n",
              "      <td>0.002105</td>\n",
              "      <td>...</td>\n",
              "      <td>0.001263</td>\n",
              "      <td>0.001401</td>\n",
              "      <td>0.000746</td>\n",
              "      <td>0.002683</td>\n",
              "      <td>0.002466</td>\n",
              "      <td>0.001654</td>\n",
              "      <td>0.002607</td>\n",
              "      <td>0.002229</td>\n",
              "      <td>0.002699</td>\n",
              "      <td>0.001974</td>\n",
              "    </tr>\n",
              "    <tr>\n",
              "      <th>Hlth</th>\n",
              "      <td>0.001105</td>\n",
              "      <td>0.001689</td>\n",
              "      <td>0.000877</td>\n",
              "      <td>0.001219</td>\n",
              "      <td>0.000657</td>\n",
              "      <td>0.001253</td>\n",
              "      <td>0.000759</td>\n",
              "      <td>0.002252</td>\n",
              "      <td>0.000444</td>\n",
              "      <td>0.000538</td>\n",
              "      <td>...</td>\n",
              "      <td>0.001093</td>\n",
              "      <td>0.001390</td>\n",
              "      <td>0.001264</td>\n",
              "      <td>0.000552</td>\n",
              "      <td>0.000880</td>\n",
              "      <td>0.000907</td>\n",
              "      <td>0.000770</td>\n",
              "      <td>0.000900</td>\n",
              "      <td>0.001412</td>\n",
              "      <td>0.001099</td>\n",
              "    </tr>\n",
              "    <tr>\n",
              "      <th>Chems</th>\n",
              "      <td>0.001253</td>\n",
              "      <td>0.001292</td>\n",
              "      <td>0.000687</td>\n",
              "      <td>0.001547</td>\n",
              "      <td>0.001559</td>\n",
              "      <td>0.001226</td>\n",
              "      <td>0.002547</td>\n",
              "      <td>0.000444</td>\n",
              "      <td>0.002944</td>\n",
              "      <td>0.001705</td>\n",
              "      <td>...</td>\n",
              "      <td>0.000860</td>\n",
              "      <td>0.001072</td>\n",
              "      <td>0.000935</td>\n",
              "      <td>0.002581</td>\n",
              "      <td>0.001966</td>\n",
              "      <td>0.001257</td>\n",
              "      <td>0.001661</td>\n",
              "      <td>0.001425</td>\n",
              "      <td>0.002143</td>\n",
              "      <td>0.001832</td>\n",
              "    </tr>\n",
              "    <tr>\n",
              "      <th>Txtls</th>\n",
              "      <td>0.001021</td>\n",
              "      <td>0.001721</td>\n",
              "      <td>0.000555</td>\n",
              "      <td>0.001291</td>\n",
              "      <td>0.001362</td>\n",
              "      <td>0.001172</td>\n",
              "      <td>0.002105</td>\n",
              "      <td>0.000538</td>\n",
              "      <td>0.001705</td>\n",
              "      <td>0.002882</td>\n",
              "      <td>...</td>\n",
              "      <td>0.000790</td>\n",
              "      <td>0.000582</td>\n",
              "      <td>0.000685</td>\n",
              "      <td>0.001869</td>\n",
              "      <td>0.001760</td>\n",
              "      <td>0.001426</td>\n",
              "      <td>0.001696</td>\n",
              "      <td>0.001126</td>\n",
              "      <td>0.001789</td>\n",
              "      <td>0.001668</td>\n",
              "    </tr>\n",
              "    <tr>\n",
              "      <th>Cnstr</th>\n",
              "      <td>0.001282</td>\n",
              "      <td>0.001945</td>\n",
              "      <td>0.001181</td>\n",
              "      <td>0.001723</td>\n",
              "      <td>0.001531</td>\n",
              "      <td>0.001770</td>\n",
              "      <td>0.002486</td>\n",
              "      <td>0.001217</td>\n",
              "      <td>0.001829</td>\n",
              "      <td>0.001648</td>\n",
              "      <td>...</td>\n",
              "      <td>0.001488</td>\n",
              "      <td>0.002169</td>\n",
              "      <td>0.001968</td>\n",
              "      <td>0.001922</td>\n",
              "      <td>0.002030</td>\n",
              "      <td>0.001453</td>\n",
              "      <td>0.001852</td>\n",
              "      <td>0.001810</td>\n",
              "      <td>0.002331</td>\n",
              "      <td>0.001573</td>\n",
              "    </tr>\n",
              "    <tr>\n",
              "      <th>Steel</th>\n",
              "      <td>0.000027</td>\n",
              "      <td>0.000131</td>\n",
              "      <td>0.000167</td>\n",
              "      <td>0.002670</td>\n",
              "      <td>0.001797</td>\n",
              "      <td>0.001050</td>\n",
              "      <td>0.001702</td>\n",
              "      <td>0.000836</td>\n",
              "      <td>0.002327</td>\n",
              "      <td>0.001321</td>\n",
              "      <td>...</td>\n",
              "      <td>0.001987</td>\n",
              "      <td>0.003934</td>\n",
              "      <td>0.005049</td>\n",
              "      <td>0.002306</td>\n",
              "      <td>0.001528</td>\n",
              "      <td>0.002210</td>\n",
              "      <td>0.001423</td>\n",
              "      <td>0.000553</td>\n",
              "      <td>0.001851</td>\n",
              "      <td>0.003370</td>\n",
              "    </tr>\n",
              "    <tr>\n",
              "      <th>FabPr</th>\n",
              "      <td>0.000613</td>\n",
              "      <td>0.000666</td>\n",
              "      <td>0.000668</td>\n",
              "      <td>0.002498</td>\n",
              "      <td>0.001704</td>\n",
              "      <td>0.001125</td>\n",
              "      <td>0.002430</td>\n",
              "      <td>0.000768</td>\n",
              "      <td>0.002273</td>\n",
              "      <td>0.001576</td>\n",
              "      <td>...</td>\n",
              "      <td>0.001428</td>\n",
              "      <td>0.002647</td>\n",
              "      <td>0.003732</td>\n",
              "      <td>0.002367</td>\n",
              "      <td>0.001949</td>\n",
              "      <td>0.002082</td>\n",
              "      <td>0.001669</td>\n",
              "      <td>0.001507</td>\n",
              "      <td>0.001985</td>\n",
              "      <td>0.002458</td>\n",
              "    </tr>\n",
              "    <tr>\n",
              "      <th>ElcEq</th>\n",
              "      <td>0.001146</td>\n",
              "      <td>0.001107</td>\n",
              "      <td>-0.000013</td>\n",
              "      <td>0.001980</td>\n",
              "      <td>0.002084</td>\n",
              "      <td>0.001426</td>\n",
              "      <td>0.002239</td>\n",
              "      <td>0.001108</td>\n",
              "      <td>0.001560</td>\n",
              "      <td>0.001102</td>\n",
              "      <td>...</td>\n",
              "      <td>0.002058</td>\n",
              "      <td>0.003312</td>\n",
              "      <td>0.002968</td>\n",
              "      <td>0.001540</td>\n",
              "      <td>0.001623</td>\n",
              "      <td>0.001080</td>\n",
              "      <td>0.002326</td>\n",
              "      <td>0.001300</td>\n",
              "      <td>0.002323</td>\n",
              "      <td>0.001556</td>\n",
              "    </tr>\n",
              "    <tr>\n",
              "      <th>Autos</th>\n",
              "      <td>0.000547</td>\n",
              "      <td>0.001296</td>\n",
              "      <td>0.000223</td>\n",
              "      <td>0.001994</td>\n",
              "      <td>0.001550</td>\n",
              "      <td>0.001466</td>\n",
              "      <td>0.002521</td>\n",
              "      <td>0.000851</td>\n",
              "      <td>0.001882</td>\n",
              "      <td>0.001811</td>\n",
              "      <td>...</td>\n",
              "      <td>0.001544</td>\n",
              "      <td>0.001800</td>\n",
              "      <td>0.002273</td>\n",
              "      <td>0.001957</td>\n",
              "      <td>0.001963</td>\n",
              "      <td>0.001543</td>\n",
              "      <td>0.001792</td>\n",
              "      <td>0.001624</td>\n",
              "      <td>0.002226</td>\n",
              "      <td>0.002055</td>\n",
              "    </tr>\n",
              "    <tr>\n",
              "      <th>Carry</th>\n",
              "      <td>0.001419</td>\n",
              "      <td>0.001804</td>\n",
              "      <td>0.001485</td>\n",
              "      <td>0.001644</td>\n",
              "      <td>0.001301</td>\n",
              "      <td>0.001704</td>\n",
              "      <td>0.002873</td>\n",
              "      <td>0.000755</td>\n",
              "      <td>0.002374</td>\n",
              "      <td>0.001842</td>\n",
              "      <td>...</td>\n",
              "      <td>0.000845</td>\n",
              "      <td>0.001082</td>\n",
              "      <td>0.001261</td>\n",
              "      <td>0.002619</td>\n",
              "      <td>0.002232</td>\n",
              "      <td>0.001461</td>\n",
              "      <td>0.001702</td>\n",
              "      <td>0.001868</td>\n",
              "      <td>0.002368</td>\n",
              "      <td>0.002159</td>\n",
              "    </tr>\n",
              "    <tr>\n",
              "      <th>Mines</th>\n",
              "      <td>0.000829</td>\n",
              "      <td>0.000272</td>\n",
              "      <td>0.001311</td>\n",
              "      <td>0.001600</td>\n",
              "      <td>0.001281</td>\n",
              "      <td>0.000598</td>\n",
              "      <td>0.002467</td>\n",
              "      <td>0.001103</td>\n",
              "      <td>0.002345</td>\n",
              "      <td>0.001274</td>\n",
              "      <td>...</td>\n",
              "      <td>0.001456</td>\n",
              "      <td>0.002260</td>\n",
              "      <td>0.002199</td>\n",
              "      <td>0.002562</td>\n",
              "      <td>0.001623</td>\n",
              "      <td>0.001991</td>\n",
              "      <td>0.001537</td>\n",
              "      <td>0.001218</td>\n",
              "      <td>0.001757</td>\n",
              "      <td>0.002606</td>\n",
              "    </tr>\n",
              "    <tr>\n",
              "      <th>Coal</th>\n",
              "      <td>0.000034</td>\n",
              "      <td>0.001261</td>\n",
              "      <td>-0.000544</td>\n",
              "      <td>0.001557</td>\n",
              "      <td>0.002051</td>\n",
              "      <td>0.001787</td>\n",
              "      <td>0.002433</td>\n",
              "      <td>0.001549</td>\n",
              "      <td>0.001910</td>\n",
              "      <td>0.000652</td>\n",
              "      <td>...</td>\n",
              "      <td>0.000912</td>\n",
              "      <td>0.002373</td>\n",
              "      <td>0.002643</td>\n",
              "      <td>0.002099</td>\n",
              "      <td>0.001213</td>\n",
              "      <td>0.001793</td>\n",
              "      <td>0.000597</td>\n",
              "      <td>0.000382</td>\n",
              "      <td>0.002425</td>\n",
              "      <td>0.001443</td>\n",
              "    </tr>\n",
              "    <tr>\n",
              "      <th>Oil</th>\n",
              "      <td>0.000933</td>\n",
              "      <td>0.000672</td>\n",
              "      <td>0.000849</td>\n",
              "      <td>0.000968</td>\n",
              "      <td>0.000868</td>\n",
              "      <td>0.000541</td>\n",
              "      <td>0.001646</td>\n",
              "      <td>0.000523</td>\n",
              "      <td>0.001843</td>\n",
              "      <td>0.001104</td>\n",
              "      <td>...</td>\n",
              "      <td>0.000394</td>\n",
              "      <td>0.001002</td>\n",
              "      <td>0.000920</td>\n",
              "      <td>0.001570</td>\n",
              "      <td>0.001280</td>\n",
              "      <td>0.001423</td>\n",
              "      <td>0.000806</td>\n",
              "      <td>0.001091</td>\n",
              "      <td>0.001608</td>\n",
              "      <td>0.001688</td>\n",
              "    </tr>\n",
              "    <tr>\n",
              "      <th>Util</th>\n",
              "      <td>0.000858</td>\n",
              "      <td>0.000631</td>\n",
              "      <td>0.001118</td>\n",
              "      <td>0.000023</td>\n",
              "      <td>0.000455</td>\n",
              "      <td>0.000350</td>\n",
              "      <td>0.000646</td>\n",
              "      <td>0.000543</td>\n",
              "      <td>0.000545</td>\n",
              "      <td>0.000777</td>\n",
              "      <td>...</td>\n",
              "      <td>0.000136</td>\n",
              "      <td>-0.000596</td>\n",
              "      <td>-0.001000</td>\n",
              "      <td>0.000387</td>\n",
              "      <td>0.000468</td>\n",
              "      <td>0.000719</td>\n",
              "      <td>-0.000099</td>\n",
              "      <td>0.000315</td>\n",
              "      <td>0.000978</td>\n",
              "      <td>0.000840</td>\n",
              "    </tr>\n",
              "    <tr>\n",
              "      <th>Telcm</th>\n",
              "      <td>0.000610</td>\n",
              "      <td>0.000978</td>\n",
              "      <td>0.000057</td>\n",
              "      <td>0.001615</td>\n",
              "      <td>0.001627</td>\n",
              "      <td>0.000889</td>\n",
              "      <td>0.001263</td>\n",
              "      <td>0.001093</td>\n",
              "      <td>0.000860</td>\n",
              "      <td>0.000790</td>\n",
              "      <td>...</td>\n",
              "      <td>0.003065</td>\n",
              "      <td>0.002971</td>\n",
              "      <td>0.002708</td>\n",
              "      <td>0.001097</td>\n",
              "      <td>0.001366</td>\n",
              "      <td>0.001001</td>\n",
              "      <td>0.001718</td>\n",
              "      <td>0.001013</td>\n",
              "      <td>0.001560</td>\n",
              "      <td>0.001129</td>\n",
              "    </tr>\n",
              "    <tr>\n",
              "      <th>Servs</th>\n",
              "      <td>0.000211</td>\n",
              "      <td>0.000400</td>\n",
              "      <td>-0.000266</td>\n",
              "      <td>0.002399</td>\n",
              "      <td>0.001996</td>\n",
              "      <td>0.001111</td>\n",
              "      <td>0.001401</td>\n",
              "      <td>0.001390</td>\n",
              "      <td>0.001072</td>\n",
              "      <td>0.000582</td>\n",
              "      <td>...</td>\n",
              "      <td>0.002971</td>\n",
              "      <td>0.006484</td>\n",
              "      <td>0.006079</td>\n",
              "      <td>0.001173</td>\n",
              "      <td>0.001299</td>\n",
              "      <td>0.001794</td>\n",
              "      <td>0.002447</td>\n",
              "      <td>0.000964</td>\n",
              "      <td>0.001630</td>\n",
              "      <td>0.002029</td>\n",
              "    </tr>\n",
              "    <tr>\n",
              "      <th>BusEq</th>\n",
              "      <td>-0.000280</td>\n",
              "      <td>0.000028</td>\n",
              "      <td>-0.000300</td>\n",
              "      <td>0.002935</td>\n",
              "      <td>0.001624</td>\n",
              "      <td>0.000906</td>\n",
              "      <td>0.000746</td>\n",
              "      <td>0.001264</td>\n",
              "      <td>0.000935</td>\n",
              "      <td>0.000685</td>\n",
              "      <td>...</td>\n",
              "      <td>0.002708</td>\n",
              "      <td>0.006079</td>\n",
              "      <td>0.008346</td>\n",
              "      <td>0.001267</td>\n",
              "      <td>0.001225</td>\n",
              "      <td>0.002178</td>\n",
              "      <td>0.001756</td>\n",
              "      <td>0.000630</td>\n",
              "      <td>0.001395</td>\n",
              "      <td>0.002305</td>\n",
              "    </tr>\n",
              "    <tr>\n",
              "      <th>Paper</th>\n",
              "      <td>0.001205</td>\n",
              "      <td>0.001455</td>\n",
              "      <td>0.001061</td>\n",
              "      <td>0.001615</td>\n",
              "      <td>0.001481</td>\n",
              "      <td>0.001594</td>\n",
              "      <td>0.002683</td>\n",
              "      <td>0.000552</td>\n",
              "      <td>0.002581</td>\n",
              "      <td>0.001869</td>\n",
              "      <td>...</td>\n",
              "      <td>0.001097</td>\n",
              "      <td>0.001173</td>\n",
              "      <td>0.001267</td>\n",
              "      <td>0.003004</td>\n",
              "      <td>0.002107</td>\n",
              "      <td>0.001396</td>\n",
              "      <td>0.001644</td>\n",
              "      <td>0.001420</td>\n",
              "      <td>0.002150</td>\n",
              "      <td>0.001686</td>\n",
              "    </tr>\n",
              "    <tr>\n",
              "      <th>Trans</th>\n",
              "      <td>0.001312</td>\n",
              "      <td>0.001974</td>\n",
              "      <td>0.000241</td>\n",
              "      <td>0.001438</td>\n",
              "      <td>0.001576</td>\n",
              "      <td>0.001366</td>\n",
              "      <td>0.002466</td>\n",
              "      <td>0.000880</td>\n",
              "      <td>0.001966</td>\n",
              "      <td>0.001760</td>\n",
              "      <td>...</td>\n",
              "      <td>0.001366</td>\n",
              "      <td>0.001299</td>\n",
              "      <td>0.001225</td>\n",
              "      <td>0.002107</td>\n",
              "      <td>0.002633</td>\n",
              "      <td>0.001084</td>\n",
              "      <td>0.001831</td>\n",
              "      <td>0.001741</td>\n",
              "      <td>0.002270</td>\n",
              "      <td>0.001557</td>\n",
              "    </tr>\n",
              "    <tr>\n",
              "      <th>Whlsl</th>\n",
              "      <td>0.000633</td>\n",
              "      <td>0.000609</td>\n",
              "      <td>0.001363</td>\n",
              "      <td>0.001681</td>\n",
              "      <td>0.001205</td>\n",
              "      <td>0.000578</td>\n",
              "      <td>0.001654</td>\n",
              "      <td>0.000907</td>\n",
              "      <td>0.001257</td>\n",
              "      <td>0.001426</td>\n",
              "      <td>...</td>\n",
              "      <td>0.001001</td>\n",
              "      <td>0.001794</td>\n",
              "      <td>0.002178</td>\n",
              "      <td>0.001396</td>\n",
              "      <td>0.001084</td>\n",
              "      <td>0.002341</td>\n",
              "      <td>0.001061</td>\n",
              "      <td>0.000848</td>\n",
              "      <td>0.001594</td>\n",
              "      <td>0.001896</td>\n",
              "    </tr>\n",
              "    <tr>\n",
              "      <th>Rtail</th>\n",
              "      <td>0.001165</td>\n",
              "      <td>0.001442</td>\n",
              "      <td>0.000069</td>\n",
              "      <td>0.001649</td>\n",
              "      <td>0.001995</td>\n",
              "      <td>0.001157</td>\n",
              "      <td>0.002607</td>\n",
              "      <td>0.000770</td>\n",
              "      <td>0.001661</td>\n",
              "      <td>0.001696</td>\n",
              "      <td>...</td>\n",
              "      <td>0.001718</td>\n",
              "      <td>0.002447</td>\n",
              "      <td>0.001756</td>\n",
              "      <td>0.001644</td>\n",
              "      <td>0.001831</td>\n",
              "      <td>0.001061</td>\n",
              "      <td>0.003197</td>\n",
              "      <td>0.001890</td>\n",
              "      <td>0.002010</td>\n",
              "      <td>0.001314</td>\n",
              "    </tr>\n",
              "    <tr>\n",
              "      <th>Meals</th>\n",
              "      <td>0.001085</td>\n",
              "      <td>0.001634</td>\n",
              "      <td>0.000590</td>\n",
              "      <td>0.001383</td>\n",
              "      <td>0.001026</td>\n",
              "      <td>0.001076</td>\n",
              "      <td>0.002229</td>\n",
              "      <td>0.000900</td>\n",
              "      <td>0.001425</td>\n",
              "      <td>0.001126</td>\n",
              "      <td>...</td>\n",
              "      <td>0.001013</td>\n",
              "      <td>0.000964</td>\n",
              "      <td>0.000630</td>\n",
              "      <td>0.001420</td>\n",
              "      <td>0.001741</td>\n",
              "      <td>0.000848</td>\n",
              "      <td>0.001890</td>\n",
              "      <td>0.002630</td>\n",
              "      <td>0.001765</td>\n",
              "      <td>0.001129</td>\n",
              "    </tr>\n",
              "    <tr>\n",
              "      <th>Fin</th>\n",
              "      <td>0.001839</td>\n",
              "      <td>0.002236</td>\n",
              "      <td>0.001117</td>\n",
              "      <td>0.002080</td>\n",
              "      <td>0.001979</td>\n",
              "      <td>0.001652</td>\n",
              "      <td>0.002699</td>\n",
              "      <td>0.001412</td>\n",
              "      <td>0.002143</td>\n",
              "      <td>0.001789</td>\n",
              "      <td>...</td>\n",
              "      <td>0.001560</td>\n",
              "      <td>0.001630</td>\n",
              "      <td>0.001395</td>\n",
              "      <td>0.002150</td>\n",
              "      <td>0.002270</td>\n",
              "      <td>0.001594</td>\n",
              "      <td>0.002010</td>\n",
              "      <td>0.001765</td>\n",
              "      <td>0.003459</td>\n",
              "      <td>0.001945</td>\n",
              "    </tr>\n",
              "    <tr>\n",
              "      <th>Other</th>\n",
              "      <td>0.000898</td>\n",
              "      <td>0.001196</td>\n",
              "      <td>0.001418</td>\n",
              "      <td>0.002088</td>\n",
              "      <td>0.001283</td>\n",
              "      <td>0.001322</td>\n",
              "      <td>0.001974</td>\n",
              "      <td>0.001099</td>\n",
              "      <td>0.001832</td>\n",
              "      <td>0.001668</td>\n",
              "      <td>...</td>\n",
              "      <td>0.001129</td>\n",
              "      <td>0.002029</td>\n",
              "      <td>0.002305</td>\n",
              "      <td>0.001686</td>\n",
              "      <td>0.001557</td>\n",
              "      <td>0.001896</td>\n",
              "      <td>0.001314</td>\n",
              "      <td>0.001129</td>\n",
              "      <td>0.001945</td>\n",
              "      <td>0.003655</td>\n",
              "    </tr>\n",
              "  </tbody>\n",
              "</table>\n",
              "<p>30 rows × 30 columns</p>\n",
              "</div>\n",
              "      <button class=\"colab-df-convert\" onclick=\"convertToInteractive('df-7cb582c4-4e8e-4d1c-83e3-9eca6485d37a')\"\n",
              "              title=\"Convert this dataframe to an interactive table.\"\n",
              "              style=\"display:none;\">\n",
              "        \n",
              "  <svg xmlns=\"http://www.w3.org/2000/svg\" height=\"24px\"viewBox=\"0 0 24 24\"\n",
              "       width=\"24px\">\n",
              "    <path d=\"M0 0h24v24H0V0z\" fill=\"none\"/>\n",
              "    <path d=\"M18.56 5.44l.94 2.06.94-2.06 2.06-.94-2.06-.94-.94-2.06-.94 2.06-2.06.94zm-11 1L8.5 8.5l.94-2.06 2.06-.94-2.06-.94L8.5 2.5l-.94 2.06-2.06.94zm10 10l.94 2.06.94-2.06 2.06-.94-2.06-.94-.94-2.06-.94 2.06-2.06.94z\"/><path d=\"M17.41 7.96l-1.37-1.37c-.4-.4-.92-.59-1.43-.59-.52 0-1.04.2-1.43.59L10.3 9.45l-7.72 7.72c-.78.78-.78 2.05 0 2.83L4 21.41c.39.39.9.59 1.41.59.51 0 1.02-.2 1.41-.59l7.78-7.78 2.81-2.81c.8-.78.8-2.07 0-2.86zM5.41 20L4 18.59l7.72-7.72 1.47 1.35L5.41 20z\"/>\n",
              "  </svg>\n",
              "      </button>\n",
              "      \n",
              "  <style>\n",
              "    .colab-df-container {\n",
              "      display:flex;\n",
              "      flex-wrap:wrap;\n",
              "      gap: 12px;\n",
              "    }\n",
              "\n",
              "    .colab-df-convert {\n",
              "      background-color: #E8F0FE;\n",
              "      border: none;\n",
              "      border-radius: 50%;\n",
              "      cursor: pointer;\n",
              "      display: none;\n",
              "      fill: #1967D2;\n",
              "      height: 32px;\n",
              "      padding: 0 0 0 0;\n",
              "      width: 32px;\n",
              "    }\n",
              "\n",
              "    .colab-df-convert:hover {\n",
              "      background-color: #E2EBFA;\n",
              "      box-shadow: 0px 1px 2px rgba(60, 64, 67, 0.3), 0px 1px 3px 1px rgba(60, 64, 67, 0.15);\n",
              "      fill: #174EA6;\n",
              "    }\n",
              "\n",
              "    [theme=dark] .colab-df-convert {\n",
              "      background-color: #3B4455;\n",
              "      fill: #D2E3FC;\n",
              "    }\n",
              "\n",
              "    [theme=dark] .colab-df-convert:hover {\n",
              "      background-color: #434B5C;\n",
              "      box-shadow: 0px 1px 3px 1px rgba(0, 0, 0, 0.15);\n",
              "      filter: drop-shadow(0px 1px 2px rgba(0, 0, 0, 0.3));\n",
              "      fill: #FFFFFF;\n",
              "    }\n",
              "  </style>\n",
              "\n",
              "      <script>\n",
              "        const buttonEl =\n",
              "          document.querySelector('#df-7cb582c4-4e8e-4d1c-83e3-9eca6485d37a button.colab-df-convert');\n",
              "        buttonEl.style.display =\n",
              "          google.colab.kernel.accessAllowed ? 'block' : 'none';\n",
              "\n",
              "        async function convertToInteractive(key) {\n",
              "          const element = document.querySelector('#df-7cb582c4-4e8e-4d1c-83e3-9eca6485d37a');\n",
              "          const dataTable =\n",
              "            await google.colab.kernel.invokeFunction('convertToInteractive',\n",
              "                                                     [key], {});\n",
              "          if (!dataTable) return;\n",
              "\n",
              "          const docLinkHtml = 'Like what you see? Visit the ' +\n",
              "            '<a target=\"_blank\" href=https://colab.research.google.com/notebooks/data_table.ipynb>data table notebook</a>'\n",
              "            + ' to learn more about interactive tables.';\n",
              "          element.innerHTML = '';\n",
              "          dataTable['output_type'] = 'display_data';\n",
              "          await google.colab.output.renderOutput(dataTable, element);\n",
              "          const docLink = document.createElement('div');\n",
              "          docLink.innerHTML = docLinkHtml;\n",
              "          element.appendChild(docLink);\n",
              "        }\n",
              "      </script>\n",
              "    </div>\n",
              "  </div>\n",
              "  "
            ]
          },
          "metadata": {},
          "execution_count": 15
        }
      ]
    },
    {
      "cell_type": "markdown",
      "source": [
        "Tracer Efficient Frontier\n",
        "\n",
        "1/recuperer les rendements\n",
        "2/generer la matrice de cov"
      ],
      "metadata": {
        "id": "DXBhMvb6JnfX"
      }
    },
    {
      "cell_type": "code",
      "source": [
        "%load_ext autoreload\n",
        "%autoreload 2\n",
        "%matplotlib inline\n",
        "import functions as fct\n",
        "\n",
        "ind = fct.get_ind_returns()\n",
        "er = fct.annualize_rets(ind[\"1996\":\"2000\"], 12)\n",
        "cov = ind[\"1996\":\"2000\"].cov()"
      ],
      "metadata": {
        "id": "thbKCojBJ4xn"
      },
      "execution_count": null,
      "outputs": []
    },
    {
      "cell_type": "code",
      "source": [
        "er.head()"
      ],
      "metadata": {
        "colab": {
          "base_uri": "https://localhost:8080/"
        },
        "id": "gQH4sUmGMZed",
        "outputId": "b0fbc413-7047-41ec-c0d5-15577537a415"
      },
      "execution_count": null,
      "outputs": [
        {
          "output_type": "execute_result",
          "data": {
            "text/plain": [
              "Food     0.116799\n",
              "Beer     0.141126\n",
              "Smoke    0.107830\n",
              "Games    0.068212\n",
              "Books    0.187286\n",
              "dtype: float64"
            ]
          },
          "metadata": {},
          "execution_count": 3
        }
      ]
    },
    {
      "cell_type": "code",
      "source": [
        "er"
      ],
      "metadata": {
        "colab": {
          "base_uri": "https://localhost:8080/"
        },
        "id": "QIB4wVlkNCIr",
        "outputId": "b5d50945-0e3f-4c1a-8166-fe852c2f1ce3"
      },
      "execution_count": null,
      "outputs": [
        {
          "output_type": "execute_result",
          "data": {
            "text/plain": [
              "Food     0.116799\n",
              "Beer     0.141126\n",
              "Smoke    0.107830\n",
              "Games    0.068212\n",
              "Books    0.187286\n",
              "Hshld    0.134766\n",
              "Clths    0.079160\n",
              "Hlth     0.246641\n",
              "Chems    0.077456\n",
              "Txtls   -0.042721\n",
              "Cnstr    0.084076\n",
              "Steel    0.115809\n",
              "FabPr    0.108280\n",
              "ElcEq    0.272420\n",
              "Autos    0.080954\n",
              "Carry    0.173904\n",
              "Mines   -0.053554\n",
              "Coal     0.414689\n",
              "Oil      0.165377\n",
              "Util     0.145903\n",
              "Telcm    0.122771\n",
              "Servs    0.175264\n",
              "BusEq    0.271952\n",
              "Paper    0.097163\n",
              "Trans    0.071099\n",
              "Whlsl    0.126431\n",
              "Rtail    0.207247\n",
              "Meals    0.067400\n",
              "Fin      0.223371\n",
              "Other    0.043349\n",
              "dtype: float64"
            ]
          },
          "metadata": {},
          "execution_count": 4
        }
      ]
    },
    {
      "cell_type": "code",
      "source": [
        "er[0]"
      ],
      "metadata": {
        "colab": {
          "base_uri": "https://localhost:8080/"
        },
        "id": "iIw6BO9AQJAT",
        "outputId": "7c670b6d-1549-45c8-8f2b-6e83be1dab07"
      },
      "execution_count": null,
      "outputs": [
        {
          "output_type": "execute_result",
          "data": {
            "text/plain": [
              "0.11679867294226098"
            ]
          },
          "metadata": {},
          "execution_count": 5
        }
      ]
    },
    {
      "cell_type": "markdown",
      "source": [
        "In order to find the **optimal weights**, we need a function that will** minimize the volatility** for a given **level of return**.\n",
        "Trouver les poids qui minimise la volatility  pour un rendement donnée"
      ],
      "metadata": {
        "id": "jJ9fVjS9eVxW"
      }
    },
    {
      "cell_type": "markdown",
      "source": [
        "```python\n",
        "def portfolio_return(weights, returns):\n",
        "    \"\"\"\n",
        "    Computes the return on a portfolio from constituent returns and weights\n",
        "    weights are a numpy array or Nx1 matrix and returns are a numpy array or Nx1 matrix\n",
        "    \"\"\"\n",
        "    return weights.T @ returns\n",
        "\n",
        "```\n",
        "\n"
      ],
      "metadata": {
        "id": "iTgtkhW_efZu"
      }
    },
    {
      "cell_type": "markdown",
      "source": [
        "```python\n",
        "def portfolio_vol(weights, covmat):\n",
        "    \"\"\"\n",
        "    Computes the vol of a portfolio from a covariance matrix and constituent weights\n",
        "    weights are a numpy array or N x 1 maxtrix and covmat is an N x N matrix\n",
        "    \"\"\"\n",
        "    return (weights.T @ covmat @ weights)**0.5\n",
        "\n",
        "```"
      ],
      "metadata": {
        "id": "beX3BGofgBwm"
      }
    },
    {
      "cell_type": "markdown",
      "source": [
        "```python\n",
        "from scipy.optimize import minimize\n",
        "\n",
        "# retourne un vecteur de  poids avec un min de vol avec un rendement donnée\n",
        "def minimize_vol(target_return, er, cov):\n",
        "    \"\"\"\n",
        "    Returns the optimal weights that achieve the target return\n",
        "    given a set of expected returns and a covariance matrix\n",
        "    \"\"\"\n",
        "    n = er.shape[0] // nb des actifs\n",
        "    init_guess = np.repeat(1/n, n)  // supposition initiale \n",
        "    # les poids varient entre 0 et 1\n",
        "    bounds = ((0.0, 1.0),) * n # pour chaque actifs\n",
        "    # construct the constraints\n",
        "    # il faut que les poids trouvé par l'optimizer doit satissfait ces conditions\n",
        "    # somme des pods egale a 1 \n",
        "    weights_sum_to_1 = {'type': 'eq',\n",
        "                        'fun': lambda weights: np.sum(weights) - 1\n",
        "    }\n",
        "    #le rendement qu'on produise a partir de l'ensemble des poids a trouve = rendemet cible\n",
        "    return_is_target = {'type': 'eq',\n",
        "                        'args': (er,),\n",
        "                        'fun': lambda weights, er: target_return - erk.portfolio_return(weights,er)\n",
        "    }\n",
        "    weights = minimize(fct.portfolio_vol, init_guess,\n",
        "                        #args(cov) car la function qui determine la volatility prend en parametre la matrice de cov \n",
        "                       args=(cov,), method='SLSQP',\n",
        "                       options={'disp': False},\n",
        "                       constraints=(weights_sum_to_1,return_is_target),\n",
        "                       bounds=bounds)\n",
        "    return weights.x\n",
        "```\n"
      ],
      "metadata": {
        "id": "0GeE9pRVgPDF"
      }
    },
    {
      "cell_type": "markdown",
      "source": [
        "Maintenant que nous pouvons trouver les pondérations pour minimiser le vol étant donné un rendement cible, nous pouvons tracer la frontière efficiente en divisant la plage du rendement le plus élevé au rendement le plus bas possible dans une grille, et en trouvant le portefeuille qui cible la volatilité minimale étant donné un taux de rendement ciblé particulier.\n",
        "\n",
        "parcourir la liste des rendements et afficher les poids de chacune"
      ],
      "metadata": {
        "id": "09j2GHpXgQfC"
      }
    },
    {
      "cell_type": "markdown",
      "source": [
        "```python\n",
        "def optimal_weights(n_points, er, cov):\n",
        "    \"\"\"\n",
        "    \"\"\"\n",
        "    target_rs = np.linspace(er.min(), er.max(), n_points)\n",
        "    weights = [minimize_vol(target_return, er, cov) for target_return in target_rs]\n",
        "    return weights\n",
        "\n",
        "def plot_ef(n_points, er, cov):\n",
        "    \"\"\"\n",
        "    Plots the multi-asset efficient frontier\n",
        "    \"\"\"\n",
        "    weights = optimal_weights(n_points, er, cov) # not yet implemented!\n",
        "    rets = [portfolio_return(w, er) for w in weights]\n",
        "    vols = [portfolio_vol(w, cov) for w in weights]\n",
        "    ef = pd.DataFrame({\n",
        "        \"Returns\": rets, \n",
        "        \"Volatility\": vols\n",
        "    })\n",
        "    return ef.plot.line(x=\"Volatility\", y=\"Returns\", style='.-')\n",
        "```\n"
      ],
      "metadata": {
        "id": "ilehr2_aiIzv"
      }
    },
    {
      "cell_type": "code",
      "source": [
        "# efficient frontier de ces actifs \n",
        "l = [\"Smoke\", \"Fin\", \"Games\", \"Coal\"]\n",
        "fct.plot_ef(50, er[l], cov.loc[l,l])"
      ],
      "metadata": {
        "colab": {
          "base_uri": "https://localhost:8080/",
          "height": 279
        },
        "id": "7L2kGgVYiWkF",
        "outputId": "4ce35145-933d-4ff4-b399-c4ded6188d3a"
      },
      "execution_count": null,
      "outputs": [
        {
          "output_type": "display_data",
          "data": {
            "text/plain": [
              "<Figure size 432x288 with 1 Axes>"
            ],
            "image/png": "[encoded data removed]"
          },
          "metadata": {
            "needs_background": "light"
          }
        }
      ]
    },
    {
      "cell_type": "code",
      "source": [
        "# Verification  \n",
        "W15 = fct.minimize_vol(0.15 , er[l] , cov.loc[l,l]) # les poids \n",
        "vol = fct.portfolio_vol(W15 , cov.loc[l,l]) # verif volatility (la courbe) \n",
        "vol"
      ],
      "metadata": {
        "colab": {
          "base_uri": "https://localhost:8080/"
        },
        "id": "jyTeMA_ZwIdL",
        "outputId": "dcd9f9cf-89f3-4055-eb7a-67cce9da3d21"
      },
      "execution_count": null,
      "outputs": [
        {
          "output_type": "execute_result",
          "data": {
            "text/plain": [
              "0.05034422565993661"
            ]
          },
          "metadata": {},
          "execution_count": 12
        }
      ]
    },
    {
      "cell_type": "code",
      "source": [
        "W15  # les poids"
      ],
      "metadata": {
        "colab": {
          "base_uri": "https://localhost:8080/"
        },
        "id": "VZRHIURS2bWF",
        "outputId": "ba54fed5-a54f-4ed2-b28c-24aadd406e4f"
      },
      "execution_count": null,
      "outputs": [
        {
          "output_type": "execute_result",
          "data": {
            "text/plain": [
              "array([0.24152012, 0.27457601, 0.39842497, 0.0854789 ])"
            ]
          },
          "metadata": {},
          "execution_count": 13
        }
      ]
    },
    {
      "cell_type": "markdown",
      "source": [
        "# Finding the Max Sharpe Ratio Portfolio\n",
        "\n",
        "Nous avons déjà vu qu'étant donné un ensemble de rendements attendus et une matrice de covariance, nous pouvons tracer la frontière efficiente. Dans cette section, nous allons étendre le code pour localiser le point sur la frontière efficiente qui nous intéresse le plus, c'est-à-dire le portefeuille de tangence ou le portefeuille Max Sharpe Ratio.\n",
        "\n",
        "\n",
        "Nous savons déjà identifier les points sur la courbe si on nous donne un taux de rendement cible. Au lieu de minimiser le vol en fonction d'un rendement cible, nous voulons trouver ce point sur la courbe qui maximise le ratio de Sharpe, compte tenu du taux sans risque.\n",
        "\n",
        "```python\n",
        "def msr(riskfree_rate, er, cov):\n",
        "    \"\"\"\n",
        "    Returns the weights of the portfolio that gives you the maximum sharpe ratio\n",
        "    given the riskfree rate and expected returns and a covariance matrix\n",
        "    \"\"\"\n",
        "    n = er.shape[0]\n",
        "    init_guess = np.repeat(1/n, n)\n",
        "    bounds = ((0.0, 1.0),) * n # an N-tuple of 2-tuples!\n",
        "    # construct the constraints\n",
        "    weights_sum_to_1 = {'type': 'eq',\n",
        "                        'fun': lambda weights: np.sum(weights) - 1\n",
        "    }\n",
        "    def neg_sharpe(weights, riskfree_rate, er, cov):\n",
        "        \"\"\"\n",
        "        Returns the negative of the sharpe ratio\n",
        "        of the given portfolio\n",
        "        \"\"\"\n",
        "        r = portfolio_return(weights, er)\n",
        "        vol = portfolio_vol(weights, cov)\n",
        "        return -(r - riskfree_rate)/vol\n",
        "    \n",
        "    weights = minimize(neg_sharpe, init_guess,\n",
        "                       args=(riskfree_rate, er, cov), method='SLSQP',\n",
        "                       options={'disp': False},\n",
        "                       constraints=(weights_sum_to_1,),\n",
        "                       bounds=bounds)\n",
        "    return weights.x\n",
        "```\n"
      ],
      "metadata": {
        "id": "E3DbQRU1iqub"
      }
    },
    {
      "cell_type": "code",
      "source": [
        "ax = fct.plot_ef(20, er, cov)\n",
        "ax.set_xlim(left = 0)"
      ],
      "metadata": {
        "colab": {
          "base_uri": "https://localhost:8080/",
          "height": 296
        },
        "id": "UBvGgloxjdr-",
        "outputId": "af1087de-a310-466b-df3a-242fd9c6613f"
      },
      "execution_count": null,
      "outputs": [
        {
          "output_type": "execute_result",
          "data": {
            "text/plain": [
              "(0.0, 0.14178366279799037)"
            ]
          },
          "metadata": {},
          "execution_count": 19
        },
        {
          "output_type": "display_data",
          "data": {
            "text/plain": [
              "<Figure size 432x288 with 1 Axes>"
            ],
            "image/png": "[encoded data removed]"
          },
          "metadata": {
            "needs_background": "light"
          }
        }
      ]
    },
    {
      "cell_type": "code",
      "source": [
        "# plot EF\n",
        "ax = fct.plot_ef(20, er, cov)\n",
        "ax.set_xlim(left = 0)\n",
        "# get MSR\n",
        "rf = 0.1\n",
        "w_msr = fct.msr(rf, er, cov) #poids en utilisant msr\n",
        "r_msr = fct.portfolio_return(w_msr, er) #RENDEMENT MSR\n",
        "vol_msr = fct.portfolio_vol(w_msr, cov)  #Volatility MSR\n",
        "# add CML  ligne du capital du marché \n",
        "cml_x = [0, vol_msr]\n",
        "cml_y = [rf, r_msr]\n",
        "ax.plot(cml_x, cml_y, color='green', marker='o', linestyle='dashed', linewidth=2, markersize=12)"
      ],
      "metadata": {
        "colab": {
          "base_uri": "https://localhost:8080/",
          "height": 296
        },
        "id": "9JuvBh_Sjr4e",
        "outputId": "40e2f603-6ce4-4763-fc6d-501960373165"
      },
      "execution_count": null,
      "outputs": [
        {
          "output_type": "execute_result",
          "data": {
            "text/plain": [
              "[<matplotlib.lines.Line2D at 0x7fbb3664b2d0>]"
            ]
          },
          "metadata": {},
          "execution_count": 22
        },
        {
          "output_type": "display_data",
          "data": {
            "text/plain": [
              "<Figure size 432x288 with 1 Axes>"
            ],
            "image/png": "[encoded data removed]"
          },
          "metadata": {
            "needs_background": "light"
          }
        }
      ]
    },
    {
      "cell_type": "code",
      "source": [
        "r_msr, vol_msr"
      ],
      "metadata": {
        "colab": {
          "base_uri": "https://localhost:8080/"
        },
        "id": "GQzRAj0UkoMt",
        "outputId": "be7e45b4-59db-44a7-963f-45ed268de542"
      },
      "execution_count": null,
      "outputs": [
        {
          "output_type": "execute_result",
          "data": {
            "text/plain": [
              "(0.26473948288033194, 0.04571973231103104)"
            ]
          },
          "metadata": {},
          "execution_count": 23
        }
      ]
    },
    {
      "cell_type": "markdown",
      "metadata": {
        "id": "O9fCTR9SGa05"
      },
      "source": [
        "\n",
        "\n",
        "```python\n",
        "    if show_cml:\n",
        "        ax.set_xlim(left = 0)\n",
        "        # get MSR\n",
        "        w_msr = msr(riskfree_rate, er, cov)\n",
        "        r_msr = portfolio_return(w_msr, er)\n",
        "        vol_msr = portfolio_vol(w_msr, cov)\n",
        "        # add CML\n",
        "        cml_x = [0, vol_msr]\n",
        "        cml_y = [riskfree_rate, r_msr]\n",
        "        # ligne du marché des capitaux\n",
        "        ax.plot(cml_x, cml_y, color='green', marker='o', linestyle='dashed', linewidth=2, markersize=12)\n",
        "```\n"
      ]
    },
    {
      "cell_type": "markdown",
      "source": [
        "# Let's look at a simple 2-asset portfolio and find the optimal weights if we had known what the returns would be."
      ],
      "metadata": {
        "id": "oSCPwcgel4qQ"
      }
    },
    {
      "cell_type": "code",
      "source": [
        "l = [\"Food\", \"Steel\"]\n",
        "import numpy as np\n",
        "fct.msr(0.1, np.array(er[l]), cov.loc[l,l])"
      ],
      "metadata": {
        "colab": {
          "base_uri": "https://localhost:8080/"
        },
        "id": "qpE2QWi0l6am",
        "outputId": "d07739c2-ae7c-4eea-8bb4-53162b913fb9"
      },
      "execution_count": null,
      "outputs": [
        {
          "output_type": "execute_result",
          "data": {
            "text/plain": [
              "array([0.75040362, 0.24959638])"
            ]
          },
          "metadata": {},
          "execution_count": 25
        }
      ]
    },
    {
      "cell_type": "markdown",
      "source": [
        "Une façon d'éviter ce jeu d'estimation est de sauter tout le processus et de se fier uniquement à la diversification naïve, ce qui signifie détenir toutes les actions avec un poids égal.\n",
        "\n",
        "```python\n",
        "    if show_ew:\n",
        "        n = er.shape[0]\n",
        "        w_ew = np.repeat(1/n, n)\n",
        "        r_ew = portfolio_return(w_ew, er)\n",
        "        vol_ew = portfolio_vol(w_ew, cov)\n",
        "        # add EW\n",
        "        ax.plot([vol_ew], [r_ew], color='goldenrod', marker='o', markersize=10)\n",
        "```"
      ],
      "metadata": {
        "id": "_ZnnjdnlmKcp"
      }
    },
    {
      "cell_type": "code",
      "source": [
        "fct.plot_ef(20, er, cov, show_cml=True, riskfree_rate=0.1, show_ew=True)"
      ],
      "metadata": {
        "colab": {
          "base_uri": "https://localhost:8080/",
          "height": 279
        },
        "id": "8-XjHc89mjmr",
        "outputId": "6e946f47-8268-454d-a5da-017f86be695c"
      },
      "execution_count": null,
      "outputs": [
        {
          "output_type": "display_data",
          "data": {
            "text/plain": [
              "<Figure size 432x288 with 1 Axes>"
            ],
            "image/png": "[encoded data removed]"
          },
          "metadata": {
            "needs_background": "light"
          }
        }
      ]
    },
    {
      "cell_type": "markdown",
      "source": [
        "**GMV**\n",
        "\n",
        "Les chercheurs ont montré que le portefeuille EW est un portefeuille remarquablement bon à détenir. En fait, l'idée qu'il s'agit d'un portefeuille bien meilleur à détenir qu'un équivalent pondéré en fonction de la capitalisation boursière est largement soutenue. Nous examinerons cela dans les sections suivantes, mais comme vous pouvez le constater, le portefeuille EW est bien à l'intérieur de la frontière efficiente, mais il ne nécessite aucune estimation.\n",
        "\n",
        "Cependant, il y a un autre point sur la frontière efficiente qui est très intéressant. C'est le _nez_ de la coque, qui est le portefeuille de volatilité la plus faible parmi tous les portefeuilles possibles. C'est ce qu'on appelle le portefeuille à volatilité minimale ou Global Minimum Volatility ou GMV.\n",
        "\n",
        "comment trouve les poids du portefeuille GMV ?\n",
        "\n",
        "La chose intéressante à ce sujet est que si vous supposez que tous les rendements sont les mêmes, l'optimiseur ne peut pas améliorer le ratio de sharpe en augmentant les rendements, et il doit donc le faire en réduisant la volatilité. Cela signifie que si nous sautons simplement toute estimation des rendements et supposons que tous les rendements ont le rendement, nous obtiendrons les pondérations du portefeuille GMV \n",
        "\n",
        "```python\n",
        "def gmv(cov):\n",
        "    \"\"\"\n",
        "    Returns the weights of the Global Minimum Volatility portfolio\n",
        "    given a covariance matrix\n",
        "    \"\"\"\n",
        "    n = cov.shape[0]\n",
        "    return msr(0, np.repeat(1, n), cov)\n",
        "```\n",
        "\n",
        "\n",
        "\n",
        "```python\n",
        "    if show_gmv:\n",
        "        w_gmv = gmv(cov)\n",
        "        r_gmv = portfolio_return(w_gmv, er)\n",
        "        vol_gmv = portfolio_vol(w_gmv, cov)\n",
        "        # add EW\n",
        "        ax.plot([vol_gmv], [r_gmv], color='midnightblue', marker='o', markersize=10)\n",
        "```"
      ],
      "metadata": {
        "id": "rDeUfIwmmu-R"
      }
    },
    {
      "cell_type": "code",
      "source": [
        "fct.plot_ef(20, er, cov, show_cml=True, riskfree_rate=0.1, show_ew=True, show_gmv=True)"
      ],
      "metadata": {
        "colab": {
          "base_uri": "https://localhost:8080/",
          "height": 296
        },
        "id": "ADX-nxuAmzKy",
        "outputId": "a2976439-ffbd-4b3b-9d66-9379b13533e9"
      },
      "execution_count": null,
      "outputs": [
        {
          "output_type": "execute_result",
          "data": {
            "text/plain": [
              "<matplotlib.axes._subplots.AxesSubplot at 0x7fbb36de0b10>"
            ]
          },
          "metadata": {},
          "execution_count": 28
        },
        {
          "output_type": "display_data",
          "data": {
            "text/plain": [
              "<Figure size 432x288 with 1 Axes>"
            ],
            "image/png": "[encoded data removed]"
          },
          "metadata": {
            "needs_background": "light"
          }
        }
      ]
    },
    {
      "cell_type": "markdown",
      "source": [
        "# Limits of Diversification\n",
        "\n",
        "\n",
        "La raison en est que les corrélations entre les actifs augmentent à mesure que le marché baisse. "
      ],
      "metadata": {
        "id": "9j1-1SFnny5G"
      }
    },
    {
      "cell_type": "markdown",
      "source": [
        "# Implementer Cap-Weighted Portfolio\n",
        "\n",
        "La plupart des indices boursiers sont construits en prenant un ensemble d'actifs et en les pondérant par leur valeur boursière, c'est-à-dire la capitalisation boursière.\n",
        "\n",
        "Construisons un indice pondéré par la capitalisation boursière à partir de nos 30 portefeuilles sectoriels.\n",
        "\n",
        "Pour chacune de ces industries, nous avons également des données sur le nombre d'actions dans chaque industrie ainsi que la capitalisation boursière moyenne dans chaque industrie. Ainsi, nous pouvons multiplier la capitalisation boursière moyenne par le nombre d'entreprises pour obtenir la capitalisation boursière totale de chaque industrie. Nous pouvons ensuite pondérer chaque portefeuille sectoriel proportionnellement à la capitalisation boursière de ce secteur.\n",
        "\n",
        "Chargeons la taille de l'industrie et le nombre moyen d'entreprises :\n",
        "```python\n",
        "\n",
        "le nombres d'entreprises dans chaque secteur\n",
        "def get_ind_nfirms():\n",
        "    \"\"\"\n",
        "    Load and format the Ken French 30 Industry Portfolios Average number of Firms\n",
        "    \"\"\"\n",
        "    ind = pd.read_csv(\"data/ind30_m_nfirms.csv\", header=0, index_col=0)\n",
        "    ind.index = pd.to_datetime(ind.index, format=\"%Y%m\").to_period('M')\n",
        "    ind.columns = ind.columns.str.strip()\n",
        "    return ind\n",
        "\n",
        "taille de l'entreprise\n",
        "def get_ind_size():\n",
        "    \"\"\"\n",
        "    Load and format the Ken French 30 Industry Portfolios Average size (market cap)\n",
        "    \"\"\"\n",
        "    ind = pd.read_csv(\"data/ind30_m_size.csv\", header=0, index_col=0)\n",
        "    ind.index = pd.to_datetime(ind.index, format=\"%Y%m\").to_period('M')\n",
        "    ind.columns = ind.columns.str.strip()\n",
        "    return ind\n",
        "```\n"
      ],
      "metadata": {
        "id": "I8XZ5_-en8PG"
      }
    },
    {
      "cell_type": "markdown",
      "source": [
        "```python\n",
        "\n",
        "import pandas as pd\n",
        "\n",
        "def get_ind_nfirms():\n",
        "    \"\"\"\n",
        "    Load and format the Ken French 30 Industry Portfolios Average number of Firms\n",
        "    \"\"\"\n",
        "    ind = pd.read_csv(\"data/ind30_m_nfirms.csv\", header=0, index_col=0)\n",
        "    ind.index = pd.to_datetime(ind.index, format=\"%Y%m\").to_period('M')\n",
        "    ind.columns = ind.columns.str.strip()\n",
        "    return ind\n",
        "\n",
        "def get_ind_size():\n",
        "    \"\"\"\n",
        "    Load and format the Ken French 30 Industry Portfolios Average size (market cap)\n",
        "    \"\"\"\n",
        "    ind = pd.read_csv(\"data/ind30_m_size.csv\", header=0, index_col=0)\n",
        "    ind.index = pd.to_datetime(ind.index, format=\"%Y%m\").to_period('M')\n",
        "    ind.columns = ind.columns.str.strip()\n",
        "    return ind\n",
        "```\n"
      ],
      "metadata": {
        "id": "qMhGBnyDoJ8u"
      }
    },
    {
      "cell_type": "code",
      "source": [
        "ind_nfirms = fct.get_ind_nfirms()\n",
        "ind_size = fct.get_ind_size()\n"
      ],
      "metadata": {
        "id": "2l3vpH72oCCH"
      },
      "execution_count": null,
      "outputs": []
    },
    {
      "cell_type": "code",
      "source": [
        "ind_nfirms.head()"
      ],
      "metadata": {
        "colab": {
          "base_uri": "https://localhost:8080/",
          "height": 386
        },
        "id": "RemirazRr8ub",
        "outputId": "c6081315-5388-49cb-d3ea-d0391a3ceca2"
      },
      "execution_count": null,
      "outputs": [
        {
          "output_type": "execute_result",
          "data": {
            "text/plain": [
              "         Food  Beer  Smoke  Games  Books  Hshld  Clths  Hlth  Chems  Txtls  \\\n",
              "1926-07    43     3     16      7      2      8     12     7     17     13   \n",
              "1926-08    43     3     16      7      2      8     12     7     17     13   \n",
              "1926-09    43     3     16      7      2      8     12     7     17     13   \n",
              "1926-10    43     3     16      7      2      8     12     7     17     13   \n",
              "1926-11    43     3     16      7      2      8     12     7     17     13   \n",
              "\n",
              "         ...  Telcm  Servs  BusEq  Paper  Trans  Whlsl  Rtail  Meals  Fin  \\\n",
              "1926-07  ...      5      3      7      6     74      2     33      6   12   \n",
              "1926-08  ...      5      3      7      6     74      2     33      6   12   \n",
              "1926-09  ...      5      3      7      6     74      2     33      6   12   \n",
              "1926-10  ...      5      3      7      6     74      2     33      6   12   \n",
              "1926-11  ...      5      3      7      6     74      2     33      6   12   \n",
              "\n",
              "         Other  \n",
              "1926-07      4  \n",
              "1926-08      4  \n",
              "1926-09      4  \n",
              "1926-10      4  \n",
              "1926-11      4  \n",
              "\n",
              "[5 rows x 30 columns]"
            ],
            "text/html": [
              "\n",
              "  <div id=\"df-9eafb76a-d660-413c-a42a-036bdf701aee\">\n",
              "    <div class=\"colab-df-container\">\n",
              "      <div>\n",
              "<style scoped>\n",
              "    .dataframe tbody tr th:only-of-type {\n",
              "        vertical-align: middle;\n",
              "    }\n",
              "\n",
              "    .dataframe tbody tr th {\n",
              "        vertical-align: top;\n",
              "    }\n",
              "\n",
              "    .dataframe thead th {\n",
              "        text-align: right;\n",
              "    }\n",
              "</style>\n",
              "<table border=\"1\" class=\"dataframe\">\n",
              "  <thead>\n",
              "    <tr style=\"text-align: right;\">\n",
              "      <th></th>\n",
              "      <th>Food</th>\n",
              "      <th>Beer</th>\n",
              "      <th>Smoke</th>\n",
              "      <th>Games</th>\n",
              "      <th>Books</th>\n",
              "      <th>Hshld</th>\n",
              "      <th>Clths</th>\n",
              "      <th>Hlth</th>\n",
              "      <th>Chems</th>\n",
              "      <th>Txtls</th>\n",
              "      <th>...</th>\n",
              "      <th>Telcm</th>\n",
              "      <th>Servs</th>\n",
              "      <th>BusEq</th>\n",
              "      <th>Paper</th>\n",
              "      <th>Trans</th>\n",
              "      <th>Whlsl</th>\n",
              "      <th>Rtail</th>\n",
              "      <th>Meals</th>\n",
              "      <th>Fin</th>\n",
              "      <th>Other</th>\n",
              "    </tr>\n",
              "  </thead>\n",
              "  <tbody>\n",
              "    <tr>\n",
              "      <th>1926-07</th>\n",
              "      <td>43</td>\n",
              "      <td>3</td>\n",
              "      <td>16</td>\n",
              "      <td>7</td>\n",
              "      <td>2</td>\n",
              "      <td>8</td>\n",
              "      <td>12</td>\n",
              "      <td>7</td>\n",
              "      <td>17</td>\n",
              "      <td>13</td>\n",
              "      <td>...</td>\n",
              "      <td>5</td>\n",
              "      <td>3</td>\n",
              "      <td>7</td>\n",
              "      <td>6</td>\n",
              "      <td>74</td>\n",
              "      <td>2</td>\n",
              "      <td>33</td>\n",
              "      <td>6</td>\n",
              "      <td>12</td>\n",
              "      <td>4</td>\n",
              "    </tr>\n",
              "    <tr>\n",
              "      <th>1926-08</th>\n",
              "      <td>43</td>\n",
              "      <td>3</td>\n",
              "      <td>16</td>\n",
              "      <td>7</td>\n",
              "      <td>2</td>\n",
              "      <td>8</td>\n",
              "      <td>12</td>\n",
              "      <td>7</td>\n",
              "      <td>17</td>\n",
              "      <td>13</td>\n",
              "      <td>...</td>\n",
              "      <td>5</td>\n",
              "      <td>3</td>\n",
              "      <td>7</td>\n",
              "      <td>6</td>\n",
              "      <td>74</td>\n",
              "      <td>2</td>\n",
              "      <td>33</td>\n",
              "      <td>6</td>\n",
              "      <td>12</td>\n",
              "      <td>4</td>\n",
              "    </tr>\n",
              "    <tr>\n",
              "      <th>1926-09</th>\n",
              "      <td>43</td>\n",
              "      <td>3</td>\n",
              "      <td>16</td>\n",
              "      <td>7</td>\n",
              "      <td>2</td>\n",
              "      <td>8</td>\n",
              "      <td>12</td>\n",
              "      <td>7</td>\n",
              "      <td>17</td>\n",
              "      <td>13</td>\n",
              "      <td>...</td>\n",
              "      <td>5</td>\n",
              "      <td>3</td>\n",
              "      <td>7</td>\n",
              "      <td>6</td>\n",
              "      <td>74</td>\n",
              "      <td>2</td>\n",
              "      <td>33</td>\n",
              "      <td>6</td>\n",
              "      <td>12</td>\n",
              "      <td>4</td>\n",
              "    </tr>\n",
              "    <tr>\n",
              "      <th>1926-10</th>\n",
              "      <td>43</td>\n",
              "      <td>3</td>\n",
              "      <td>16</td>\n",
              "      <td>7</td>\n",
              "      <td>2</td>\n",
              "      <td>8</td>\n",
              "      <td>12</td>\n",
              "      <td>7</td>\n",
              "      <td>17</td>\n",
              "      <td>13</td>\n",
              "      <td>...</td>\n",
              "      <td>5</td>\n",
              "      <td>3</td>\n",
              "      <td>7</td>\n",
              "      <td>6</td>\n",
              "      <td>74</td>\n",
              "      <td>2</td>\n",
              "      <td>33</td>\n",
              "      <td>6</td>\n",
              "      <td>12</td>\n",
              "      <td>4</td>\n",
              "    </tr>\n",
              "    <tr>\n",
              "      <th>1926-11</th>\n",
              "      <td>43</td>\n",
              "      <td>3</td>\n",
              "      <td>16</td>\n",
              "      <td>7</td>\n",
              "      <td>2</td>\n",
              "      <td>8</td>\n",
              "      <td>12</td>\n",
              "      <td>7</td>\n",
              "      <td>17</td>\n",
              "      <td>13</td>\n",
              "      <td>...</td>\n",
              "      <td>5</td>\n",
              "      <td>3</td>\n",
              "      <td>7</td>\n",
              "      <td>6</td>\n",
              "      <td>74</td>\n",
              "      <td>2</td>\n",
              "      <td>33</td>\n",
              "      <td>6</td>\n",
              "      <td>12</td>\n",
              "      <td>4</td>\n",
              "    </tr>\n",
              "  </tbody>\n",
              "</table>\n",
              "<p>5 rows × 30 columns</p>\n",
              "</div>\n",
              "      <button class=\"colab-df-convert\" onclick=\"convertToInteractive('df-9eafb76a-d660-413c-a42a-036bdf701aee')\"\n",
              "              title=\"Convert this dataframe to an interactive table.\"\n",
              "              style=\"display:none;\">\n",
              "        \n",
              "  <svg xmlns=\"http://www.w3.org/2000/svg\" height=\"24px\"viewBox=\"0 0 24 24\"\n",
              "       width=\"24px\">\n",
              "    <path d=\"M0 0h24v24H0V0z\" fill=\"none\"/>\n",
              "    <path d=\"M18.56 5.44l.94 2.06.94-2.06 2.06-.94-2.06-.94-.94-2.06-.94 2.06-2.06.94zm-11 1L8.5 8.5l.94-2.06 2.06-.94-2.06-.94L8.5 2.5l-.94 2.06-2.06.94zm10 10l.94 2.06.94-2.06 2.06-.94-2.06-.94-.94-2.06-.94 2.06-2.06.94z\"/><path d=\"M17.41 7.96l-1.37-1.37c-.4-.4-.92-.59-1.43-.59-.52 0-1.04.2-1.43.59L10.3 9.45l-7.72 7.72c-.78.78-.78 2.05 0 2.83L4 21.41c.39.39.9.59 1.41.59.51 0 1.02-.2 1.41-.59l7.78-7.78 2.81-2.81c.8-.78.8-2.07 0-2.86zM5.41 20L4 18.59l7.72-7.72 1.47 1.35L5.41 20z\"/>\n",
              "  </svg>\n",
              "      </button>\n",
              "      \n",
              "  <style>\n",
              "    .colab-df-container {\n",
              "      display:flex;\n",
              "      flex-wrap:wrap;\n",
              "      gap: 12px;\n",
              "    }\n",
              "\n",
              "    .colab-df-convert {\n",
              "      background-color: #E8F0FE;\n",
              "      border: none;\n",
              "      border-radius: 50%;\n",
              "      cursor: pointer;\n",
              "      display: none;\n",
              "      fill: #1967D2;\n",
              "      height: 32px;\n",
              "      padding: 0 0 0 0;\n",
              "      width: 32px;\n",
              "    }\n",
              "\n",
              "    .colab-df-convert:hover {\n",
              "      background-color: #E2EBFA;\n",
              "      box-shadow: 0px 1px 2px rgba(60, 64, 67, 0.3), 0px 1px 3px 1px rgba(60, 64, 67, 0.15);\n",
              "      fill: #174EA6;\n",
              "    }\n",
              "\n",
              "    [theme=dark] .colab-df-convert {\n",
              "      background-color: #3B4455;\n",
              "      fill: #D2E3FC;\n",
              "    }\n",
              "\n",
              "    [theme=dark] .colab-df-convert:hover {\n",
              "      background-color: #434B5C;\n",
              "      box-shadow: 0px 1px 3px 1px rgba(0, 0, 0, 0.15);\n",
              "      filter: drop-shadow(0px 1px 2px rgba(0, 0, 0, 0.3));\n",
              "      fill: #FFFFFF;\n",
              "    }\n",
              "  </style>\n",
              "\n",
              "      <script>\n",
              "        const buttonEl =\n",
              "          document.querySelector('#df-9eafb76a-d660-413c-a42a-036bdf701aee button.colab-df-convert');\n",
              "        buttonEl.style.display =\n",
              "          google.colab.kernel.accessAllowed ? 'block' : 'none';\n",
              "\n",
              "        async function convertToInteractive(key) {\n",
              "          const element = document.querySelector('#df-9eafb76a-d660-413c-a42a-036bdf701aee');\n",
              "          const dataTable =\n",
              "            await google.colab.kernel.invokeFunction('convertToInteractive',\n",
              "                                                     [key], {});\n",
              "          if (!dataTable) return;\n",
              "\n",
              "          const docLinkHtml = 'Like what you see? Visit the ' +\n",
              "            '<a target=\"_blank\" href=https://colab.research.google.com/notebooks/data_table.ipynb>data table notebook</a>'\n",
              "            + ' to learn more about interactive tables.';\n",
              "          element.innerHTML = '';\n",
              "          dataTable['output_type'] = 'display_data';\n",
              "          await google.colab.output.renderOutput(dataTable, element);\n",
              "          const docLink = document.createElement('div');\n",
              "          docLink.innerHTML = docLinkHtml;\n",
              "          element.appendChild(docLink);\n",
              "        }\n",
              "      </script>\n",
              "    </div>\n",
              "  </div>\n",
              "  "
            ]
          },
          "metadata": {},
          "execution_count": 35
        }
      ]
    },
    {
      "cell_type": "code",
      "source": [
        "ind_size.head()"
      ],
      "metadata": {
        "colab": {
          "base_uri": "https://localhost:8080/",
          "height": 386
        },
        "id": "4mArrrqQsCb-",
        "outputId": "847beea0-60b2-4f40-a85f-dbe65a7ae48e"
      },
      "execution_count": null,
      "outputs": [
        {
          "output_type": "execute_result",
          "data": {
            "text/plain": [
              "          Food  Beer  Smoke  Games  Books  Hshld  Clths   Hlth  Chems  Txtls  \\\n",
              "1926-07  35.98  7.12  59.72  26.41  12.02  22.27  18.36  25.52  57.59   6.18   \n",
              "1926-08  36.10  6.75  60.47  27.17  13.33  22.13  19.83  25.80  62.13   6.20   \n",
              "1926-09  37.00  8.58  64.03  27.30  14.67  21.18  19.29  26.73  65.53   6.71   \n",
              "1926-10  37.14  8.92  64.42  28.76  14.42  21.23  19.03  26.87  68.47   6.82   \n",
              "1926-11  35.88  8.62  65.08  27.38  15.79  20.14  19.03  26.54  65.06   6.84   \n",
              "\n",
              "         ...   Telcm  Servs  BusEq  Paper  Trans  Whlsl  Rtail  Meals    Fin  \\\n",
              "1926-07  ...  350.36  13.60  56.70  35.35  66.91   1.19  46.65  10.82  18.83   \n",
              "1926-08  ...  353.27  14.75  57.74  37.86  67.99   0.90  46.57  11.00  18.88   \n",
              "1926-09  ...  360.96  15.05  59.61  36.82  71.02   0.95  46.11  10.94  19.67   \n",
              "1926-10  ...  364.16  15.30  59.52  34.77  70.83   0.88  46.15  10.80  19.36   \n",
              "1926-11  ...  363.74  14.89  58.74  32.80  68.75   0.74  45.03  10.33  18.35   \n",
              "\n",
              "         Other  \n",
              "1926-07  24.25  \n",
              "1926-08  25.51  \n",
              "1926-09  27.21  \n",
              "1926-10  26.16  \n",
              "1926-11  23.94  \n",
              "\n",
              "[5 rows x 30 columns]"
            ],
            "text/html": [
              "\n",
              "  <div id=\"df-597ceb3c-3ed5-40c6-acaa-1df88e8e5de0\">\n",
              "    <div class=\"colab-df-container\">\n",
              "      <div>\n",
              "<style scoped>\n",
              "    .dataframe tbody tr th:only-of-type {\n",
              "        vertical-align: middle;\n",
              "    }\n",
              "\n",
              "    .dataframe tbody tr th {\n",
              "        vertical-align: top;\n",
              "    }\n",
              "\n",
              "    .dataframe thead th {\n",
              "        text-align: right;\n",
              "    }\n",
              "</style>\n",
              "<table border=\"1\" class=\"dataframe\">\n",
              "  <thead>\n",
              "    <tr style=\"text-align: right;\">\n",
              "      <th></th>\n",
              "      <th>Food</th>\n",
              "      <th>Beer</th>\n",
              "      <th>Smoke</th>\n",
              "      <th>Games</th>\n",
              "      <th>Books</th>\n",
              "      <th>Hshld</th>\n",
              "      <th>Clths</th>\n",
              "      <th>Hlth</th>\n",
              "      <th>Chems</th>\n",
              "      <th>Txtls</th>\n",
              "      <th>...</th>\n",
              "      <th>Telcm</th>\n",
              "      <th>Servs</th>\n",
              "      <th>BusEq</th>\n",
              "      <th>Paper</th>\n",
              "      <th>Trans</th>\n",
              "      <th>Whlsl</th>\n",
              "      <th>Rtail</th>\n",
              "      <th>Meals</th>\n",
              "      <th>Fin</th>\n",
              "      <th>Other</th>\n",
              "    </tr>\n",
              "  </thead>\n",
              "  <tbody>\n",
              "    <tr>\n",
              "      <th>1926-07</th>\n",
              "      <td>35.98</td>\n",
              "      <td>7.12</td>\n",
              "      <td>59.72</td>\n",
              "      <td>26.41</td>\n",
              "      <td>12.02</td>\n",
              "      <td>22.27</td>\n",
              "      <td>18.36</td>\n",
              "      <td>25.52</td>\n",
              "      <td>57.59</td>\n",
              "      <td>6.18</td>\n",
              "      <td>...</td>\n",
              "      <td>350.36</td>\n",
              "      <td>13.60</td>\n",
              "      <td>56.70</td>\n",
              "      <td>35.35</td>\n",
              "      <td>66.91</td>\n",
              "      <td>1.19</td>\n",
              "      <td>46.65</td>\n",
              "      <td>10.82</td>\n",
              "      <td>18.83</td>\n",
              "      <td>24.25</td>\n",
              "    </tr>\n",
              "    <tr>\n",
              "      <th>1926-08</th>\n",
              "      <td>36.10</td>\n",
              "      <td>6.75</td>\n",
              "      <td>60.47</td>\n",
              "      <td>27.17</td>\n",
              "      <td>13.33</td>\n",
              "      <td>22.13</td>\n",
              "      <td>19.83</td>\n",
              "      <td>25.80</td>\n",
              "      <td>62.13</td>\n",
              "      <td>6.20</td>\n",
              "      <td>...</td>\n",
              "      <td>353.27</td>\n",
              "      <td>14.75</td>\n",
              "      <td>57.74</td>\n",
              "      <td>37.86</td>\n",
              "      <td>67.99</td>\n",
              "      <td>0.90</td>\n",
              "      <td>46.57</td>\n",
              "      <td>11.00</td>\n",
              "      <td>18.88</td>\n",
              "      <td>25.51</td>\n",
              "    </tr>\n",
              "    <tr>\n",
              "      <th>1926-09</th>\n",
              "      <td>37.00</td>\n",
              "      <td>8.58</td>\n",
              "      <td>64.03</td>\n",
              "      <td>27.30</td>\n",
              "      <td>14.67</td>\n",
              "      <td>21.18</td>\n",
              "      <td>19.29</td>\n",
              "      <td>26.73</td>\n",
              "      <td>65.53</td>\n",
              "      <td>6.71</td>\n",
              "      <td>...</td>\n",
              "      <td>360.96</td>\n",
              "      <td>15.05</td>\n",
              "      <td>59.61</td>\n",
              "      <td>36.82</td>\n",
              "      <td>71.02</td>\n",
              "      <td>0.95</td>\n",
              "      <td>46.11</td>\n",
              "      <td>10.94</td>\n",
              "      <td>19.67</td>\n",
              "      <td>27.21</td>\n",
              "    </tr>\n",
              "    <tr>\n",
              "      <th>1926-10</th>\n",
              "      <td>37.14</td>\n",
              "      <td>8.92</td>\n",
              "      <td>64.42</td>\n",
              "      <td>28.76</td>\n",
              "      <td>14.42</td>\n",
              "      <td>21.23</td>\n",
              "      <td>19.03</td>\n",
              "      <td>26.87</td>\n",
              "      <td>68.47</td>\n",
              "      <td>6.82</td>\n",
              "      <td>...</td>\n",
              "      <td>364.16</td>\n",
              "      <td>15.30</td>\n",
              "      <td>59.52</td>\n",
              "      <td>34.77</td>\n",
              "      <td>70.83</td>\n",
              "      <td>0.88</td>\n",
              "      <td>46.15</td>\n",
              "      <td>10.80</td>\n",
              "      <td>19.36</td>\n",
              "      <td>26.16</td>\n",
              "    </tr>\n",
              "    <tr>\n",
              "      <th>1926-11</th>\n",
              "      <td>35.88</td>\n",
              "      <td>8.62</td>\n",
              "      <td>65.08</td>\n",
              "      <td>27.38</td>\n",
              "      <td>15.79</td>\n",
              "      <td>20.14</td>\n",
              "      <td>19.03</td>\n",
              "      <td>26.54</td>\n",
              "      <td>65.06</td>\n",
              "      <td>6.84</td>\n",
              "      <td>...</td>\n",
              "      <td>363.74</td>\n",
              "      <td>14.89</td>\n",
              "      <td>58.74</td>\n",
              "      <td>32.80</td>\n",
              "      <td>68.75</td>\n",
              "      <td>0.74</td>\n",
              "      <td>45.03</td>\n",
              "      <td>10.33</td>\n",
              "      <td>18.35</td>\n",
              "      <td>23.94</td>\n",
              "    </tr>\n",
              "  </tbody>\n",
              "</table>\n",
              "<p>5 rows × 30 columns</p>\n",
              "</div>\n",
              "      <button class=\"colab-df-convert\" onclick=\"convertToInteractive('df-597ceb3c-3ed5-40c6-acaa-1df88e8e5de0')\"\n",
              "              title=\"Convert this dataframe to an interactive table.\"\n",
              "              style=\"display:none;\">\n",
              "        \n",
              "  <svg xmlns=\"http://www.w3.org/2000/svg\" height=\"24px\"viewBox=\"0 0 24 24\"\n",
              "       width=\"24px\">\n",
              "    <path d=\"M0 0h24v24H0V0z\" fill=\"none\"/>\n",
              "    <path d=\"M18.56 5.44l.94 2.06.94-2.06 2.06-.94-2.06-.94-.94-2.06-.94 2.06-2.06.94zm-11 1L8.5 8.5l.94-2.06 2.06-.94-2.06-.94L8.5 2.5l-.94 2.06-2.06.94zm10 10l.94 2.06.94-2.06 2.06-.94-2.06-.94-.94-2.06-.94 2.06-2.06.94z\"/><path d=\"M17.41 7.96l-1.37-1.37c-.4-.4-.92-.59-1.43-.59-.52 0-1.04.2-1.43.59L10.3 9.45l-7.72 7.72c-.78.78-.78 2.05 0 2.83L4 21.41c.39.39.9.59 1.41.59.51 0 1.02-.2 1.41-.59l7.78-7.78 2.81-2.81c.8-.78.8-2.07 0-2.86zM5.41 20L4 18.59l7.72-7.72 1.47 1.35L5.41 20z\"/>\n",
              "  </svg>\n",
              "      </button>\n",
              "      \n",
              "  <style>\n",
              "    .colab-df-container {\n",
              "      display:flex;\n",
              "      flex-wrap:wrap;\n",
              "      gap: 12px;\n",
              "    }\n",
              "\n",
              "    .colab-df-convert {\n",
              "      background-color: #E8F0FE;\n",
              "      border: none;\n",
              "      border-radius: 50%;\n",
              "      cursor: pointer;\n",
              "      display: none;\n",
              "      fill: #1967D2;\n",
              "      height: 32px;\n",
              "      padding: 0 0 0 0;\n",
              "      width: 32px;\n",
              "    }\n",
              "\n",
              "    .colab-df-convert:hover {\n",
              "      background-color: #E2EBFA;\n",
              "      box-shadow: 0px 1px 2px rgba(60, 64, 67, 0.3), 0px 1px 3px 1px rgba(60, 64, 67, 0.15);\n",
              "      fill: #174EA6;\n",
              "    }\n",
              "\n",
              "    [theme=dark] .colab-df-convert {\n",
              "      background-color: #3B4455;\n",
              "      fill: #D2E3FC;\n",
              "    }\n",
              "\n",
              "    [theme=dark] .colab-df-convert:hover {\n",
              "      background-color: #434B5C;\n",
              "      box-shadow: 0px 1px 3px 1px rgba(0, 0, 0, 0.15);\n",
              "      filter: drop-shadow(0px 1px 2px rgba(0, 0, 0, 0.3));\n",
              "      fill: #FFFFFF;\n",
              "    }\n",
              "  </style>\n",
              "\n",
              "      <script>\n",
              "        const buttonEl =\n",
              "          document.querySelector('#df-597ceb3c-3ed5-40c6-acaa-1df88e8e5de0 button.colab-df-convert');\n",
              "        buttonEl.style.display =\n",
              "          google.colab.kernel.accessAllowed ? 'block' : 'none';\n",
              "\n",
              "        async function convertToInteractive(key) {\n",
              "          const element = document.querySelector('#df-597ceb3c-3ed5-40c6-acaa-1df88e8e5de0');\n",
              "          const dataTable =\n",
              "            await google.colab.kernel.invokeFunction('convertToInteractive',\n",
              "                                                     [key], {});\n",
              "          if (!dataTable) return;\n",
              "\n",
              "          const docLinkHtml = 'Like what you see? Visit the ' +\n",
              "            '<a target=\"_blank\" href=https://colab.research.google.com/notebooks/data_table.ipynb>data table notebook</a>'\n",
              "            + ' to learn more about interactive tables.';\n",
              "          element.innerHTML = '';\n",
              "          dataTable['output_type'] = 'display_data';\n",
              "          await google.colab.output.renderOutput(dataTable, element);\n",
              "          const docLink = document.createElement('div');\n",
              "          docLink.innerHTML = docLinkHtml;\n",
              "          element.appendChild(docLink);\n",
              "        }\n",
              "      </script>\n",
              "    </div>\n",
              "  </div>\n",
              "  "
            ]
          },
          "metadata": {},
          "execution_count": 36
        }
      ]
    },
    {
      "cell_type": "code",
      "source": [
        "# taille de la matrice des rendements de chaque secteur\n",
        "ind.shape"
      ],
      "metadata": {
        "colab": {
          "base_uri": "https://localhost:8080/"
        },
        "id": "Z5D7_5b1sIci",
        "outputId": "36549ec2-8b46-465a-cd2a-17399f363283"
      },
      "execution_count": null,
      "outputs": [
        {
          "output_type": "execute_result",
          "data": {
            "text/plain": [
              "(1110, 30)"
            ]
          },
          "metadata": {},
          "execution_count": 38
        }
      ]
    },
    {
      "cell_type": "code",
      "source": [
        "#taille de la matrice des moyennes des nb d'entreprises de chaque secteur\n",
        "ind_nfirms.shape"
      ],
      "metadata": {
        "id": "LGI-2-HKsz_z"
      },
      "execution_count": null,
      "outputs": []
    },
    {
      "cell_type": "code",
      "source": [
        "#taille de la matrice des tailles des entreprises de chaque secteur \n",
        "ind_size.shape"
      ],
      "metadata": {
        "id": "PpNKXPe1tFqw"
      },
      "execution_count": null,
      "outputs": []
    },
    {
      "cell_type": "code",
      "source": [
        "#capitalisation boursiére de chaque secteur = nb d'entreprise * taille moyenne\n",
        "ind_mktcap = ind_nfirms * ind_size "
      ],
      "metadata": {
        "id": "QL-K5LURtRBJ"
      },
      "execution_count": null,
      "outputs": []
    },
    {
      "cell_type": "code",
      "source": [
        "#taille de la matrice capitalisation boursiere \n",
        "ind_mktcap.shape"
      ],
      "metadata": {
        "colab": {
          "base_uri": "https://localhost:8080/"
        },
        "id": "lFNuzVBxtY0o",
        "outputId": "06218f37-c932-46af-86c8-7cc4c1e76b69"
      },
      "execution_count": null,
      "outputs": [
        {
          "output_type": "execute_result",
          "data": {
            "text/plain": [
              "(1110, 30)"
            ]
          },
          "metadata": {},
          "execution_count": 40
        }
      ]
    },
    {
      "cell_type": "markdown",
      "source": [
        "Maintenant que nous avons les capitalisations boursières pour chaque mois, nous pouvons calculer la capitalisation boursière totale au fil du temps en additionnant toutes les industries :"
      ],
      "metadata": {
        "id": "YC8RL5Qltkvh"
      }
    },
    {
      "cell_type": "code",
      "source": [
        "# capitalisation boursiére totale / capitamisation du marché = somme des capitalisations de chaque secteur\n",
        "total_mktcap = ind_mktcap.sum(axis=1)"
      ],
      "metadata": {
        "id": "njLcFn_atqGt"
      },
      "execution_count": null,
      "outputs": []
    },
    {
      "cell_type": "code",
      "source": [
        "total_mktcap.plot()"
      ],
      "metadata": {
        "colab": {
          "base_uri": "https://localhost:8080/",
          "height": 293
        },
        "id": "i_lLn9rZtyC4",
        "outputId": "000c8206-5a23-480e-e4ce-df2f5533b76d"
      },
      "execution_count": null,
      "outputs": [
        {
          "output_type": "execute_result",
          "data": {
            "text/plain": [
              "<matplotlib.axes._subplots.AxesSubplot at 0x7fbb36438890>"
            ]
          },
          "metadata": {},
          "execution_count": 42
        },
        {
          "output_type": "display_data",
          "data": {
            "text/plain": [
              "<Figure size 432x288 with 1 Axes>"
            ],
            "image/png": "[encoded data removed]"
          },
          "metadata": {
            "needs_background": "light"
          }
        }
      ]
    },
    {
      "cell_type": "markdown",
      "metadata": {
        "id": "jFQrnM6FrvE9"
      },
      "source": [
        "De toute évidence, le marché s'est développé au fil du temps. Nous pouvons maintenant calculer le poids plafond de chaque industrie comme suit :\n",
        "\n",
        "\n",
        "\n"
      ]
    },
    {
      "cell_type": "code",
      "source": [
        "#poids de chaque secteur = capitalisation boursiére de chaque secteur / capiatlisation bousriere totale \n",
        "# output en % : partie du cap market\n",
        "ind_capweight = ind_mktcap.divide(total_mktcap, axis=\"rows\")"
      ],
      "metadata": {
        "id": "ApZVwOuQt7Z9"
      },
      "execution_count": null,
      "outputs": []
    },
    {
      "cell_type": "code",
      "source": [
        "all(abs(ind_capweight.sum(axis=\"columns\") - 1) < 1E-10)"
      ],
      "metadata": {
        "colab": {
          "base_uri": "https://localhost:8080/"
        },
        "id": "aP2zYuzmt9_E",
        "outputId": "4b2fa2b4-bdf0-455b-ff5b-34e6e676200d"
      },
      "execution_count": null,
      "outputs": [
        {
          "output_type": "execute_result",
          "data": {
            "text/plain": [
              "True"
            ]
          },
          "metadata": {},
          "execution_count": 44
        }
      ]
    },
    {
      "cell_type": "code",
      "source": [
        "ind_capweight[[\"Steel\", \"Fin\"]].plot()"
      ],
      "metadata": {
        "colab": {
          "base_uri": "https://localhost:8080/",
          "height": 282
        },
        "id": "KKr5yasLuB93",
        "outputId": "ce886154-4a0b-4e32-88e5-23302c8b573c"
      },
      "execution_count": null,
      "outputs": [
        {
          "output_type": "execute_result",
          "data": {
            "text/plain": [
              "<matplotlib.axes._subplots.AxesSubplot at 0x7fbb36551990>"
            ]
          },
          "metadata": {},
          "execution_count": 45
        },
        {
          "output_type": "display_data",
          "data": {
            "text/plain": [
              "<Figure size 432x288 with 1 Axes>"
            ],
            "image/png": "[encoded data removed]"
          },
          "metadata": {
            "needs_background": "light"
          }
        }
      ]
    },
    {
      "cell_type": "markdown",
      "metadata": {
        "id": "IM5A0qEWrvE_"
      },
      "source": [
        "# Constructing a Cap Weighted Market Index\n",
        "\n",
        "onstruire un indice de marché consiste à construire un portefeuille dont les pondérations sont rééquilibrées vers les pondérations cibles à chaque période. En réalité, les poids peuvent dériver dans le temps mais cette simplification est assez proche."
      ]
    },
    {
      "cell_type": "code",
      "source": [
        "#rendement totale de l'indice du marché\n",
        "total_market_return = (ind_capweight * ind).sum(axis=\"columns\")\n",
        "#l'indice du marché totale\n",
        "total_market_index = fct.drawdown(total_market_return).Wealth\n",
        "total_market_index.plot(title=\"Total Market Cap Weighted Index 1926-2018\")"
      ],
      "metadata": {
        "colab": {
          "base_uri": "https://localhost:8080/",
          "height": 298
        },
        "id": "6mpm68PouKKN",
        "outputId": "df777edc-b341-4db8-c763-d6706a52b9b6"
      },
      "execution_count": null,
      "outputs": [
        {
          "output_type": "execute_result",
          "data": {
            "text/plain": [
              "<matplotlib.axes._subplots.AxesSubplot at 0x7fbb361506d0>"
            ]
          },
          "metadata": {},
          "execution_count": 46
        },
        {
          "output_type": "display_data",
          "data": {
            "text/plain": [
              "<Figure size 432x288 with 1 Axes>"
            ],
            "image/png": "[encoded data removed]"
          },
          "metadata": {
            "needs_background": "light"
          }
        }
      ]
    },
    {
      "cell_type": "markdown",
      "source": [
        "\n",
        "```python\n",
        "def get_total_market_index_returns():\n",
        "    \"\"\"\n",
        "    Load the 30 industry portfolio data and derive the returns of a capweighted total market index\n",
        "    \"\"\"\n",
        "    ind_nfirms = get_ind_nfirms()\n",
        "    ind_size = get_ind_size()\n",
        "    ind_return = get_ind_returns()\n",
        "    ind_mktcap = ind_nfirms * ind_size\n",
        "    total_mktcap = ind_mktcap.sum(axis=1)\n",
        "    ind_capweight = ind_mktcap.divide(total_mktcap, axis=\"rows\")\n",
        "    total_market_return = (ind_capweight * ind_return).sum(axis=\"columns\")\n",
        "    return total_market_return\n",
        "\n",
        "```    "
      ],
      "metadata": {
        "id": "hCZq0Xj_uiUt"
      }
    },
    {
      "cell_type": "code",
      "source": [
        "total_market_return = fct.get_total_market_index_returns()\n",
        "total_market_index = fct.drawdown(total_market_return).Wealth\n",
        "total_market_index.plot(title=\"Total Market Cap Weighted Index 1926-2018\")"
      ],
      "metadata": {
        "colab": {
          "base_uri": "https://localhost:8080/",
          "height": 298
        },
        "id": "n6zpXgOjuqcj",
        "outputId": "3d66d90e-e50c-4b3d-b24a-8dcc0f3f3a1a"
      },
      "execution_count": null,
      "outputs": [
        {
          "output_type": "execute_result",
          "data": {
            "text/plain": [
              "<matplotlib.axes._subplots.AxesSubplot at 0x7fbb360a8f10>"
            ]
          },
          "metadata": {},
          "execution_count": 48
        },
        {
          "output_type": "display_data",
          "data": {
            "text/plain": [
              "<Figure size 432x288 with 1 Axes>"
            ],
            "image/png": "[encoded data removed]"
          },
          "metadata": {
            "needs_background": "light"
          }
        }
      ]
    },
    {
      "cell_type": "markdown",
      "metadata": {
        "id": "ghb_aJWCrvFA"
      },
      "source": [
        "# Rolling Windows\n",
        "Pandas contient un support direct pour les fenêtres roulantes et vous permet d'agréger les retours sur une fenêtre. Dans notre cas, calculons le rendement moyen sur une fenêtre de 36 mois."
      ]
    },
    {
      "cell_type": "code",
      "source": [
        "total_market_index[\"1980\":].plot(figsize=(12, 6))\n",
        "#moyenne de l'indice de 36 mois \n",
        "total_market_index[\"1980\":].rolling(window=36).mean().plot()"
      ],
      "metadata": {
        "colab": {
          "base_uri": "https://localhost:8080/",
          "height": 375
        },
        "id": "eJif0HhGu-SR",
        "outputId": "2898087e-173f-4b8a-8b82-4ff86ce3e9ae"
      },
      "execution_count": null,
      "outputs": [
        {
          "output_type": "execute_result",
          "data": {
            "text/plain": [
              "<matplotlib.axes._subplots.AxesSubplot at 0x7fbb36072d90>"
            ]
          },
          "metadata": {},
          "execution_count": 49
        },
        {
          "output_type": "display_data",
          "data": {
            "text/plain": [
              "<Figure size 864x432 with 1 Axes>"
            ],
            "image/png": "[encoded data removed]"
          },
          "metadata": {
            "needs_background": "light"
          }
        }
      ]
    },
    {
      "cell_type": "markdown",
      "metadata": {
        "id": "MD0WgYaNrvFA"
      },
      "source": [
        "Nous ne voulons pas vraiment le rendement moyen, nous voulons regarder le rendement composé sur 3 ans. Nous devons appliquer notre propre fonction, au lieu de `mean()`.\n",
        "\n",
        "Chaque fois que la fenêtre est avancée, un nouveau DataFrame (avec juste la tranche du DataFrame dans la fenêtre) est utilisé pour générer une nouvelle valeur. Vous pouvez soit utiliser l'une des méthodes DataFrame intégrées comme `.mean` ou vous pouvez utiliser la méthode `.aggregate` pour appliquer votre propre fonction à chaque colonne pour toutes les lignes qui tombent dans cette fenêtre.\n",
        "\n",
        "Créons une série chronologique des rendements annualisés sur les 36 derniers mois et la corrélation moyenne entre les actions sur ces mêmes 36 mois."
      ]
    },
    {
      "cell_type": "code",
      "source": [
        "#additionner les rendements au fil du temps\n",
        "#regrouper chacune de ces fenetres de 36 mois\n",
        "#les rendements de 36 mois\n",
        "tmi_tr36rets = total_market_return.rolling(window=36).aggregate(fct.annualize_rets, periods_per_year=12)\n",
        "tmi_tr36rets.plot(figsize=(12,5), label=\"Tr 36 mo Returns\", legend=True)\n",
        "#les renddements reels (actual returns)\n",
        "total_market_return.plot(label=\"Returns\", legend=True)"
      ],
      "metadata": {
        "colab": {
          "base_uri": "https://localhost:8080/",
          "height": 308
        },
        "id": "gnkoretavIQS",
        "outputId": "7d0f5332-948c-46ff-ca20-e883fb90392d"
      },
      "execution_count": null,
      "outputs": [
        {
          "output_type": "execute_result",
          "data": {
            "text/plain": [
              "<matplotlib.axes._subplots.AxesSubplot at 0x7fbb360140d0>"
            ]
          },
          "metadata": {},
          "execution_count": 50
        },
        {
          "output_type": "display_data",
          "data": {
            "text/plain": [
              "<Figure size 864x360 with 1 Axes>"
            ],
            "image/png": "[encoded data removed]"
          },
          "metadata": {
            "needs_background": "light"
          }
        }
      ]
    },
    {
      "cell_type": "markdown",
      "metadata": {
        "id": "ih1HMt4SrvFB"
      },
      "source": [
        "# Rolling Correlations: Multi Indexes and `.groupby`\n",
        "\n"
      ]
    },
    {
      "cell_type": "code",
      "source": [
        "# corrélation entre les inductries \n",
        "ts_corr = ind.rolling(window=36).corr()\n",
        "ts_corr.tail()\n",
        "# Output : time series de matrice non de chiifre \n",
        "# chaque période a une matrice de corr = multi index "
      ],
      "metadata": {
        "colab": {
          "base_uri": "https://localhost:8080/",
          "height": 299
        },
        "id": "L_AGqFBEvVPD",
        "outputId": "66558720-f1e0-4758-ea78-e6d1ba72115e"
      },
      "execution_count": null,
      "outputs": [
        {
          "output_type": "execute_result",
          "data": {
            "text/plain": [
              "                   Food      Beer     Smoke     Games     Books     Hshld  \\\n",
              "2018-12 Whlsl  0.474948  0.356983  0.122672  0.510425  0.803362  0.419280   \n",
              "        Rtail  0.517856  0.406107  0.030283  0.676464  0.636320  0.358336   \n",
              "        Meals  0.370187  0.385483  0.122007  0.301516  0.520649  0.308216   \n",
              "        Fin    0.298823  0.192706  0.027593  0.480276  0.694812  0.162690   \n",
              "        Other  0.436952  0.376565  0.224010  0.331829  0.558072  0.390610   \n",
              "\n",
              "                  Clths      Hlth     Chems     Txtls  ...     Telcm  \\\n",
              "2018-12 Whlsl  0.570071  0.739764  0.785796  0.634197  ...  0.648092   \n",
              "        Rtail  0.676598  0.714933  0.626034  0.634202  ...  0.562238   \n",
              "        Meals  0.302176  0.416193  0.520023  0.491726  ...  0.406184   \n",
              "        Fin    0.425899  0.658468  0.760151  0.577090  ...  0.420863   \n",
              "        Other  0.467099  0.645035  0.712511  0.520953  ...  0.607868   \n",
              "\n",
              "                  Servs     BusEq     Paper     Trans     Whlsl     Rtail  \\\n",
              "2018-12 Whlsl  0.567395  0.543362  0.764252  0.829185  1.000000  0.744842   \n",
              "        Rtail  0.762616  0.628246  0.656510  0.630615  0.744842  1.000000   \n",
              "        Meals  0.444629  0.399438  0.627113  0.663358  0.643879  0.616947   \n",
              "        Fin    0.585418  0.517947  0.670936  0.760730  0.746480  0.611883   \n",
              "        Other  0.460322  0.434487  0.773798  0.756961  0.767652  0.619918   \n",
              "\n",
              "                  Meals       Fin     Other  \n",
              "2018-12 Whlsl  0.643879  0.746480  0.767652  \n",
              "        Rtail  0.616947  0.611883  0.619918  \n",
              "        Meals  1.000000  0.502563  0.605226  \n",
              "        Fin    0.502563  1.000000  0.734837  \n",
              "        Other  0.605226  0.734837  1.000000  \n",
              "\n",
              "[5 rows x 30 columns]"
            ],
            "text/html": [
              "\n",
              "  <div id=\"df-e9033fdd-ac77-43f0-8f6b-d610dc0a2968\">\n",
              "    <div class=\"colab-df-container\">\n",
              "      <div>\n",
              "<style scoped>\n",
              "    .dataframe tbody tr th:only-of-type {\n",
              "        vertical-align: middle;\n",
              "    }\n",
              "\n",
              "    .dataframe tbody tr th {\n",
              "        vertical-align: top;\n",
              "    }\n",
              "\n",
              "    .dataframe thead th {\n",
              "        text-align: right;\n",
              "    }\n",
              "</style>\n",
              "<table border=\"1\" class=\"dataframe\">\n",
              "  <thead>\n",
              "    <tr style=\"text-align: right;\">\n",
              "      <th></th>\n",
              "      <th></th>\n",
              "      <th>Food</th>\n",
              "      <th>Beer</th>\n",
              "      <th>Smoke</th>\n",
              "      <th>Games</th>\n",
              "      <th>Books</th>\n",
              "      <th>Hshld</th>\n",
              "      <th>Clths</th>\n",
              "      <th>Hlth</th>\n",
              "      <th>Chems</th>\n",
              "      <th>Txtls</th>\n",
              "      <th>...</th>\n",
              "      <th>Telcm</th>\n",
              "      <th>Servs</th>\n",
              "      <th>BusEq</th>\n",
              "      <th>Paper</th>\n",
              "      <th>Trans</th>\n",
              "      <th>Whlsl</th>\n",
              "      <th>Rtail</th>\n",
              "      <th>Meals</th>\n",
              "      <th>Fin</th>\n",
              "      <th>Other</th>\n",
              "    </tr>\n",
              "  </thead>\n",
              "  <tbody>\n",
              "    <tr>\n",
              "      <th rowspan=\"5\" valign=\"top\">2018-12</th>\n",
              "      <th>Whlsl</th>\n",
              "      <td>0.474948</td>\n",
              "      <td>0.356983</td>\n",
              "      <td>0.122672</td>\n",
              "      <td>0.510425</td>\n",
              "      <td>0.803362</td>\n",
              "      <td>0.419280</td>\n",
              "      <td>0.570071</td>\n",
              "      <td>0.739764</td>\n",
              "      <td>0.785796</td>\n",
              "      <td>0.634197</td>\n",
              "      <td>...</td>\n",
              "      <td>0.648092</td>\n",
              "      <td>0.567395</td>\n",
              "      <td>0.543362</td>\n",
              "      <td>0.764252</td>\n",
              "      <td>0.829185</td>\n",
              "      <td>1.000000</td>\n",
              "      <td>0.744842</td>\n",
              "      <td>0.643879</td>\n",
              "      <td>0.746480</td>\n",
              "      <td>0.767652</td>\n",
              "    </tr>\n",
              "    <tr>\n",
              "      <th>Rtail</th>\n",
              "      <td>0.517856</td>\n",
              "      <td>0.406107</td>\n",
              "      <td>0.030283</td>\n",
              "      <td>0.676464</td>\n",
              "      <td>0.636320</td>\n",
              "      <td>0.358336</td>\n",
              "      <td>0.676598</td>\n",
              "      <td>0.714933</td>\n",
              "      <td>0.626034</td>\n",
              "      <td>0.634202</td>\n",
              "      <td>...</td>\n",
              "      <td>0.562238</td>\n",
              "      <td>0.762616</td>\n",
              "      <td>0.628246</td>\n",
              "      <td>0.656510</td>\n",
              "      <td>0.630615</td>\n",
              "      <td>0.744842</td>\n",
              "      <td>1.000000</td>\n",
              "      <td>0.616947</td>\n",
              "      <td>0.611883</td>\n",
              "      <td>0.619918</td>\n",
              "    </tr>\n",
              "    <tr>\n",
              "      <th>Meals</th>\n",
              "      <td>0.370187</td>\n",
              "      <td>0.385483</td>\n",
              "      <td>0.122007</td>\n",
              "      <td>0.301516</td>\n",
              "      <td>0.520649</td>\n",
              "      <td>0.308216</td>\n",
              "      <td>0.302176</td>\n",
              "      <td>0.416193</td>\n",
              "      <td>0.520023</td>\n",
              "      <td>0.491726</td>\n",
              "      <td>...</td>\n",
              "      <td>0.406184</td>\n",
              "      <td>0.444629</td>\n",
              "      <td>0.399438</td>\n",
              "      <td>0.627113</td>\n",
              "      <td>0.663358</td>\n",
              "      <td>0.643879</td>\n",
              "      <td>0.616947</td>\n",
              "      <td>1.000000</td>\n",
              "      <td>0.502563</td>\n",
              "      <td>0.605226</td>\n",
              "    </tr>\n",
              "    <tr>\n",
              "      <th>Fin</th>\n",
              "      <td>0.298823</td>\n",
              "      <td>0.192706</td>\n",
              "      <td>0.027593</td>\n",
              "      <td>0.480276</td>\n",
              "      <td>0.694812</td>\n",
              "      <td>0.162690</td>\n",
              "      <td>0.425899</td>\n",
              "      <td>0.658468</td>\n",
              "      <td>0.760151</td>\n",
              "      <td>0.577090</td>\n",
              "      <td>...</td>\n",
              "      <td>0.420863</td>\n",
              "      <td>0.585418</td>\n",
              "      <td>0.517947</td>\n",
              "      <td>0.670936</td>\n",
              "      <td>0.760730</td>\n",
              "      <td>0.746480</td>\n",
              "      <td>0.611883</td>\n",
              "      <td>0.502563</td>\n",
              "      <td>1.000000</td>\n",
              "      <td>0.734837</td>\n",
              "    </tr>\n",
              "    <tr>\n",
              "      <th>Other</th>\n",
              "      <td>0.436952</td>\n",
              "      <td>0.376565</td>\n",
              "      <td>0.224010</td>\n",
              "      <td>0.331829</td>\n",
              "      <td>0.558072</td>\n",
              "      <td>0.390610</td>\n",
              "      <td>0.467099</td>\n",
              "      <td>0.645035</td>\n",
              "      <td>0.712511</td>\n",
              "      <td>0.520953</td>\n",
              "      <td>...</td>\n",
              "      <td>0.607868</td>\n",
              "      <td>0.460322</td>\n",
              "      <td>0.434487</td>\n",
              "      <td>0.773798</td>\n",
              "      <td>0.756961</td>\n",
              "      <td>0.767652</td>\n",
              "      <td>0.619918</td>\n",
              "      <td>0.605226</td>\n",
              "      <td>0.734837</td>\n",
              "      <td>1.000000</td>\n",
              "    </tr>\n",
              "  </tbody>\n",
              "</table>\n",
              "<p>5 rows × 30 columns</p>\n",
              "</div>\n",
              "      <button class=\"colab-df-convert\" onclick=\"convertToInteractive('df-e9033fdd-ac77-43f0-8f6b-d610dc0a2968')\"\n",
              "              title=\"Convert this dataframe to an interactive table.\"\n",
              "              style=\"display:none;\">\n",
              "        \n",
              "  <svg xmlns=\"http://www.w3.org/2000/svg\" height=\"24px\"viewBox=\"0 0 24 24\"\n",
              "       width=\"24px\">\n",
              "    <path d=\"M0 0h24v24H0V0z\" fill=\"none\"/>\n",
              "    <path d=\"M18.56 5.44l.94 2.06.94-2.06 2.06-.94-2.06-.94-.94-2.06-.94 2.06-2.06.94zm-11 1L8.5 8.5l.94-2.06 2.06-.94-2.06-.94L8.5 2.5l-.94 2.06-2.06.94zm10 10l.94 2.06.94-2.06 2.06-.94-2.06-.94-.94-2.06-.94 2.06-2.06.94z\"/><path d=\"M17.41 7.96l-1.37-1.37c-.4-.4-.92-.59-1.43-.59-.52 0-1.04.2-1.43.59L10.3 9.45l-7.72 7.72c-.78.78-.78 2.05 0 2.83L4 21.41c.39.39.9.59 1.41.59.51 0 1.02-.2 1.41-.59l7.78-7.78 2.81-2.81c.8-.78.8-2.07 0-2.86zM5.41 20L4 18.59l7.72-7.72 1.47 1.35L5.41 20z\"/>\n",
              "  </svg>\n",
              "      </button>\n",
              "      \n",
              "  <style>\n",
              "    .colab-df-container {\n",
              "      display:flex;\n",
              "      flex-wrap:wrap;\n",
              "      gap: 12px;\n",
              "    }\n",
              "\n",
              "    .colab-df-convert {\n",
              "      background-color: #E8F0FE;\n",
              "      border: none;\n",
              "      border-radius: 50%;\n",
              "      cursor: pointer;\n",
              "      display: none;\n",
              "      fill: #1967D2;\n",
              "      height: 32px;\n",
              "      padding: 0 0 0 0;\n",
              "      width: 32px;\n",
              "    }\n",
              "\n",
              "    .colab-df-convert:hover {\n",
              "      background-color: #E2EBFA;\n",
              "      box-shadow: 0px 1px 2px rgba(60, 64, 67, 0.3), 0px 1px 3px 1px rgba(60, 64, 67, 0.15);\n",
              "      fill: #174EA6;\n",
              "    }\n",
              "\n",
              "    [theme=dark] .colab-df-convert {\n",
              "      background-color: #3B4455;\n",
              "      fill: #D2E3FC;\n",
              "    }\n",
              "\n",
              "    [theme=dark] .colab-df-convert:hover {\n",
              "      background-color: #434B5C;\n",
              "      box-shadow: 0px 1px 3px 1px rgba(0, 0, 0, 0.15);\n",
              "      filter: drop-shadow(0px 1px 2px rgba(0, 0, 0, 0.3));\n",
              "      fill: #FFFFFF;\n",
              "    }\n",
              "  </style>\n",
              "\n",
              "      <script>\n",
              "        const buttonEl =\n",
              "          document.querySelector('#df-e9033fdd-ac77-43f0-8f6b-d610dc0a2968 button.colab-df-convert');\n",
              "        buttonEl.style.display =\n",
              "          google.colab.kernel.accessAllowed ? 'block' : 'none';\n",
              "\n",
              "        async function convertToInteractive(key) {\n",
              "          const element = document.querySelector('#df-e9033fdd-ac77-43f0-8f6b-d610dc0a2968');\n",
              "          const dataTable =\n",
              "            await google.colab.kernel.invokeFunction('convertToInteractive',\n",
              "                                                     [key], {});\n",
              "          if (!dataTable) return;\n",
              "\n",
              "          const docLinkHtml = 'Like what you see? Visit the ' +\n",
              "            '<a target=\"_blank\" href=https://colab.research.google.com/notebooks/data_table.ipynb>data table notebook</a>'\n",
              "            + ' to learn more about interactive tables.';\n",
              "          element.innerHTML = '';\n",
              "          dataTable['output_type'] = 'display_data';\n",
              "          await google.colab.output.renderOutput(dataTable, element);\n",
              "          const docLink = document.createElement('div');\n",
              "          docLink.innerHTML = docLinkHtml;\n",
              "          element.appendChild(docLink);\n",
              "        }\n",
              "      </script>\n",
              "    </div>\n",
              "  </div>\n",
              "  "
            ]
          },
          "metadata": {},
          "execution_count": 51
        }
      ]
    },
    {
      "cell_type": "code",
      "source": [
        "ts_corr.index.names = ['date', 'industry']\n",
        "ts_corr.tail()"
      ],
      "metadata": {
        "colab": {
          "base_uri": "https://localhost:8080/",
          "height": 331
        },
        "id": "LsrqaB62vbA2",
        "outputId": "c2ffedc6-8c0d-423d-cc44-47d55cc5b57d"
      },
      "execution_count": null,
      "outputs": [
        {
          "output_type": "execute_result",
          "data": {
            "text/plain": [
              "                      Food      Beer     Smoke     Games     Books     Hshld  \\\n",
              "date    industry                                                               \n",
              "2018-12 Whlsl     0.474948  0.356983  0.122672  0.510425  0.803362  0.419280   \n",
              "        Rtail     0.517856  0.406107  0.030283  0.676464  0.636320  0.358336   \n",
              "        Meals     0.370187  0.385483  0.122007  0.301516  0.520649  0.308216   \n",
              "        Fin       0.298823  0.192706  0.027593  0.480276  0.694812  0.162690   \n",
              "        Other     0.436952  0.376565  0.224010  0.331829  0.558072  0.390610   \n",
              "\n",
              "                     Clths      Hlth     Chems     Txtls  ...     Telcm  \\\n",
              "date    industry                                          ...             \n",
              "2018-12 Whlsl     0.570071  0.739764  0.785796  0.634197  ...  0.648092   \n",
              "        Rtail     0.676598  0.714933  0.626034  0.634202  ...  0.562238   \n",
              "        Meals     0.302176  0.416193  0.520023  0.491726  ...  0.406184   \n",
              "        Fin       0.425899  0.658468  0.760151  0.577090  ...  0.420863   \n",
              "        Other     0.467099  0.645035  0.712511  0.520953  ...  0.607868   \n",
              "\n",
              "                     Servs     BusEq     Paper     Trans     Whlsl     Rtail  \\\n",
              "date    industry                                                               \n",
              "2018-12 Whlsl     0.567395  0.543362  0.764252  0.829185  1.000000  0.744842   \n",
              "        Rtail     0.762616  0.628246  0.656510  0.630615  0.744842  1.000000   \n",
              "        Meals     0.444629  0.399438  0.627113  0.663358  0.643879  0.616947   \n",
              "        Fin       0.585418  0.517947  0.670936  0.760730  0.746480  0.611883   \n",
              "        Other     0.460322  0.434487  0.773798  0.756961  0.767652  0.619918   \n",
              "\n",
              "                     Meals       Fin     Other  \n",
              "date    industry                                \n",
              "2018-12 Whlsl     0.643879  0.746480  0.767652  \n",
              "        Rtail     0.616947  0.611883  0.619918  \n",
              "        Meals     1.000000  0.502563  0.605226  \n",
              "        Fin       0.502563  1.000000  0.734837  \n",
              "        Other     0.605226  0.734837  1.000000  \n",
              "\n",
              "[5 rows x 30 columns]"
            ],
            "text/html": [
              "\n",
              "  <div id=\"df-0b9bcf87-35d6-4a44-97f6-1db74c52d493\">\n",
              "    <div class=\"colab-df-container\">\n",
              "      <div>\n",
              "<style scoped>\n",
              "    .dataframe tbody tr th:only-of-type {\n",
              "        vertical-align: middle;\n",
              "    }\n",
              "\n",
              "    .dataframe tbody tr th {\n",
              "        vertical-align: top;\n",
              "    }\n",
              "\n",
              "    .dataframe thead th {\n",
              "        text-align: right;\n",
              "    }\n",
              "</style>\n",
              "<table border=\"1\" class=\"dataframe\">\n",
              "  <thead>\n",
              "    <tr style=\"text-align: right;\">\n",
              "      <th></th>\n",
              "      <th></th>\n",
              "      <th>Food</th>\n",
              "      <th>Beer</th>\n",
              "      <th>Smoke</th>\n",
              "      <th>Games</th>\n",
              "      <th>Books</th>\n",
              "      <th>Hshld</th>\n",
              "      <th>Clths</th>\n",
              "      <th>Hlth</th>\n",
              "      <th>Chems</th>\n",
              "      <th>Txtls</th>\n",
              "      <th>...</th>\n",
              "      <th>Telcm</th>\n",
              "      <th>Servs</th>\n",
              "      <th>BusEq</th>\n",
              "      <th>Paper</th>\n",
              "      <th>Trans</th>\n",
              "      <th>Whlsl</th>\n",
              "      <th>Rtail</th>\n",
              "      <th>Meals</th>\n",
              "      <th>Fin</th>\n",
              "      <th>Other</th>\n",
              "    </tr>\n",
              "    <tr>\n",
              "      <th>date</th>\n",
              "      <th>industry</th>\n",
              "      <th></th>\n",
              "      <th></th>\n",
              "      <th></th>\n",
              "      <th></th>\n",
              "      <th></th>\n",
              "      <th></th>\n",
              "      <th></th>\n",
              "      <th></th>\n",
              "      <th></th>\n",
              "      <th></th>\n",
              "      <th></th>\n",
              "      <th></th>\n",
              "      <th></th>\n",
              "      <th></th>\n",
              "      <th></th>\n",
              "      <th></th>\n",
              "      <th></th>\n",
              "      <th></th>\n",
              "      <th></th>\n",
              "      <th></th>\n",
              "      <th></th>\n",
              "    </tr>\n",
              "  </thead>\n",
              "  <tbody>\n",
              "    <tr>\n",
              "      <th rowspan=\"5\" valign=\"top\">2018-12</th>\n",
              "      <th>Whlsl</th>\n",
              "      <td>0.474948</td>\n",
              "      <td>0.356983</td>\n",
              "      <td>0.122672</td>\n",
              "      <td>0.510425</td>\n",
              "      <td>0.803362</td>\n",
              "      <td>0.419280</td>\n",
              "      <td>0.570071</td>\n",
              "      <td>0.739764</td>\n",
              "      <td>0.785796</td>\n",
              "      <td>0.634197</td>\n",
              "      <td>...</td>\n",
              "      <td>0.648092</td>\n",
              "      <td>0.567395</td>\n",
              "      <td>0.543362</td>\n",
              "      <td>0.764252</td>\n",
              "      <td>0.829185</td>\n",
              "      <td>1.000000</td>\n",
              "      <td>0.744842</td>\n",
              "      <td>0.643879</td>\n",
              "      <td>0.746480</td>\n",
              "      <td>0.767652</td>\n",
              "    </tr>\n",
              "    <tr>\n",
              "      <th>Rtail</th>\n",
              "      <td>0.517856</td>\n",
              "      <td>0.406107</td>\n",
              "      <td>0.030283</td>\n",
              "      <td>0.676464</td>\n",
              "      <td>0.636320</td>\n",
              "      <td>0.358336</td>\n",
              "      <td>0.676598</td>\n",
              "      <td>0.714933</td>\n",
              "      <td>0.626034</td>\n",
              "      <td>0.634202</td>\n",
              "      <td>...</td>\n",
              "      <td>0.562238</td>\n",
              "      <td>0.762616</td>\n",
              "      <td>0.628246</td>\n",
              "      <td>0.656510</td>\n",
              "      <td>0.630615</td>\n",
              "      <td>0.744842</td>\n",
              "      <td>1.000000</td>\n",
              "      <td>0.616947</td>\n",
              "      <td>0.611883</td>\n",
              "      <td>0.619918</td>\n",
              "    </tr>\n",
              "    <tr>\n",
              "      <th>Meals</th>\n",
              "      <td>0.370187</td>\n",
              "      <td>0.385483</td>\n",
              "      <td>0.122007</td>\n",
              "      <td>0.301516</td>\n",
              "      <td>0.520649</td>\n",
              "      <td>0.308216</td>\n",
              "      <td>0.302176</td>\n",
              "      <td>0.416193</td>\n",
              "      <td>0.520023</td>\n",
              "      <td>0.491726</td>\n",
              "      <td>...</td>\n",
              "      <td>0.406184</td>\n",
              "      <td>0.444629</td>\n",
              "      <td>0.399438</td>\n",
              "      <td>0.627113</td>\n",
              "      <td>0.663358</td>\n",
              "      <td>0.643879</td>\n",
              "      <td>0.616947</td>\n",
              "      <td>1.000000</td>\n",
              "      <td>0.502563</td>\n",
              "      <td>0.605226</td>\n",
              "    </tr>\n",
              "    <tr>\n",
              "      <th>Fin</th>\n",
              "      <td>0.298823</td>\n",
              "      <td>0.192706</td>\n",
              "      <td>0.027593</td>\n",
              "      <td>0.480276</td>\n",
              "      <td>0.694812</td>\n",
              "      <td>0.162690</td>\n",
              "      <td>0.425899</td>\n",
              "      <td>0.658468</td>\n",
              "      <td>0.760151</td>\n",
              "      <td>0.577090</td>\n",
              "      <td>...</td>\n",
              "      <td>0.420863</td>\n",
              "      <td>0.585418</td>\n",
              "      <td>0.517947</td>\n",
              "      <td>0.670936</td>\n",
              "      <td>0.760730</td>\n",
              "      <td>0.746480</td>\n",
              "      <td>0.611883</td>\n",
              "      <td>0.502563</td>\n",
              "      <td>1.000000</td>\n",
              "      <td>0.734837</td>\n",
              "    </tr>\n",
              "    <tr>\n",
              "      <th>Other</th>\n",
              "      <td>0.436952</td>\n",
              "      <td>0.376565</td>\n",
              "      <td>0.224010</td>\n",
              "      <td>0.331829</td>\n",
              "      <td>0.558072</td>\n",
              "      <td>0.390610</td>\n",
              "      <td>0.467099</td>\n",
              "      <td>0.645035</td>\n",
              "      <td>0.712511</td>\n",
              "      <td>0.520953</td>\n",
              "      <td>...</td>\n",
              "      <td>0.607868</td>\n",
              "      <td>0.460322</td>\n",
              "      <td>0.434487</td>\n",
              "      <td>0.773798</td>\n",
              "      <td>0.756961</td>\n",
              "      <td>0.767652</td>\n",
              "      <td>0.619918</td>\n",
              "      <td>0.605226</td>\n",
              "      <td>0.734837</td>\n",
              "      <td>1.000000</td>\n",
              "    </tr>\n",
              "  </tbody>\n",
              "</table>\n",
              "<p>5 rows × 30 columns</p>\n",
              "</div>\n",
              "      <button class=\"colab-df-convert\" onclick=\"convertToInteractive('df-0b9bcf87-35d6-4a44-97f6-1db74c52d493')\"\n",
              "              title=\"Convert this dataframe to an interactive table.\"\n",
              "              style=\"display:none;\">\n",
              "        \n",
              "  <svg xmlns=\"http://www.w3.org/2000/svg\" height=\"24px\"viewBox=\"0 0 24 24\"\n",
              "       width=\"24px\">\n",
              "    <path d=\"M0 0h24v24H0V0z\" fill=\"none\"/>\n",
              "    <path d=\"M18.56 5.44l.94 2.06.94-2.06 2.06-.94-2.06-.94-.94-2.06-.94 2.06-2.06.94zm-11 1L8.5 8.5l.94-2.06 2.06-.94-2.06-.94L8.5 2.5l-.94 2.06-2.06.94zm10 10l.94 2.06.94-2.06 2.06-.94-2.06-.94-.94-2.06-.94 2.06-2.06.94z\"/><path d=\"M17.41 7.96l-1.37-1.37c-.4-.4-.92-.59-1.43-.59-.52 0-1.04.2-1.43.59L10.3 9.45l-7.72 7.72c-.78.78-.78 2.05 0 2.83L4 21.41c.39.39.9.59 1.41.59.51 0 1.02-.2 1.41-.59l7.78-7.78 2.81-2.81c.8-.78.8-2.07 0-2.86zM5.41 20L4 18.59l7.72-7.72 1.47 1.35L5.41 20z\"/>\n",
              "  </svg>\n",
              "      </button>\n",
              "      \n",
              "  <style>\n",
              "    .colab-df-container {\n",
              "      display:flex;\n",
              "      flex-wrap:wrap;\n",
              "      gap: 12px;\n",
              "    }\n",
              "\n",
              "    .colab-df-convert {\n",
              "      background-color: #E8F0FE;\n",
              "      border: none;\n",
              "      border-radius: 50%;\n",
              "      cursor: pointer;\n",
              "      display: none;\n",
              "      fill: #1967D2;\n",
              "      height: 32px;\n",
              "      padding: 0 0 0 0;\n",
              "      width: 32px;\n",
              "    }\n",
              "\n",
              "    .colab-df-convert:hover {\n",
              "      background-color: #E2EBFA;\n",
              "      box-shadow: 0px 1px 2px rgba(60, 64, 67, 0.3), 0px 1px 3px 1px rgba(60, 64, 67, 0.15);\n",
              "      fill: #174EA6;\n",
              "    }\n",
              "\n",
              "    [theme=dark] .colab-df-convert {\n",
              "      background-color: #3B4455;\n",
              "      fill: #D2E3FC;\n",
              "    }\n",
              "\n",
              "    [theme=dark] .colab-df-convert:hover {\n",
              "      background-color: #434B5C;\n",
              "      box-shadow: 0px 1px 3px 1px rgba(0, 0, 0, 0.15);\n",
              "      filter: drop-shadow(0px 1px 2px rgba(0, 0, 0, 0.3));\n",
              "      fill: #FFFFFF;\n",
              "    }\n",
              "  </style>\n",
              "\n",
              "      <script>\n",
              "        const buttonEl =\n",
              "          document.querySelector('#df-0b9bcf87-35d6-4a44-97f6-1db74c52d493 button.colab-df-convert');\n",
              "        buttonEl.style.display =\n",
              "          google.colab.kernel.accessAllowed ? 'block' : 'none';\n",
              "\n",
              "        async function convertToInteractive(key) {\n",
              "          const element = document.querySelector('#df-0b9bcf87-35d6-4a44-97f6-1db74c52d493');\n",
              "          const dataTable =\n",
              "            await google.colab.kernel.invokeFunction('convertToInteractive',\n",
              "                                                     [key], {});\n",
              "          if (!dataTable) return;\n",
              "\n",
              "          const docLinkHtml = 'Like what you see? Visit the ' +\n",
              "            '<a target=\"_blank\" href=https://colab.research.google.com/notebooks/data_table.ipynb>data table notebook</a>'\n",
              "            + ' to learn more about interactive tables.';\n",
              "          element.innerHTML = '';\n",
              "          dataTable['output_type'] = 'display_data';\n",
              "          await google.colab.output.renderOutput(dataTable, element);\n",
              "          const docLink = document.createElement('div');\n",
              "          docLink.innerHTML = docLinkHtml;\n",
              "          element.appendChild(docLink);\n",
              "        }\n",
              "      </script>\n",
              "    </div>\n",
              "  </div>\n",
              "  "
            ]
          },
          "metadata": {},
          "execution_count": 52
        }
      ]
    },
    {
      "cell_type": "code",
      "source": [
        "# group by date \n",
        "# chaque date a une moyenne de la matrice de corr \n",
        "ind_tr36corr = ts_corr.groupby(level='date').apply(lambda cormat: cormat.values.mean())"
      ],
      "metadata": {
        "id": "rEJvqeEjviXx"
      },
      "execution_count": null,
      "outputs": []
    },
    {
      "cell_type": "code",
      "source": [
        "# secondary_y : deux axes de y ( erturn and corr)\n",
        "tmi_tr36rets.plot(secondary_y=True, legend=True, label=\"Tr 36 mo return\", figsize=(12,6))\n",
        "ind_tr36corr.plot(legend=True, label=\"Tr 36 mo Avg Correlation\")"
      ],
      "metadata": {
        "colab": {
          "base_uri": "https://localhost:8080/",
          "height": 358
        },
        "id": "0ujwZBwbvl52",
        "outputId": "fe552198-c6c0-46b3-f4cf-9bb5a0634a2a"
      },
      "execution_count": null,
      "outputs": [
        {
          "output_type": "execute_result",
          "data": {
            "text/plain": [
              "<matplotlib.axes._subplots.AxesSubplot at 0x7fbb36014c90>"
            ]
          },
          "metadata": {},
          "execution_count": 54
        },
        {
          "output_type": "display_data",
          "data": {
            "text/plain": [
              "<Figure size 864x432 with 2 Axes>"
            ],
            "image/png": "[encoded data removed]"
          },
          "metadata": {
            "needs_background": "light"
          }
        }
      ]
    },
    {
      "cell_type": "markdown",
      "source": [
        "Interpretation :\n",
        "lorsque le marché diminue , les corrélations augmentent"
      ],
      "metadata": {
        "id": "dWBEodaZJ46n"
      }
    },
    {
      "cell_type": "code",
      "source": [
        "# la corrélation entre la corrélatin moyenne des industries\n",
        "tmi_tr36rets.corr(ind_tr36corr)"
      ],
      "metadata": {
        "id": "vQpsDuaqvtH0"
      },
      "execution_count": null,
      "outputs": []
    },
    {
      "cell_type": "markdown",
      "metadata": {
        "id": "pZZCRGTBrvFD"
      },
      "source": [
        "ces deux séries sont négativement corrélées, ce qui explique pourquoi la diversification vous échoue lorsque vous en avez le plus besoin. Lorsque les marchés chutent, les corrélations augmentent, ce qui rend la diversification beaucoup moins précieuse.\n",
        "\n",
        "Au lieu de cela, nous verrons comment utiliser l'assurance pour protéger les risques."
      ]
    },
    {
      "cell_type": "markdown",
      "metadata": {
        "id": "3vPmKBvLfPON"
      },
      "source": [
        "# Implementing Portfolio Insurance (CPPI) and Drawdown Constraints"
      ]
    },
    {
      "cell_type": "markdown",
      "metadata": {
        "id": "HJcRnOM2fPOR"
      },
      "source": [
        "Implementer l'algorithme de base de budgétisation dynamique des risques de l'assurance de portefeuille à proportion constante et le tester par rapport à différents portefeuilles.\n"
      ]
    },
    {
      "cell_type": "code",
      "source": [
        "tmi_return = fct.get_total_market_index_returns()"
      ],
      "metadata": {
        "id": "IeloqPzrwj1z"
      },
      "execution_count": null,
      "outputs": []
    },
    {
      "cell_type": "markdown",
      "metadata": {
        "id": "I6YYmoF9fPOT"
      },
      "source": [
        " prend en entrée les rendements d'un actif risqué et d'un actif sûr, ainsi que la richesse initiale à investir au départ, ainsi qu'un plancher à ne pas franchir."
      ]
    },
    {
      "cell_type": "markdown",
      "metadata": {
        "id": "FAx-eKc1fPOU"
      },
      "source": [
        "\n",
        "\n",
        "1. Calculer le coussin (valeur de l'actif moins plancher)\n",
        "2. Calculer l'allocation ( m*risky_asset)\n",
        "3. Recalculer la nouvelle valeur de l'actif en fonction des rendements\n",
        "\n"
      ]
    },
    {
      "cell_type": "markdown",
      "source": [
        "```python\n",
        "\n",
        "def run_cppi(risky_r, safe_r=None, m=3, start=1000, floor=0.8, riskfree_rate=0.03, drawdown=None):\n",
        "    \"\"\"\n",
        "    Run a backtest of the CPPI strategy, given a set of returns for the risky asset\n",
        "    Returns a dictionary containing: Asset Value History, Risk Budget History, Risky Weight History\n",
        "    \"\"\"\n",
        "    # set up the CPPI parameters\n",
        "    dates = risky_r.index\n",
        "    n_steps = len(dates)\n",
        "    account_value = start\n",
        "    floor_value = start*floor\n",
        "    peak = account_value\n",
        "    if isinstance(risky_r, pd.Series): \n",
        "        risky_r = pd.DataFrame(risky_r, columns=[\"R\"])\n",
        "\n",
        "    if safe_r is None:\n",
        "        safe_r = pd.DataFrame().reindex_like(risky_r)\n",
        "        safe_r.values[:] = riskfree_rate/12 # fast way to set all values to a number\n",
        "    # set up some DataFrames for saving intermediate values\n",
        "    account_history = pd.DataFrame().reindex_like(risky_r)\n",
        "    risky_w_history = pd.DataFrame().reindex_like(risky_r)\n",
        "    cushion_history = pd.DataFrame().reindex_like(risky_r)\n",
        "    floorval_history = pd.DataFrame().reindex_like(risky_r)\n",
        "    peak_history = pd.DataFrame().reindex_like(risky_r)\n",
        "\n",
        "    for step in range(n_steps):\n",
        "        if drawdown is not None:\n",
        "            peak = np.maximum(peak, account_value)\n",
        "            floor_value = peak*(1-drawdown)\n",
        "        cushion = (account_value - floor_value)/account_value\n",
        "        risky_w = m*cushion\n",
        "        risky_w = np.minimum(risky_w, 1)\n",
        "        risky_w = np.maximum(risky_w, 0)\n",
        "        safe_w = 1-risky_w\n",
        "        risky_alloc = account_value*risky_w\n",
        "        safe_alloc = account_value*safe_w\n",
        "        # recompute the new account value at the end of this step\n",
        "        account_value = risky_alloc*(1+risky_r.iloc[step]) + safe_alloc*(1+safe_r.iloc[step])\n",
        "        # save the histories for analysis and plotting\n",
        "        cushion_history.iloc[step] = cushion\n",
        "        risky_w_history.iloc[step] = risky_w\n",
        "        account_history.iloc[step] = account_value\n",
        "        floorval_history.iloc[step] = floor_value\n",
        "        peak_history.iloc[step] = peak\n",
        "    risky_wealth = start*(1+risky_r).cumprod()\n",
        "    backtest_result = {\n",
        "        \"Wealth\": account_history,\n",
        "        \"Risky Wealth\": risky_wealth, \n",
        "        \"Risk Budget\": cushion_history,\n",
        "        \"Risky Allocation\": risky_w_history,\n",
        "        \"m\": m,\n",
        "        \"start\": start,\n",
        "        \"floor\": floor,\n",
        "        \"risky_r\":risky_r,\n",
        "        \"safe_r\": safe_r,\n",
        "        \"drawdown\": drawdown,\n",
        "        \"peak\": peak_history,\n",
        "        \"floor\": floorval_history\n",
        "    }\n",
        "    return backtest_result\n",
        "\n",
        "```    \n",
        "\n"
      ],
      "metadata": {
        "id": "tThHzpTexw0C"
      }
    },
    {
      "cell_type": "code",
      "source": [
        "\n",
        "btr= fct.run_cppi(ind[\"2007\":][[\"Beer\"]])\n",
        "ax = btr[\"Wealth\"].plot()\n",
        "btr[\"Risky Wealth\"].plot(style=\"k:\")\n",
        "Floor = btr[\"floor\"]\n",
        "ax.axhline(y=Floor, color='r', linestyle='--')"
      ],
      "metadata": {
        "colab": {
          "base_uri": "https://localhost:8080/",
          "height": 859
        },
        "id": "BxhfkIJCyo6o",
        "outputId": "a606d6d5-57be-4285-e241-5feeccc422bb"
      },
      "execution_count": null,
      "outputs": [
        {
          "output_type": "error",
          "ename": "ValueError",
          "evalue": "ignored",
          "traceback": [
            "\u001b[0;31m---------------------------------------------------------------------------\u001b[0m",
            "\u001b[0;31mValueError\u001b[0m                                Traceback (most recent call last)",
            "\u001b[0;32m<ipython-input-56-02f962f5c90d>\u001b[0m in \u001b[0;36m<module>\u001b[0;34m()\u001b[0m\n\u001b[1;32m      4\u001b[0m \u001b[0mbtr\u001b[0m\u001b[0;34m[\u001b[0m\u001b[0;34m\"Risky Wealth\"\u001b[0m\u001b[0;34m]\u001b[0m\u001b[0;34m.\u001b[0m\u001b[0mplot\u001b[0m\u001b[0;34m(\u001b[0m\u001b[0mstyle\u001b[0m\u001b[0;34m=\u001b[0m\u001b[0;34m\"k:\"\u001b[0m\u001b[0;34m)\u001b[0m\u001b[0;34m\u001b[0m\u001b[0;34m\u001b[0m\u001b[0m\n\u001b[1;32m      5\u001b[0m \u001b[0mFloor\u001b[0m \u001b[0;34m=\u001b[0m \u001b[0mbtr\u001b[0m\u001b[0;34m[\u001b[0m\u001b[0;34m\"floor\"\u001b[0m\u001b[0;34m]\u001b[0m\u001b[0;34m\u001b[0m\u001b[0;34m\u001b[0m\u001b[0m\n\u001b[0;32m----> 6\u001b[0;31m \u001b[0max\u001b[0m\u001b[0;34m.\u001b[0m\u001b[0maxhline\u001b[0m\u001b[0;34m(\u001b[0m\u001b[0my\u001b[0m\u001b[0;34m=\u001b[0m\u001b[0mFloor\u001b[0m\u001b[0;34m,\u001b[0m \u001b[0mcolor\u001b[0m\u001b[0;34m=\u001b[0m\u001b[0;34m'r'\u001b[0m\u001b[0;34m,\u001b[0m \u001b[0mlinestyle\u001b[0m\u001b[0;34m=\u001b[0m\u001b[0;34m'--'\u001b[0m\u001b[0;34m)\u001b[0m\u001b[0;34m\u001b[0m\u001b[0;34m\u001b[0m\u001b[0m\n\u001b[0m",
            "\u001b[0;32m/usr/local/lib/python3.7/dist-packages/matplotlib/axes/_axes.py\u001b[0m in \u001b[0;36maxhline\u001b[0;34m(self, y, xmin, xmax, **kwargs)\u001b[0m\n\u001b[1;32m    845\u001b[0m         \u001b[0mself\u001b[0m\u001b[0;34m.\u001b[0m\u001b[0m_process_unit_info\u001b[0m\u001b[0;34m(\u001b[0m\u001b[0mydata\u001b[0m\u001b[0;34m=\u001b[0m\u001b[0my\u001b[0m\u001b[0;34m,\u001b[0m \u001b[0mkwargs\u001b[0m\u001b[0;34m=\u001b[0m\u001b[0mkwargs\u001b[0m\u001b[0;34m)\u001b[0m\u001b[0;34m\u001b[0m\u001b[0;34m\u001b[0m\u001b[0m\n\u001b[1;32m    846\u001b[0m         \u001b[0myy\u001b[0m \u001b[0;34m=\u001b[0m \u001b[0mself\u001b[0m\u001b[0;34m.\u001b[0m\u001b[0mconvert_yunits\u001b[0m\u001b[0;34m(\u001b[0m\u001b[0my\u001b[0m\u001b[0;34m)\u001b[0m\u001b[0;34m\u001b[0m\u001b[0;34m\u001b[0m\u001b[0m\n\u001b[0;32m--> 847\u001b[0;31m         \u001b[0mscaley\u001b[0m \u001b[0;34m=\u001b[0m \u001b[0;34m(\u001b[0m\u001b[0myy\u001b[0m \u001b[0;34m<\u001b[0m \u001b[0mymin\u001b[0m\u001b[0;34m)\u001b[0m \u001b[0;32mor\u001b[0m \u001b[0;34m(\u001b[0m\u001b[0myy\u001b[0m \u001b[0;34m>\u001b[0m \u001b[0mymax\u001b[0m\u001b[0;34m)\u001b[0m\u001b[0;34m\u001b[0m\u001b[0;34m\u001b[0m\u001b[0m\n\u001b[0m\u001b[1;32m    848\u001b[0m \u001b[0;34m\u001b[0m\u001b[0m\n\u001b[1;32m    849\u001b[0m         \u001b[0mtrans\u001b[0m \u001b[0;34m=\u001b[0m \u001b[0mself\u001b[0m\u001b[0;34m.\u001b[0m\u001b[0mget_yaxis_transform\u001b[0m\u001b[0;34m(\u001b[0m\u001b[0mwhich\u001b[0m\u001b[0;34m=\u001b[0m\u001b[0;34m'grid'\u001b[0m\u001b[0;34m)\u001b[0m\u001b[0;34m\u001b[0m\u001b[0;34m\u001b[0m\u001b[0m\n",
            "\u001b[0;32m/usr/local/lib/python3.7/dist-packages/pandas/core/generic.py\u001b[0m in \u001b[0;36m__nonzero__\u001b[0;34m(self)\u001b[0m\n\u001b[1;32m   1536\u001b[0m     \u001b[0;32mdef\u001b[0m \u001b[0m__nonzero__\u001b[0m\u001b[0;34m(\u001b[0m\u001b[0mself\u001b[0m\u001b[0;34m)\u001b[0m\u001b[0;34m:\u001b[0m\u001b[0;34m\u001b[0m\u001b[0;34m\u001b[0m\u001b[0m\n\u001b[1;32m   1537\u001b[0m         raise ValueError(\n\u001b[0;32m-> 1538\u001b[0;31m             \u001b[0;34mf\"The truth value of a {type(self).__name__} is ambiguous. \"\u001b[0m\u001b[0;34m\u001b[0m\u001b[0;34m\u001b[0m\u001b[0m\n\u001b[0m\u001b[1;32m   1539\u001b[0m             \u001b[0;34m\"Use a.empty, a.bool(), a.item(), a.any() or a.all().\"\u001b[0m\u001b[0;34m\u001b[0m\u001b[0;34m\u001b[0m\u001b[0m\n\u001b[1;32m   1540\u001b[0m         )\n",
            "\u001b[0;31mValueError\u001b[0m: The truth value of a DataFrame is ambiguous. Use a.empty, a.bool(), a.item(), a.any() or a.all()."
          ]
        },
        {
          "output_type": "display_data",
          "data": {
            "text/plain": [
              "<Figure size 432x288 with 1 Axes>"
            ],
            "image/png": "[encoded data removed]"
          },
          "metadata": {
            "needs_background": "light"
          }
        },
        {
          "output_type": "display_data",
          "data": {
            "text/plain": [
              "<Figure size 432x288 with 1 Axes>"
            ],
            "image/png": "[encoded data removed]"
          },
          "metadata": {
            "needs_background": "light"
          }
        }
      ]
    },
    {
      "cell_type": "code",
      "source": [
        "btr2 = fct.run_cppi(tmi_return[\"2007\":])\n",
        "ax = btr2[\"Wealth\"].plot(legend=False, figsize=(10, 5))\n",
        "btr2[\"Risky Wealth\"].plot(ax = ax, style=\"k--\", legend=False)"
      ],
      "metadata": {
        "colab": {
          "base_uri": "https://localhost:8080/",
          "height": 337
        },
        "id": "oMSocK98AIGE",
        "outputId": "79eca01b-3129-48e2-a7a4-1e9ec1c7e67d"
      },
      "execution_count": null,
      "outputs": [
        {
          "output_type": "execute_result",
          "data": {
            "text/plain": [
              "<matplotlib.axes._subplots.AxesSubplot at 0x7fbb32514d90>"
            ]
          },
          "metadata": {},
          "execution_count": 57
        },
        {
          "output_type": "display_data",
          "data": {
            "text/plain": [
              "<Figure size 720x360 with 1 Axes>"
            ],
            "image/png": "[encoded data removed]"
          },
          "metadata": {
            "needs_background": "light"
          }
        }
      ]
    },
    {
      "cell_type": "code",
      "source": [
        "btr3 = fct.run_cppi(ind[\"2007\":][[\"Steel\", \"Fin\", \"Beer\"]])  # les resultats du backtest\n",
        "ax = btr[\"Wealth\"].plot(figsize=(12,5)) \n",
        "btr3[\"Risky Wealth\"].plot(ax=ax, style=\"--\")"
      ],
      "metadata": {
        "colab": {
          "base_uri": "https://localhost:8080/",
          "height": 307
        },
        "id": "BM80Gwy9ARzW",
        "outputId": "fdb517c1-7e83-4b1c-d9d6-759369392041"
      },
      "execution_count": null,
      "outputs": [
        {
          "output_type": "execute_result",
          "data": {
            "text/plain": [
              "<matplotlib.axes._subplots.AxesSubplot at 0x7fbb324b1a10>"
            ]
          },
          "metadata": {},
          "execution_count": 59
        },
        {
          "output_type": "display_data",
          "data": {
            "text/plain": [
              "<Figure size 864x360 with 1 Axes>"
            ],
            "image/png": "[encoded data removed]"
          },
          "metadata": {
            "needs_background": "light"
          }
        }
      ]
    },
    {
      "cell_type": "markdown",
      "source": [
        "```python\n",
        "\n",
        "def summary_stats(r, riskfree_rate=0.03):\n",
        "    \"\"\"\n",
        "    Return a DataFrame that contains aggregated summary stats for the returns in the columns of r\n",
        "    \"\"\"\n",
        "    ann_r = r.aggregate(annualize_rets, periods_per_year=12)\n",
        "    ann_vol = r.aggregate(annualize_vol, periods_per_year=12)\n",
        "    ann_sr = r.aggregate(sharpe_ratio, riskfree_rate=riskfree_rate, periods_per_year=12)\n",
        "    dd = r.aggregate(lambda r: drawdown(r).Drawdown.min())\n",
        "    skew = r.aggregate(skewness)\n",
        "    kurt = r.aggregate(kurtosis)\n",
        "    cf_var5 = r.aggregate(var_gaussian, modified=True)\n",
        "    hist_cvar5 = r.aggregate(cvar_historic)\n",
        "    return pd.DataFrame({\n",
        "        \"Annualized Return\": ann_r,\n",
        "        \"Annualized Vol\": ann_vol,\n",
        "        \"Skewness\": skew,\n",
        "        \"Kurtosis\": kurt,\n",
        "        \"Cornish-Fisher VaR (5%)\": cf_var5,\n",
        "        \"Historic CVaR (5%)\": hist_cvar5,\n",
        "        \"Sharpe Ratio\": ann_sr,\n",
        "        \"Max Drawdown\": dd\n",
        "    })\n",
        "\n",
        "```"
      ],
      "metadata": {
        "id": "jTCsStT5An9r"
      }
    },
    {
      "cell_type": "code",
      "source": [
        "fct.summary_stats(btr3[\"Wealth\"].pct_change().dropna())  # convertir btr en des rendements \n",
        "# richesse de CPPI\n",
        "# l'indice du marché total a chuté d'environ 40 % dans steel ( max drawdown)"
      ],
      "metadata": {
        "colab": {
          "base_uri": "https://localhost:8080/",
          "height": 242
        },
        "id": "BtOL7aBpAuHD",
        "outputId": "495f9dc7-57d0-468e-cca0-423e09a013cc"
      },
      "execution_count": null,
      "outputs": [
        {
          "output_type": "execute_result",
          "data": {
            "text/plain": [
              "       Annualized Return  Annualized Vol  Skewness   Kurtosis  \\\n",
              "Steel          -0.014490        0.126906 -1.554266  11.668243   \n",
              "Fin             0.054690        0.109579 -0.254976   5.589082   \n",
              "Beer            0.101518        0.114363 -0.743585   4.527865   \n",
              "\n",
              "       Cornish-Fisher VaR (5%)  Historic CVaR (5%)  Sharpe Ratio  Max Drawdown  \n",
              "Steel                 0.068652            0.004543     -0.341351     -0.404132  \n",
              "Fin                   0.047503            0.000311      0.219159     -0.216868  \n",
              "Beer                  0.051074            0.001146      0.608531     -0.217280  "
            ],
            "text/html": [
              "\n",
              "  <div id=\"df-caf10452-135c-4288-ade1-de8b20701c09\">\n",
              "    <div class=\"colab-df-container\">\n",
              "      <div>\n",
              "<style scoped>\n",
              "    .dataframe tbody tr th:only-of-type {\n",
              "        vertical-align: middle;\n",
              "    }\n",
              "\n",
              "    .dataframe tbody tr th {\n",
              "        vertical-align: top;\n",
              "    }\n",
              "\n",
              "    .dataframe thead th {\n",
              "        text-align: right;\n",
              "    }\n",
              "</style>\n",
              "<table border=\"1\" class=\"dataframe\">\n",
              "  <thead>\n",
              "    <tr style=\"text-align: right;\">\n",
              "      <th></th>\n",
              "      <th>Annualized Return</th>\n",
              "      <th>Annualized Vol</th>\n",
              "      <th>Skewness</th>\n",
              "      <th>Kurtosis</th>\n",
              "      <th>Cornish-Fisher VaR (5%)</th>\n",
              "      <th>Historic CVaR (5%)</th>\n",
              "      <th>Sharpe Ratio</th>\n",
              "      <th>Max Drawdown</th>\n",
              "    </tr>\n",
              "  </thead>\n",
              "  <tbody>\n",
              "    <tr>\n",
              "      <th>Steel</th>\n",
              "      <td>-0.014490</td>\n",
              "      <td>0.126906</td>\n",
              "      <td>-1.554266</td>\n",
              "      <td>11.668243</td>\n",
              "      <td>0.068652</td>\n",
              "      <td>0.004543</td>\n",
              "      <td>-0.341351</td>\n",
              "      <td>-0.404132</td>\n",
              "    </tr>\n",
              "    <tr>\n",
              "      <th>Fin</th>\n",
              "      <td>0.054690</td>\n",
              "      <td>0.109579</td>\n",
              "      <td>-0.254976</td>\n",
              "      <td>5.589082</td>\n",
              "      <td>0.047503</td>\n",
              "      <td>0.000311</td>\n",
              "      <td>0.219159</td>\n",
              "      <td>-0.216868</td>\n",
              "    </tr>\n",
              "    <tr>\n",
              "      <th>Beer</th>\n",
              "      <td>0.101518</td>\n",
              "      <td>0.114363</td>\n",
              "      <td>-0.743585</td>\n",
              "      <td>4.527865</td>\n",
              "      <td>0.051074</td>\n",
              "      <td>0.001146</td>\n",
              "      <td>0.608531</td>\n",
              "      <td>-0.217280</td>\n",
              "    </tr>\n",
              "  </tbody>\n",
              "</table>\n",
              "</div>\n",
              "      <button class=\"colab-df-convert\" onclick=\"convertToInteractive('df-caf10452-135c-4288-ade1-de8b20701c09')\"\n",
              "              title=\"Convert this dataframe to an interactive table.\"\n",
              "              style=\"display:none;\">\n",
              "        \n",
              "  <svg xmlns=\"http://www.w3.org/2000/svg\" height=\"24px\"viewBox=\"0 0 24 24\"\n",
              "       width=\"24px\">\n",
              "    <path d=\"M0 0h24v24H0V0z\" fill=\"none\"/>\n",
              "    <path d=\"M18.56 5.44l.94 2.06.94-2.06 2.06-.94-2.06-.94-.94-2.06-.94 2.06-2.06.94zm-11 1L8.5 8.5l.94-2.06 2.06-.94-2.06-.94L8.5 2.5l-.94 2.06-2.06.94zm10 10l.94 2.06.94-2.06 2.06-.94-2.06-.94-.94-2.06-.94 2.06-2.06.94z\"/><path d=\"M17.41 7.96l-1.37-1.37c-.4-.4-.92-.59-1.43-.59-.52 0-1.04.2-1.43.59L10.3 9.45l-7.72 7.72c-.78.78-.78 2.05 0 2.83L4 21.41c.39.39.9.59 1.41.59.51 0 1.02-.2 1.41-.59l7.78-7.78 2.81-2.81c.8-.78.8-2.07 0-2.86zM5.41 20L4 18.59l7.72-7.72 1.47 1.35L5.41 20z\"/>\n",
              "  </svg>\n",
              "      </button>\n",
              "      \n",
              "  <style>\n",
              "    .colab-df-container {\n",
              "      display:flex;\n",
              "      flex-wrap:wrap;\n",
              "      gap: 12px;\n",
              "    }\n",
              "\n",
              "    .colab-df-convert {\n",
              "      background-color: #E8F0FE;\n",
              "      border: none;\n",
              "      border-radius: 50%;\n",
              "      cursor: pointer;\n",
              "      display: none;\n",
              "      fill: #1967D2;\n",
              "      height: 32px;\n",
              "      padding: 0 0 0 0;\n",
              "      width: 32px;\n",
              "    }\n",
              "\n",
              "    .colab-df-convert:hover {\n",
              "      background-color: #E2EBFA;\n",
              "      box-shadow: 0px 1px 2px rgba(60, 64, 67, 0.3), 0px 1px 3px 1px rgba(60, 64, 67, 0.15);\n",
              "      fill: #174EA6;\n",
              "    }\n",
              "\n",
              "    [theme=dark] .colab-df-convert {\n",
              "      background-color: #3B4455;\n",
              "      fill: #D2E3FC;\n",
              "    }\n",
              "\n",
              "    [theme=dark] .colab-df-convert:hover {\n",
              "      background-color: #434B5C;\n",
              "      box-shadow: 0px 1px 3px 1px rgba(0, 0, 0, 0.15);\n",
              "      filter: drop-shadow(0px 1px 2px rgba(0, 0, 0, 0.3));\n",
              "      fill: #FFFFFF;\n",
              "    }\n",
              "  </style>\n",
              "\n",
              "      <script>\n",
              "        const buttonEl =\n",
              "          document.querySelector('#df-caf10452-135c-4288-ade1-de8b20701c09 button.colab-df-convert');\n",
              "        buttonEl.style.display =\n",
              "          google.colab.kernel.accessAllowed ? 'block' : 'none';\n",
              "\n",
              "        async function convertToInteractive(key) {\n",
              "          const element = document.querySelector('#df-caf10452-135c-4288-ade1-de8b20701c09');\n",
              "          const dataTable =\n",
              "            await google.colab.kernel.invokeFunction('convertToInteractive',\n",
              "                                                     [key], {});\n",
              "          if (!dataTable) return;\n",
              "\n",
              "          const docLinkHtml = 'Like what you see? Visit the ' +\n",
              "            '<a target=\"_blank\" href=https://colab.research.google.com/notebooks/data_table.ipynb>data table notebook</a>'\n",
              "            + ' to learn more about interactive tables.';\n",
              "          element.innerHTML = '';\n",
              "          dataTable['output_type'] = 'display_data';\n",
              "          await google.colab.output.renderOutput(dataTable, element);\n",
              "          const docLink = document.createElement('div');\n",
              "          docLink.innerHTML = docLinkHtml;\n",
              "          element.appendChild(docLink);\n",
              "        }\n",
              "      </script>\n",
              "    </div>\n",
              "  </div>\n",
              "  "
            ]
          },
          "metadata": {},
          "execution_count": 60
        }
      ]
    },
    {
      "cell_type": "code",
      "source": [
        "fct.summary_stats(btr3[\"Risky Wealth\"].pct_change().dropna())\n",
        "# richesse ss CPPI"
      ],
      "metadata": {
        "colab": {
          "base_uri": "https://localhost:8080/",
          "height": 242
        },
        "id": "9GtQR82kA2L_",
        "outputId": "15196c9a-2fd3-4977-9701-2a73fca53dcc"
      },
      "execution_count": null,
      "outputs": [
        {
          "output_type": "execute_result",
          "data": {
            "text/plain": [
              "       Annualized Return  Annualized Vol  Skewness  Kurtosis  \\\n",
              "Steel          -0.039660        0.306407 -0.459951  4.782828   \n",
              "Fin             0.027364        0.212204 -0.695200  4.621401   \n",
              "Beer            0.111554        0.127971 -0.670797  4.650878   \n",
              "\n",
              "       Cornish-Fisher VaR (5%)  Historic CVaR (5%)  Sharpe Ratio  Max Drawdown  \n",
              "Steel                 0.152288            0.009735     -0.221642     -0.758017  \n",
              "Fin                   0.105744           -0.000156     -0.012370     -0.718465  \n",
              "Beer                  0.056497           -0.000083      0.620132     -0.271368  "
            ],
            "text/html": [
              "\n",
              "  <div id=\"df-af712010-0002-40d8-ae52-7c4512d6a405\">\n",
              "    <div class=\"colab-df-container\">\n",
              "      <div>\n",
              "<style scoped>\n",
              "    .dataframe tbody tr th:only-of-type {\n",
              "        vertical-align: middle;\n",
              "    }\n",
              "\n",
              "    .dataframe tbody tr th {\n",
              "        vertical-align: top;\n",
              "    }\n",
              "\n",
              "    .dataframe thead th {\n",
              "        text-align: right;\n",
              "    }\n",
              "</style>\n",
              "<table border=\"1\" class=\"dataframe\">\n",
              "  <thead>\n",
              "    <tr style=\"text-align: right;\">\n",
              "      <th></th>\n",
              "      <th>Annualized Return</th>\n",
              "      <th>Annualized Vol</th>\n",
              "      <th>Skewness</th>\n",
              "      <th>Kurtosis</th>\n",
              "      <th>Cornish-Fisher VaR (5%)</th>\n",
              "      <th>Historic CVaR (5%)</th>\n",
              "      <th>Sharpe Ratio</th>\n",
              "      <th>Max Drawdown</th>\n",
              "    </tr>\n",
              "  </thead>\n",
              "  <tbody>\n",
              "    <tr>\n",
              "      <th>Steel</th>\n",
              "      <td>-0.039660</td>\n",
              "      <td>0.306407</td>\n",
              "      <td>-0.459951</td>\n",
              "      <td>4.782828</td>\n",
              "      <td>0.152288</td>\n",
              "      <td>0.009735</td>\n",
              "      <td>-0.221642</td>\n",
              "      <td>-0.758017</td>\n",
              "    </tr>\n",
              "    <tr>\n",
              "      <th>Fin</th>\n",
              "      <td>0.027364</td>\n",
              "      <td>0.212204</td>\n",
              "      <td>-0.695200</td>\n",
              "      <td>4.621401</td>\n",
              "      <td>0.105744</td>\n",
              "      <td>-0.000156</td>\n",
              "      <td>-0.012370</td>\n",
              "      <td>-0.718465</td>\n",
              "    </tr>\n",
              "    <tr>\n",
              "      <th>Beer</th>\n",
              "      <td>0.111554</td>\n",
              "      <td>0.127971</td>\n",
              "      <td>-0.670797</td>\n",
              "      <td>4.650878</td>\n",
              "      <td>0.056497</td>\n",
              "      <td>-0.000083</td>\n",
              "      <td>0.620132</td>\n",
              "      <td>-0.271368</td>\n",
              "    </tr>\n",
              "  </tbody>\n",
              "</table>\n",
              "</div>\n",
              "      <button class=\"colab-df-convert\" onclick=\"convertToInteractive('df-af712010-0002-40d8-ae52-7c4512d6a405')\"\n",
              "              title=\"Convert this dataframe to an interactive table.\"\n",
              "              style=\"display:none;\">\n",
              "        \n",
              "  <svg xmlns=\"http://www.w3.org/2000/svg\" height=\"24px\"viewBox=\"0 0 24 24\"\n",
              "       width=\"24px\">\n",
              "    <path d=\"M0 0h24v24H0V0z\" fill=\"none\"/>\n",
              "    <path d=\"M18.56 5.44l.94 2.06.94-2.06 2.06-.94-2.06-.94-.94-2.06-.94 2.06-2.06.94zm-11 1L8.5 8.5l.94-2.06 2.06-.94-2.06-.94L8.5 2.5l-.94 2.06-2.06.94zm10 10l.94 2.06.94-2.06 2.06-.94-2.06-.94-.94-2.06-.94 2.06-2.06.94z\"/><path d=\"M17.41 7.96l-1.37-1.37c-.4-.4-.92-.59-1.43-.59-.52 0-1.04.2-1.43.59L10.3 9.45l-7.72 7.72c-.78.78-.78 2.05 0 2.83L4 21.41c.39.39.9.59 1.41.59.51 0 1.02-.2 1.41-.59l7.78-7.78 2.81-2.81c.8-.78.8-2.07 0-2.86zM5.41 20L4 18.59l7.72-7.72 1.47 1.35L5.41 20z\"/>\n",
              "  </svg>\n",
              "      </button>\n",
              "      \n",
              "  <style>\n",
              "    .colab-df-container {\n",
              "      display:flex;\n",
              "      flex-wrap:wrap;\n",
              "      gap: 12px;\n",
              "    }\n",
              "\n",
              "    .colab-df-convert {\n",
              "      background-color: #E8F0FE;\n",
              "      border: none;\n",
              "      border-radius: 50%;\n",
              "      cursor: pointer;\n",
              "      display: none;\n",
              "      fill: #1967D2;\n",
              "      height: 32px;\n",
              "      padding: 0 0 0 0;\n",
              "      width: 32px;\n",
              "    }\n",
              "\n",
              "    .colab-df-convert:hover {\n",
              "      background-color: #E2EBFA;\n",
              "      box-shadow: 0px 1px 2px rgba(60, 64, 67, 0.3), 0px 1px 3px 1px rgba(60, 64, 67, 0.15);\n",
              "      fill: #174EA6;\n",
              "    }\n",
              "\n",
              "    [theme=dark] .colab-df-convert {\n",
              "      background-color: #3B4455;\n",
              "      fill: #D2E3FC;\n",
              "    }\n",
              "\n",
              "    [theme=dark] .colab-df-convert:hover {\n",
              "      background-color: #434B5C;\n",
              "      box-shadow: 0px 1px 3px 1px rgba(0, 0, 0, 0.15);\n",
              "      filter: drop-shadow(0px 1px 2px rgba(0, 0, 0, 0.3));\n",
              "      fill: #FFFFFF;\n",
              "    }\n",
              "  </style>\n",
              "\n",
              "      <script>\n",
              "        const buttonEl =\n",
              "          document.querySelector('#df-af712010-0002-40d8-ae52-7c4512d6a405 button.colab-df-convert');\n",
              "        buttonEl.style.display =\n",
              "          google.colab.kernel.accessAllowed ? 'block' : 'none';\n",
              "\n",
              "        async function convertToInteractive(key) {\n",
              "          const element = document.querySelector('#df-af712010-0002-40d8-ae52-7c4512d6a405');\n",
              "          const dataTable =\n",
              "            await google.colab.kernel.invokeFunction('convertToInteractive',\n",
              "                                                     [key], {});\n",
              "          if (!dataTable) return;\n",
              "\n",
              "          const docLinkHtml = 'Like what you see? Visit the ' +\n",
              "            '<a target=\"_blank\" href=https://colab.research.google.com/notebooks/data_table.ipynb>data table notebook</a>'\n",
              "            + ' to learn more about interactive tables.';\n",
              "          element.innerHTML = '';\n",
              "          dataTable['output_type'] = 'display_data';\n",
              "          await google.colab.output.renderOutput(dataTable, element);\n",
              "          const docLink = document.createElement('div');\n",
              "          docLink.innerHTML = docLinkHtml;\n",
              "          element.appendChild(docLink);\n",
              "        }\n",
              "      </script>\n",
              "    </div>\n",
              "  </div>\n",
              "  "
            ]
          },
          "metadata": {},
          "execution_count": 61
        }
      ]
    },
    {
      "cell_type": "code",
      "source": [
        "btr4 = fct.run_cppi(tmi_return[\"2000\":\"2008\"])\n",
        "ax = btr4[\"Wealth\"].plot(legend=False, figsize=(10, 5))\n",
        "btr4[\"Risky Wealth\"].plot(ax = ax, style=\"k--\", legend=False)"
      ],
      "metadata": {
        "colab": {
          "base_uri": "https://localhost:8080/",
          "height": 337
        },
        "id": "DJkDqcMoBAcf",
        "outputId": "b84acd20-469d-4ef2-dc54-291fee39d71e"
      },
      "execution_count": null,
      "outputs": [
        {
          "output_type": "execute_result",
          "data": {
            "text/plain": [
              "<matplotlib.axes._subplots.AxesSubplot at 0x7fbb3242c690>"
            ]
          },
          "metadata": {},
          "execution_count": 63
        },
        {
          "output_type": "display_data",
          "data": {
            "text/plain": [
              "<Figure size 720x360 with 1 Axes>"
            ],
            "image/png": "[encoded data removed]"
          },
          "metadata": {
            "needs_background": "light"
          }
        }
      ]
    }
  ]
}